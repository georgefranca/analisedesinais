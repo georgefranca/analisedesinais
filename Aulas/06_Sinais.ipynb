{
 "cells": [
  {
   "cell_type": "markdown",
   "id": "423ae547",
   "metadata": {},
   "source": [
    "# 1. Introdução\n",
    "\n",
    "Até o momento, salvo poucas exceções, lidamos apenas com definições relacionadas a funções contínuas. Para trabalhar com dados no computador, entretanto, é necessário que o sinal contínuo passe por **discretização**, ou seja, obtenção de amostras com espaçamento adequado no tempo ou no espaço, de forma a representar o sinal contínuo original. Em Geofísica, na prática trabalhamos apenas com sinal discreto.\n",
    "\n",
    "Para facilitar o entendimento de algumas propriedades básicas do sinal discreto, vamos utilizar sinais básicos que representam **ondas**. Há muitos exemplos de ondas que podemos citar, como ondas sonoras, ondas em uma corda, ondas de terremotos, microondas, etc, mas podemos definir uma onda como uma perturbação que viaja através do espaço transferindo energia de um lugar para outro.\n",
    "\n",
    "# 2. Características do sinal discreto"
   ]
  },
  {
   "cell_type": "code",
   "execution_count": null,
   "id": "d08e5747",
   "metadata": {},
   "outputs": [],
   "source": [
    "# importando bibliotecas\n",
    "import numpy as np\n",
    "import matplotlib.pyplot as plt"
   ]
  },
  {
   "cell_type": "code",
   "execution_count": null,
   "id": "b820d197",
   "metadata": {},
   "outputs": [],
   "source": [
    "# vamos criar um vetor de tempo de 20 s com 80 amostras\n",
    "t = np.linspace(0, 20, 80)\n",
    "\n",
    "# agora, vamos pegar uma função seno, que é contínua, e discretizá-la\n",
    "# nos pontos correspondentes ao nosso vetor de tempos\n",
    "y = np.sin(t)\n",
    "\n",
    "# plotando\n",
    "plt.plot(t, y, color=\"black\")\n",
    "plt.plot(t, y, '.', color=\"red\")\n",
    "plt.ylabel(\"Amplitude\")\n",
    "plt.xlabel(\"Tempo\");"
   ]
  },
  {
   "cell_type": "markdown",
   "id": "99fb3937",
   "metadata": {},
   "source": [
    "Os pontos vermelhos representam a discretização no tempo do sinal contínuo que fizemos, isto é, somente nesses pontos nós amostramos o valor da onda."
   ]
  },
  {
   "cell_type": "markdown",
   "id": "3f86d2ab",
   "metadata": {},
   "source": [
    "Algumas características importantes de ondas são a amplitude, o período, o comprimento de onda e a frequência:\n",
    "\n",
    "- Amplitude: descreve a diferença entre o pico máximo da função e o valor de base. No exemplo anterior, o valor da amplitude é igual a 1 (pico em 1 e valor de base igual a zero);\n",
    "- Período: é o tempo necessário para que o sinal se repita. Uma função seno é periódica, mas repare que há diversos sinais aperiódicos;\n",
    "- Comprimento de onda: é a distância entre dois vales ou dois picos de uma onda (domínio do espaço);\n",
    "- Frequência: pode ser descrita como o número de ciclos em um segundo, ou seja, quantas vezes a onda passa por um ponto fixo em um segundo. A unidade da frequência é ciclos/segundo ou Hertz (Hz), e a relação entre período ($T$) e frequência ($f$) é dada por: $T = 1/f$.\n",
    "\n",
    "Quando trabalhamos com sinal discreto, precisamos específicar o quanto a onda será amostrada no tempo, ou seja, a sua **taxa de amostragem**, com unidade Hz. No exemplo anterior, cada segundo é representado por quatro amostras, ou seja, a taxa de amostragem é de 4 Hz. Com essas definições em mente, vamos representar uma onda seno da seguinte forma:\n",
    "\n",
    "$\\large y(t) = Asin(\\omega t + \\phi)$\n",
    "\n",
    "onde A é a amplitude da onda, $\\omega$ é a **frequência angular**, que especifica quantos ciclos ocorrem em um segundo, em radianos por segundo e $\\phi$ é a fase do sinal. A relação entre período, frequência e frequência angular é dada por:\n",
    "\n",
    "$\\large \\omega = \\frac{2\\pi}{T} = 2\\pi f$"
   ]
  },
  {
   "cell_type": "markdown",
   "id": "431ec1b0",
   "metadata": {},
   "source": [
    "**Exemplo.** Gere duas ondas seno entre 0 e 1 segundos, com frequências de 5 Hz e 10 Hz, respectivamente, ambas com taxa de amostragem de 100 Hz. Plote os resultados."
   ]
  },
  {
   "cell_type": "code",
   "execution_count": null,
   "id": "bc956d5b",
   "metadata": {},
   "outputs": [],
   "source": [
    "# taxa de amostragem\n",
    "sr = 100.0\n",
    "# intervalo de amostragem\n",
    "ts = 1.0/sr\n",
    "# vetor de tempos\n",
    "t = np.arange(0, 1, ts)\n",
    "\n",
    "# onda seno com f = 5 Hz\n",
    "freq = 5.0\n",
    "y = np.sin(2*np.pi*freq*t)\n",
    "\n",
    "plt.figure()\n",
    "plt.plot(t, y, color=\"black\")\n",
    "plt.plot(t, y, '.', color=\"green\")\n",
    "\n",
    "\n",
    "# onda seno com f = 10 Hz\n",
    "\n",
    "freq = 10.0\n",
    "y = np.sin(2*np.pi*freq*t)\n",
    "\n",
    "plt.figure()\n",
    "plt.plot(t, y, color=\"black\")\n",
    "plt.plot(t, y, '.', color=\"green\");"
   ]
  },
  {
   "cell_type": "markdown",
   "id": "f73e5ab7",
   "metadata": {},
   "source": [
    "**Exercício.** Agora, para analisar a influência da fase e da amplitude, gere duas ondas seno entre 0 e 1 segundos com frequência de 5 Hz e taxa de amostragem de 100 Hz, mas iguale a fase a zero e a amplitude a 5 no primeiro caso, e a amplitude a 10 e a fase a $\\pi/3$ radianos no outro. Plote os resultados."
   ]
  },
  {
   "cell_type": "code",
   "execution_count": null,
   "id": "3449507b",
   "metadata": {},
   "outputs": [],
   "source": []
  },
  {
   "cell_type": "markdown",
   "id": "0328848b",
   "metadata": {},
   "source": [
    "**Exercício.** Gere duas ondas seno entre 0 e 1 segundos, ambas com frequência de 5 Hz e taxa de amostragem de 100 Hz, mas com uma diferença de fase de $\\pi$ radianos e plote os resultados. Some as duas ondas e plote uma terceira figura."
   ]
  },
  {
   "cell_type": "code",
   "execution_count": null,
   "id": "3afc8261",
   "metadata": {},
   "outputs": [],
   "source": []
  },
  {
   "cell_type": "markdown",
   "id": "5ace8ab6",
   "metadata": {},
   "source": [
    "# 3. Convolução\n",
    "\n",
    "A convolução entre dois sinais discretos $x = [x_1, x_2, ...]$ e $h = [h_1, h_2, ...]$ é dada por:\n",
    "\n",
    "$\\large \\displaystyle{x[n]*h[n] = \\sum\\limits_{k=-\\infty}^{\\infty} x[k]h[n-k]}$\n",
    "\n",
    "O comprimento L do sinal dado pela convolução entre dois sinais de comprimento $L_1$ e $L_2$, respectivamente, é dado por:\n",
    "\n",
    "$\\large L = L_1 + L_2 - 1$\n",
    "\n",
    "Além disso, se os valores não negativos de $x(n)$ estão contidos no intervalo $[x_{min}, x_{max}]$, e os valores não negativos de $h_n$ estão contidos em $[h_{min}, x_{max}]$, então os valores de $x(k)*h(k)$ estão contidos em $[x_{min}+h_{min}, x_{max}+h_{max}]$. Tendo isso em mente, vamos definir uma função para calcular e plotar a convolução entre dois sinais simples."
   ]
  },
  {
   "cell_type": "code",
   "execution_count": null,
   "id": "9f3df7c7",
   "metadata": {},
   "outputs": [],
   "source": [
    "def calc_conv(x, x_dom, h, h_dom):\n",
    "    # calculando o domínio\n",
    "    y_dom_min = x_dom[0] + h_dom[0]\n",
    "    y_dom_max = x_dom[-1] + h_dom[-1]\n",
    "    y_dom = np.arange(y_dom_min, y_dom_max+1, 1)\n",
    "    \n",
    "    # calculando a deconvolução\n",
    "    y = np.convolve(x, h)\n",
    "    \n",
    "    # plotando x\n",
    "    plt.figure(figsize=(10, 8))\n",
    "    plt.subplot(221)\n",
    "    plt.title(\"x(k)\")\n",
    "    plt.stem(x_dom, x)\n",
    "    # plotando h\n",
    "    plt.subplot(222)\n",
    "    plt.title(\"h(k)\")\n",
    "    plt.stem(h_dom, h)\n",
    "    # plotando x*h\n",
    "    plt.subplot(223)\n",
    "    plt.title(\"x(k)*h(k)\")\n",
    "    plt.stem(y_dom, y);"
   ]
  },
  {
   "cell_type": "code",
   "execution_count": null,
   "id": "f960e4bc",
   "metadata": {},
   "outputs": [],
   "source": [
    "calc_conv([1, 1, 1], [0, 1, 2], [1, 0, 1], [0, 1, 2])"
   ]
  },
  {
   "cell_type": "markdown",
   "id": "dc3a0370",
   "metadata": {},
   "source": [
    "**Exercício.** Encontre e plote a convolução entre $x = [1, 0, 1, 2, -2]$ definido em $[-3, -2, -1, 0, 1]$ e $h = [3, 2, 0, 0, 1, -1]$ definido em $[-1, 0, 1, 2, 3, 4]$."
   ]
  },
  {
   "cell_type": "code",
   "execution_count": null,
   "id": "8c332616",
   "metadata": {},
   "outputs": [],
   "source": []
  },
  {
   "cell_type": "markdown",
   "id": "cd505c65",
   "metadata": {},
   "source": [
    "Vamos agora trabalhar com sinais um pouco mais complexos e realizar a convolução entre um sinal seno e um cosseno. Para tanto, primeiramente vamos analisar qual seria a solução analítica de tal operação, utilizando o `Sympy` e a definição de convolução."
   ]
  },
  {
   "cell_type": "code",
   "execution_count": null,
   "id": "513701f7",
   "metadata": {},
   "outputs": [],
   "source": [
    "import sympy as smp\n",
    "\n",
    "t, tau = smp.symbols('t tau')\n",
    "sol = smp.integrate(smp.sin(t - tau) * smp.cos(tau), (tau, 0, t))\n",
    "sol"
   ]
  },
  {
   "cell_type": "code",
   "execution_count": null,
   "id": "2918110f",
   "metadata": {},
   "outputs": [],
   "source": [
    "# Vamos plotar esse resultado\n",
    "\n",
    "n = 1000 # número de amostras\n",
    "t = np.linspace(0, 10, n) # vetor de tempo\n",
    "dt = t[1] - t[0]\n",
    "\n",
    "# calculando a convolução com a expressão analítica\n",
    "y1 = (t * np.sin(t))/2\n",
    "\n",
    "plt.plot(t, y1);"
   ]
  },
  {
   "cell_type": "code",
   "execution_count": null,
   "id": "6830beaf",
   "metadata": {},
   "outputs": [],
   "source": [
    "# Vamos agora tentar obter o mesmo resultado utilizando o np.convolve\n",
    "\n",
    "f = np.sin(t)\n",
    "g = np.cos(t)\n",
    "\n",
    "# modo full é a def. matemática de convolução, mas existem também os modos\n",
    "# same e valid, procure a documentação caso tenha interesse\n",
    "y2 = np.convolve(f, g, mode='full')\n",
    "plt.plot(y2);"
   ]
  },
  {
   "cell_type": "markdown",
   "id": "5916e7e2",
   "metadata": {},
   "source": [
    "Perceba que há uma semelhança entre os dois resultados, mas para \"imitar\" o resultado analítico mais algumas etapas precisam ser feitas. Primeiramente, o método convolve do `Numpy` utiliza soma, e para fazer uma integração aproximada é necessário multiplicar o resultado por dt. Segundo, é preciso truncar o resultado ao tamanho de n. Vamos ver como fica o resultado agora."
   ]
  },
  {
   "cell_type": "code",
   "execution_count": null,
   "id": "35e30cb2",
   "metadata": {},
   "outputs": [],
   "source": [
    "y3 = np.convolve(f, g, mode='full')[:n] * dt\n",
    "plt.plot(t, y3);"
   ]
  },
  {
   "cell_type": "markdown",
   "id": "4d3c7178",
   "metadata": {},
   "source": [
    "Agora obtivemos algo mais próximo do resultado analítico.\n",
    "\n",
    "**Exercício.** Calcule e plote a convolução entre uma função seno e um pulso retangular. Varie a posição, a largura e a amplitude da caixa e veja como isso afeta a convolução. Teste também utilizar um cosseno em vez de um seno."
   ]
  },
  {
   "cell_type": "code",
   "execution_count": null,
   "id": "6f32778b",
   "metadata": {},
   "outputs": [],
   "source": []
  }
 ],
 "metadata": {
  "kernelspec": {
   "display_name": "Python 3 (ipykernel)",
   "language": "python",
   "name": "python3"
  },
  "language_info": {
   "codemirror_mode": {
    "name": "ipython",
    "version": 3
   },
   "file_extension": ".py",
   "mimetype": "text/x-python",
   "name": "python",
   "nbconvert_exporter": "python",
   "pygments_lexer": "ipython3",
   "version": "3.7.12"
  }
 },
 "nbformat": 4,
 "nbformat_minor": 5
}
