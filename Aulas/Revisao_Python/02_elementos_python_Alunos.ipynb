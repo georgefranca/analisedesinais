{
 "cells": [
  {
   "cell_type": "markdown",
   "metadata": {},
   "source": [
    "## Elementos Python\n",
    "### Listas\n",
    "* lista eh um dos 4 elementos \"_built in_\" do python\n",
    "* listas sao utilizadas para armazenar itens em uma unica variavel (inclusive outras listas)\n",
    "* listas sao ordenadas, mutaveis, aceitam valores duplicados\n",
    "* Ordenadas: Os itens possuem posicao fixa e nao mudarao se novos itens forem adicionados\n",
    "* mutaveis: podemos adicionar e remover itens de uma lista\n",
    "* Valores duplicados: por ser indexada (ordenada) ela pode ter itens iguais\n",
    "\n",
    "* criamos uma lista com uma operacaod e atribuicao e definida por \"[  ]\"\n"
   ]
  },
  {
   "cell_type": "markdown",
   "metadata": {},
   "source": [
    "#### Criando listas\n",
    "* lista sao criadas com uma operacao de atribuicao\n",
    "* sao criadas com \"[ ]\"\n",
    "* Podem ser criadas explicitamente com a funcao _list( )_"
   ]
  },
  {
   "cell_type": "code",
   "execution_count": 2,
   "metadata": {},
   "outputs": [],
   "source": []
  },
  {
   "cell_type": "code",
   "execution_count": null,
   "metadata": {},
   "outputs": [],
   "source": []
  },
  {
   "cell_type": "markdown",
   "metadata": {},
   "source": [
    "#### Acessando itens da lista\n",
    "* Podemos fazer uma serie de operacoes com lista\n",
    "* o acesso a elementos eh feito via indexacao\n",
    "* podemos testar a igualdade entre lista\n",
    "* podemos testar igualdade entre elementos das listas\n",
    "* podemos acessar elementos de uma lista e testar a o seu tipo\n",
    "* Podemos indexar elementos de uma lista a partir de intervalos"
   ]
  },
  {
   "cell_type": "markdown",
   "metadata": {},
   "source": [
    "* por exemplo, vamos criar uma lista com os elementos \"maca\", \"banana\" ,\"maca\",8, 10,True"
   ]
  },
  {
   "cell_type": "code",
   "execution_count": null,
   "metadata": {},
   "outputs": [],
   "source": []
  },
  {
   "cell_type": "code",
   "execution_count": null,
   "metadata": {},
   "outputs": [],
   "source": []
  },
  {
   "cell_type": "code",
   "execution_count": null,
   "metadata": {},
   "outputs": [],
   "source": []
  },
  {
   "cell_type": "code",
   "execution_count": null,
   "metadata": {},
   "outputs": [],
   "source": []
  },
  {
   "cell_type": "code",
   "execution_count": null,
   "metadata": {},
   "outputs": [],
   "source": []
  },
  {
   "cell_type": "code",
   "execution_count": null,
   "metadata": {},
   "outputs": [],
   "source": []
  },
  {
   "cell_type": "code",
   "execution_count": null,
   "metadata": {},
   "outputs": [],
   "source": []
  },
  {
   "cell_type": "code",
   "execution_count": null,
   "metadata": {},
   "outputs": [],
   "source": []
  },
  {
   "cell_type": "code",
   "execution_count": null,
   "metadata": {},
   "outputs": [],
   "source": []
  },
  {
   "cell_type": "code",
   "execution_count": null,
   "metadata": {},
   "outputs": [],
   "source": []
  },
  {
   "cell_type": "markdown",
   "metadata": {},
   "source": [
    "#### Alterando uma lista"
   ]
  },
  {
   "cell_type": "code",
   "execution_count": null,
   "metadata": {},
   "outputs": [],
   "source": [
    "# Lista"
   ]
  },
  {
   "cell_type": "code",
   "execution_count": 3,
   "metadata": {},
   "outputs": [],
   "source": [
    "#queremos alterar a banana por abacaxi e o verdadeiro por falso"
   ]
  },
  {
   "cell_type": "code",
   "execution_count": null,
   "metadata": {},
   "outputs": [],
   "source": []
  },
  {
   "cell_type": "markdown",
   "metadata": {},
   "source": [
    "* cuidado com a alteracao de listas que foram assinaladas como igual\n",
    "\n",
    "* Crie uma lista que seja \"igual\" lista criada\n",
    "* teste se as listas sao o mesmo objeto usando \"is\"\n",
    "* altere qualquer elemento da lista1\n",
    "* mande imprimir a lista dois"
   ]
  },
  {
   "cell_type": "code",
   "execution_count": null,
   "metadata": {},
   "outputs": [],
   "source": [
    "\n"
   ]
  },
  {
   "cell_type": "code",
   "execution_count": null,
   "metadata": {},
   "outputs": [],
   "source": []
  },
  {
   "cell_type": "code",
   "execution_count": null,
   "metadata": {},
   "outputs": [],
   "source": []
  },
  {
   "cell_type": "code",
   "execution_count": null,
   "metadata": {},
   "outputs": [],
   "source": []
  },
  {
   "cell_type": "markdown",
   "metadata": {},
   "source": [
    "* agora refaca todo o procedimento, porem no lugar de lista2 = lista1 faca:\n",
    "    * lista2 = lista1.copy()"
   ]
  },
  {
   "cell_type": "markdown",
   "metadata": {},
   "source": [
    "#### Adicionando itens a uma lista\n",
    "muitos objetos possuem \"metodos\" que sao operacoes inerentes a cada objeto.<br>\n",
    "No caso das listas elas possuem alguns metodos para adicionar novos itens. o _append_ e o _insert_\n",
    "\n",
    "* lista.append(elemento)\n",
    "* lista.insert(posicao, elemento)"
   ]
  },
  {
   "cell_type": "code",
   "execution_count": 32,
   "metadata": {},
   "outputs": [],
   "source": [
    "# O append adiciona um item ao final da lista\n",
    "# dada a lista, adicione um numero complexo qualquer\n",
    "lista3  = [\"maca\", \"banana\", \"maca\", 8, 10, True]"
   ]
  },
  {
   "cell_type": "code",
   "execution_count": null,
   "metadata": {},
   "outputs": [],
   "source": []
  },
  {
   "cell_type": "code",
   "execution_count": null,
   "metadata": {},
   "outputs": [],
   "source": []
  },
  {
   "cell_type": "markdown",
   "metadata": {},
   "source": [
    "#### Removendo item de uma lista\n",
    "Ha dois metodos para a remocao de itens de uma lista, o \"_remove_\"que remove uma variavel declarada e o \"_pop_\" que remove um indice em especial\n",
    "\n",
    "* lista.remove(elemento)\n",
    "* lista.pop(indice)"
   ]
  },
  {
   "cell_type": "code",
   "execution_count": 8,
   "metadata": {},
   "outputs": [],
   "source": [
    "lista3  = [\"maca\", \"banana\", \"maca\", 8, 10, True]\n"
   ]
  },
  {
   "cell_type": "code",
   "execution_count": null,
   "metadata": {},
   "outputs": [],
   "source": []
  },
  {
   "cell_type": "code",
   "execution_count": null,
   "metadata": {},
   "outputs": [],
   "source": []
  },
  {
   "cell_type": "code",
   "execution_count": null,
   "metadata": {},
   "outputs": [],
   "source": []
  },
  {
   "cell_type": "markdown",
   "metadata": {},
   "source": [
    "#### Operacoes entre listas \n",
    "* assim como strings, eh possivel fazer algumas operacoes com listas\n",
    "* operacoes de soma e multiplicacao"
   ]
  },
  {
   "cell_type": "code",
   "execution_count": 9,
   "metadata": {},
   "outputs": [],
   "source": [
    "lista6 = [1,2,3,4]\n",
    "lista7 = [5,6,7,8]\n"
   ]
  },
  {
   "cell_type": "code",
   "execution_count": null,
   "metadata": {},
   "outputs": [],
   "source": []
  },
  {
   "cell_type": "markdown",
   "metadata": {},
   "source": [
    "### Tuplas \n",
    "* A tupla, assim como a lista, é um elemento capaz de guardar diversas variaveis\n",
    "* As tuplas sao criadas com \"(  )\"\n",
    "* As tuplas sao ordenadas (indexadas) e **imutaveis** \n",
    "* Por serem imutaveis sao bastante uteis para quando queremos garantir que uma variaval nao se alterara\n",
    "<br><br>\n",
    "* var = ( )\n",
    "* ou ainda mais esplicito:\n",
    "    * var = tuple( )\n",
    "<br><br>\n",
    "* crie uma tupla com os elementos 1,2,\"geologia, \"petrofisica\n",
    "* imprima a variavel criada\n",
    "* imprima o tipo da variavel criada"
   ]
  },
  {
   "cell_type": "code",
   "execution_count": null,
   "metadata": {},
   "outputs": [],
   "source": []
  },
  {
   "cell_type": "code",
   "execution_count": null,
   "metadata": {},
   "outputs": [],
   "source": []
  },
  {
   "cell_type": "markdown",
   "metadata": {},
   "source": [
    "#### Ordenadas\n",
    "* Quer dizer que sao indexadas\n",
    "\n",
    "<br>\n",
    "\n",
    "* imprima cada elemento da tupla pelo seu indic"
   ]
  },
  {
   "cell_type": "code",
   "execution_count": null,
   "metadata": {},
   "outputs": [],
   "source": []
  },
  {
   "cell_type": "markdown",
   "metadata": {},
   "source": [
    "#### Imutaveis\n",
    "* nao eh possivel alterar uma tupla\n",
    "* muito util para garantirmo que elementos _hard_ nao serao alterados\n",
    "<br><br>\n",
    "\n",
    "* tente substituir o elemento \"geologia\" por \"geofisica\""
   ]
  },
  {
   "cell_type": "code",
   "execution_count": null,
   "metadata": {},
   "outputs": [],
   "source": []
  },
  {
   "cell_type": "code",
   "execution_count": null,
   "metadata": {},
   "outputs": [],
   "source": []
  },
  {
   "cell_type": "markdown",
   "metadata": {},
   "source": [
    "Uma funcao muitas vezes util e saber qual o tamanho de uma tupla ou de uma lista\n",
    "\n",
    "a funcao _len( )_ eh capaz de retornar esta informacao (length), onde o argumento da funcao eh a variavel de interesse"
   ]
  },
  {
   "cell_type": "code",
   "execution_count": 96,
   "metadata": {},
   "outputs": [],
   "source": [
    "l1 =  #isso eh uma lista\n",
    "t1 = ] #isso eh uma tupla"
   ]
  },
  {
   "cell_type": "code",
   "execution_count": 97,
   "metadata": {},
   "outputs": [
    {
     "name": "stdout",
     "output_type": "stream",
     "text": [
      "o comprimento da lista l1 eh:  4\n",
      "o comprimento da tupla t1 eh:  5\n"
     ]
    }
   ],
   "source": [
    "print(\"o comprimento da lista l1 eh: \", )\n",
    "print(\"o comprimento da tupla t1 eh: \", )"
   ]
  },
  {
   "cell_type": "markdown",
   "metadata": {},
   "source": [
    "#### Acessando as tuplas (indexacao)\n",
    "Assim como nas listas, as tuplas sao objetos ordenados, entao permitem indexacao\n",
    "\n",
    "* data a tupla t1 faca:\n",
    "    * acesse o primeiro elemento\n",
    "    * acesse o ultimo elemento\n",
    "    * acesse toda a tupla com indexacao\n",
    "    * acesse a tupla do ultimo para o primeiro elemento"
   ]
  },
  {
   "cell_type": "code",
   "execution_count": 10,
   "metadata": {},
   "outputs": [],
   "source": [
    "t1 = (5,6,7,'tupla', True) #isso eh uma tupla\n"
   ]
  },
  {
   "cell_type": "markdown",
   "metadata": {},
   "source": [
    "#### _unpacking_\n",
    "* o _unpacking_ eh uma forma de extrair todas as variaveis de uma tupla\n"
   ]
  },
  {
   "cell_type": "code",
   "execution_count": 104,
   "metadata": {},
   "outputs": [
    {
     "name": "stdout",
     "output_type": "stream",
     "text": [
      "basalto\n",
      "ortognaisse\n",
      "quartzo-arenito\n"
     ]
    }
   ],
   "source": [
    "t2 = (\"basalto\", 'ortognaisse','quartzo-arenito')\n",
    "(ignea, metamorfica, sedimentar) = t2\n",
    "print(ignea)\n",
    "print(metamorfica)\n",
    "print(sedimentar)"
   ]
  },
  {
   "cell_type": "markdown",
   "metadata": {},
   "source": [
    "#### Operacoes com tuplas\n",
    "* Assim como nas listas, eh possivel fazer algumas operacoes com as tuplas\n",
    "\n",
    "* dadas as duas tuplas faca opercoes como adicao e outras"
   ]
  },
  {
   "cell_type": "code",
   "execution_count": 106,
   "metadata": {},
   "outputs": [
    {
     "name": "stdout",
     "output_type": "stream",
     "text": [
      "(1, 2, 3, 'mineralogia', 'petrologia', 'historica')\n"
     ]
    },
    {
     "data": {
      "text/plain": [
       "tuple"
      ]
     },
     "execution_count": 106,
     "metadata": {},
     "output_type": "execute_result"
    }
   ],
   "source": [
    "t3 = (1,2,3)\n",
    "t4 = ('mineralogia', 'petrologia', 'historica')\n"
   ]
  },
  {
   "cell_type": "markdown",
   "metadata": {},
   "source": [
    "### Dicionarios\n",
    "* Dicionarios sao objetos **mutaveis**, **ordenados** e diferente das listas e tuplas **nao admitem elementos duplicados**\n",
    "* sao criados com { } \n",
    "* Possuem uma estrutura _key:values_\n",
    "* Uteis para servirem como \"base de dados\"\n",
    "<br><br>\n",
    "\n",
    "* Estrutura:\n",
    "    * d = {}\n",
    "    * keys: values\n",
    "    "
   ]
  },
  {
   "cell_type": "code",
   "execution_count": 12,
   "metadata": {},
   "outputs": [
    {
     "name": "stdout",
     "output_type": "stream",
     "text": [
      "dict_keys(['rocha', 'cristais', 'textura', 'classificacao'])\n"
     ]
    }
   ],
   "source": [
    "d1 = {'rocha': 'ignea',\n",
    "     'cristais': 'faneritica',\n",
    "     'textura': 'ofitica',\n",
    "     'classificacao': 'gabro'}\n",
    "print(d1.keys())"
   ]
  },
  {
   "cell_type": "markdown",
   "metadata": {},
   "source": [
    "* crie um dicionario com as seguintes chaves e valores\n",
    "    * key: rocha\n",
    "        * elementos: ignea, metamorfica\n",
    "    * key: cristais\n",
    "        * elementos: faneritica, grossos\n",
    "    * key: textura\n",
    "        * elementos: ofitica, nematoblastica\n",
    "    * key: classificacao\n",
    "        * elementos: gabro, anfibolito"
   ]
  },
  {
   "cell_type": "code",
   "execution_count": null,
   "metadata": {},
   "outputs": [],
   "source": []
  },
  {
   "cell_type": "markdown",
   "metadata": {},
   "source": [
    "* o metodo keys() retorna as chaves de um dirionario\n",
    "    * dict.keys()\n",
    "<br><br>\n",
    "\n",
    "* imprima as chaves do dicionario criado por voce"
   ]
  },
  {
   "cell_type": "code",
   "execution_count": null,
   "metadata": {},
   "outputs": [],
   "source": []
  },
  {
   "cell_type": "markdown",
   "metadata": {},
   "source": [
    "* os valores podem ser acessados com o metodo values()\n",
    "    * dict.values()\n",
    "    \n",
    "<br><br>\n",
    "\n",
    "* Imprima os valores do dicionario criado por voce"
   ]
  },
  {
   "cell_type": "code",
   "execution_count": null,
   "metadata": {},
   "outputs": [],
   "source": []
  },
  {
   "cell_type": "markdown",
   "metadata": {},
   "source": [
    "##### Alterando um dicionario\n",
    "basta especificar a _key_ e os seus valores\n",
    "\n",
    "<br><br>\n",
    "* dict[\"key\"] = novos valores"
   ]
  },
  {
   "cell_type": "code",
   "execution_count": null,
   "metadata": {},
   "outputs": [],
   "source": []
  },
  {
   "cell_type": "code",
   "execution_count": null,
   "metadata": {},
   "outputs": [],
   "source": []
  },
  {
   "cell_type": "markdown",
   "metadata": {},
   "source": [
    "* No dicionario criado por voces altere inclua uma nova rocha de tal modo que o comando:\n",
    "    * print(dict[\"rocha\"]) retorne (ignea, metamorfica, sedimentar)\n"
   ]
  },
  {
   "cell_type": "markdown",
   "metadata": {},
   "source": [
    "##### adicionando um item\n",
    "Para criar um novo item, basta especificar a nova _key_ e seus _values_\n",
    "<br><br>\n",
    "* irei incluir a data de descricao no dicionario d1\n",
    "    * d1[\"data_descricao\"] = '02/05/2021'"
   ]
  },
  {
   "cell_type": "code",
   "execution_count": 14,
   "metadata": {},
   "outputs": [],
   "source": [
    "d1 = {'rocha': 'ignea',\n",
    "     'cristais': 'faneritica',\n",
    "     'textura': 'ofitica',\n",
    "     'classificacao': 'gabro'}\n"
   ]
  },
  {
   "cell_type": "markdown",
   "metadata": {},
   "source": [
    "##### Duplicatas\n",
    "\n",
    "* se uma nova key for adicionada e ela ja existir no dicionario, a key anterior sera substituida"
   ]
  },
  {
   "cell_type": "code",
   "execution_count": 145,
   "metadata": {},
   "outputs": [
    {
     "name": "stdout",
     "output_type": "stream",
     "text": [
      "dict_keys(['rocha', 'cristais', 'textura', 'classificacao'])\n",
      "dict_values(['ignea', 'faneritica', 'ofitica', 'gabro'])\n",
      "dict_keys(['rocha', 'cristais', 'textura', 'classificacao'])\n",
      "dict_values(['gabro', 'faneritica', 'ofitica', 'gabro'])\n"
     ]
    }
   ],
   "source": [
    "d1 = {'rocha': 'ignea',\n",
    "     'cristais': 'faneritica',\n",
    "     'textura': 'ofitica',\n",
    "     'classificacao': 'gabro'}\n",
    "\n",
    "print(d1.keys())\n",
    "print(d1.values())\n",
    "\n",
    "d1 = {'rocha': 'ignea',\n",
    "     'cristais': 'faneritica',\n",
    "     'textura': 'ofitica',\n",
    "     'classificacao': 'gabro',\n",
    "      'rocha': 'gabro'}\n",
    "print(d1.keys())\n",
    "print(d1.values())"
   ]
  },
  {
   "cell_type": "markdown",
   "metadata": {},
   "source": [
    "##### Removendo itens\n",
    "A remocao de itens eh dado pelo metodo _pop( )_\n",
    "\n",
    "* Vamos excluir o key \"rocha\"\n",
    "    * dict.pop(key)"
   ]
  },
  {
   "cell_type": "code",
   "execution_count": 15,
   "metadata": {},
   "outputs": [
    {
     "name": "stdout",
     "output_type": "stream",
     "text": [
      "dict_keys(['rocha', 'cristais', 'textura', 'classificacao'])\n",
      "dict_values(['ignea', 'faneritica', 'ofitica', 'gabro'])\n"
     ]
    }
   ],
   "source": [
    "d1 = {'rocha': 'ignea',\n",
    "     'cristais': 'faneritica',\n",
    "     'textura': 'ofitica',\n",
    "     'classificacao': 'gabro'}\n",
    "\n",
    "print(d1.keys())\n",
    "print(d1.values())\n"
   ]
  },
  {
   "cell_type": "markdown",
   "metadata": {},
   "source": [
    "* remova a chave da data de descricao do seu dicionario"
   ]
  },
  {
   "cell_type": "code",
   "execution_count": null,
   "metadata": {},
   "outputs": [],
   "source": []
  }
 ],
 "metadata": {
  "kernelspec": {
   "display_name": "Python 3 (ipykernel)",
   "language": "python",
   "name": "python3"
  },
  "language_info": {
   "codemirror_mode": {
    "name": "ipython",
    "version": 3
   },
   "file_extension": ".py",
   "mimetype": "text/x-python",
   "name": "python",
   "nbconvert_exporter": "python",
   "pygments_lexer": "ipython3",
   "version": "3.9.6"
  },
  "toc": {
   "base_numbering": 1,
   "nav_menu": {},
   "number_sections": false,
   "sideBar": false,
   "skip_h1_title": false,
   "title_cell": "Table of Contents",
   "title_sidebar": "Contents",
   "toc_cell": false,
   "toc_position": {},
   "toc_section_display": false,
   "toc_window_display": false
  }
 },
 "nbformat": 4,
 "nbformat_minor": 2
}
