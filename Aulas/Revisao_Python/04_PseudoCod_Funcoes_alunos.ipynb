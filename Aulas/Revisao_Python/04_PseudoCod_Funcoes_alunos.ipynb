{
 "cells": [
  {
   "cell_type": "markdown",
   "metadata": {},
   "source": [
    "# Pseudocodigo\n",
    "\n",
    "* Pseudocodigo eh uma forma simples e generica de escrever um algoritmo em uma linguagem nativa (a nossa lingua, por exemplo)\n",
    "\n",
    "* exemplo de pseudocodigo: desejo que um programa receba um dado de entrada e me retorne apenas os valores iguais a 10 e depois conte quantos elementos respeitam esta igualdade\n",
    "\n",
    "|lista|\n",
    "|-----|\n",
    "|1|\n",
    "|10|\n",
    "|5|\n",
    "|-100|\n",
    "|860|\n",
    "|24|\n",
    "|10|\n",
    "|07|\n",
    "|0|\n",
    "|10|\n",
    "\n",
    "* O que os humanos fariam:\n",
    "    * 1) Pegar a lista\n",
    "    * 2) olhar o primeiro elemento\n",
    "    * 3) testar a condicao de igualdade\n",
    "    * 3.1) eh verdadeiro?\n",
    "        * Sim: guardar o valor\n",
    "        * Nao: excluir ou ignorar o valor\n",
    "    * 4) repetir o processo para o segundo elemento ate o final\n",
    "    * 5) Contar quantos numeros passaram no teste de igualdade"
   ]
  },
  {
   "cell_type": "code",
   "execution_count": 1,
   "metadata": {},
   "outputs": [],
   "source": [
    "#1 Definindo a lista (no caso tupla)\n"
   ]
  },
  {
   "cell_type": "code",
   "execution_count": 2,
   "metadata": {},
   "outputs": [],
   "source": [
    "# 2) selecionar o primeiro elemento\n"
   ]
  },
  {
   "cell_type": "code",
   "execution_count": 3,
   "metadata": {},
   "outputs": [],
   "source": [
    "#3) Testar condicao de igualdade\n"
   ]
  },
  {
   "cell_type": "code",
   "execution_count": 63,
   "metadata": {},
   "outputs": [],
   "source": [
    "#3.1) igualdade verdadeira?\n",
    "\n",
    "# nao, entao desconsidere"
   ]
  },
  {
   "cell_type": "code",
   "execution_count": 4,
   "metadata": {},
   "outputs": [],
   "source": [
    "# 2) selecionar o segundo elemento\n"
   ]
  },
  {
   "cell_type": "code",
   "execution_count": 5,
   "metadata": {},
   "outputs": [],
   "source": [
    "#3) Testar condicao de igualdade\n"
   ]
  },
  {
   "cell_type": "code",
   "execution_count": 6,
   "metadata": {},
   "outputs": [],
   "source": [
    "#3.1) igualdade verdadeira?\n",
    "\n",
    "# sim, entao armazene o resultado\n"
   ]
  },
  {
   "cell_type": "code",
   "execution_count": 7,
   "metadata": {},
   "outputs": [],
   "source": [
    "# Agora como podemos deixar essa rotina automatizada?\n"
   ]
  },
  {
   "cell_type": "code",
   "execution_count": 8,
   "metadata": {},
   "outputs": [],
   "source": [
    "# ou ainda podemos generalizar para qualquer teste\n"
   ]
  },
  {
   "cell_type": "markdown",
   "metadata": {},
   "source": [
    "# Funcoes\n",
    "\n",
    "* Funcoes sao elementos que executam uma rotina em especifico;\n",
    "* Uteis para rotinas que sao executadas frequentemente\n",
    "* capacidade de generalizacao de um problema\n",
    "\n",
    "estrutura:<br><br>\n",
    "def **nome_da_funca**(argumentos, keywords):<br>\n",
    "    \"\"\"docstring: documentacao da funcao \"\"\"<br>\n",
    "    \n",
    "    codigo\n",
    "    \n",
    "    \n",
    "    \n",
    "ou<br><br>\n",
    "\n",
    "def **nome_da_funcao2**(argumentos,keywords):<br>\n",
    "    \"\"\"docstring: documentacao da funcao \"\"\"<br>\n",
    "    \n",
    "    codigo\n",
    "    \n",
    "    return \n",
    "    \n",
    "* Chamando uma funcao:\n",
    "    * uma funcao deve ser chamada pelo seu \"nome\"e entre parenteses os seus argumentos\n",
    "    "
   ]
  },
  {
   "cell_type": "markdown",
   "metadata": {},
   "source": [
    "## Analise de funcoes _built in_\n",
    "\n",
    "* **docstring** eh a documentacao de uma funcao. Por organizaco eh sempre recomendado criar uma docstring\n",
    "* para acessar a docstring de uma funcao basta apertar SHIFT + TAB apos o parenteses"
   ]
  },
  {
   "cell_type": "code",
   "execution_count": 15,
   "metadata": {},
   "outputs": [
    {
     "data": {
      "text/plain": [
       "[1, 2, 3, 1, 2, 3]"
      ]
     },
     "execution_count": 15,
     "metadata": {},
     "output_type": "execute_result"
    }
   ],
   "source": [
    "lista1 = [1,2,3]"
   ]
  },
  {
   "cell_type": "code",
   "execution_count": 3,
   "metadata": {},
   "outputs": [],
   "source": [
    "\n",
    "# lista1.copy()\n",
    "# lista1a.count()"
   ]
  },
  {
   "cell_type": "markdown",
   "metadata": {},
   "source": [
    " ## Criando funcoes\n",
    " * Vamos criar uma funcao que receba duas listas e as concatene\n",
    " * eh importante a identacao"
   ]
  },
  {
   "cell_type": "code",
   "execution_count": 14,
   "metadata": {},
   "outputs": [],
   "source": [
    "# def minha_funcao:"
   ]
  },
  {
   "cell_type": "code",
   "execution_count": 9,
   "metadata": {},
   "outputs": [],
   "source": [
    "#teste de funcao 1"
   ]
  },
  {
   "cell_type": "code",
   "execution_count": 10,
   "metadata": {},
   "outputs": [],
   "source": [
    "#teste de funcao 2"
   ]
  },
  {
   "cell_type": "markdown",
   "metadata": {},
   "source": [
    "### Funcoes com argumentos definidos \n",
    "* A ordem dos parametros da funcao podem nao ser obedecidos se definirmos os argumentos associados a um dado de entrada"
   ]
  },
  {
   "cell_type": "code",
   "execution_count": null,
   "metadata": {},
   "outputs": [],
   "source": []
  },
  {
   "cell_type": "markdown",
   "metadata": {},
   "source": [
    "### Funcoes com argumentos padroes\n",
    "* Uma funcao pode ter entradas _defaults_ que podem ou nao serem alteradas pelo usuario\n",
    "* Vamos agora criar uma funcao que receba uma lista e a multiplique por um valor, tendo o 2 como padrao"
   ]
  },
  {
   "cell_type": "code",
   "execution_count": 15,
   "metadata": {},
   "outputs": [],
   "source": [
    "# def minha funcao()"
   ]
  },
  {
   "cell_type": "code",
   "execution_count": 12,
   "metadata": {},
   "outputs": [],
   "source": [
    "# testar funcao sem alterar mult"
   ]
  },
  {
   "cell_type": "code",
   "execution_count": 13,
   "metadata": {},
   "outputs": [],
   "source": [
    "# testando a funcao alterando"
   ]
  },
  {
   "cell_type": "code",
   "execution_count": 11,
   "metadata": {},
   "outputs": [],
   "source": [
    "#testando a funcao novamente"
   ]
  },
  {
   "cell_type": "markdown",
   "metadata": {},
   "source": [
    "### Funcoes com _return_\n",
    "\n",
    "* o return eh o comando para que o que seja executado em uma funcao seja exportado\n",
    "* vamos agora criar uma funcao que receba uma lista numerica e a cada elemento da lista seja somado o elemento ao seu indice"
   ]
  },
  {
   "cell_type": "code",
   "execution_count": null,
   "metadata": {},
   "outputs": [],
   "source": []
  },
  {
   "cell_type": "markdown",
   "metadata": {},
   "source": [
    "#### Atividade 1\n",
    "\n",
    "Voce recebeu uma tabela com valores de porosidade obtidas por um modelo numerico. Algumas vezes valores expurios podem surgir por falta de convergencia.\n",
    "\n",
    "* converta os dados em uma lista\n",
    "* identifique se ha algum dado expurio\n",
    "* crie uma funcao que remova este tipo de dado expurio\n",
    "\n",
    "| Porosidade (.dec) |\n",
    "| --- | \n",
    "| 0.1 |\n",
    "| 0.05 |\n",
    "| -0.02 |\n",
    "| 0.3 |\n",
    "| 0.9 |\n",
    "| 0.22 |\n",
    "| -0.1 |\n",
    "| 0.3 |\n",
    "| 0.28 |\n",
    "| -0.1 |"
   ]
  },
  {
   "cell_type": "code",
   "execution_count": 49,
   "metadata": {},
   "outputs": [
    {
     "data": {
      "text/plain": [
       "[0.1, 0.05, -0.02, 0.3, 0.9, 0.22, -0.1, 0.3, 0.28, -0.1]"
      ]
     },
     "execution_count": 49,
     "metadata": {},
     "output_type": "execute_result"
    }
   ],
   "source": [
    "porosidade = []\n"
   ]
  },
  {
   "cell_type": "code",
   "execution_count": 57,
   "metadata": {},
   "outputs": [],
   "source": [
    "# def funcao()"
   ]
  },
  {
   "cell_type": "code",
   "execution_count": 30,
   "metadata": {},
   "outputs": [],
   "source": [
    "# funcao(porosidade)"
   ]
  },
  {
   "cell_type": "code",
   "execution_count": null,
   "metadata": {},
   "outputs": [],
   "source": []
  }
 ],
 "metadata": {
  "kernelspec": {
   "display_name": "Python 3 (ipykernel)",
   "language": "python",
   "name": "python3"
  },
  "language_info": {
   "codemirror_mode": {
    "name": "ipython",
    "version": 3
   },
   "file_extension": ".py",
   "mimetype": "text/x-python",
   "name": "python",
   "nbconvert_exporter": "python",
   "pygments_lexer": "ipython3",
   "version": "3.9.6"
  },
  "toc": {
   "base_numbering": 1,
   "nav_menu": {},
   "number_sections": false,
   "sideBar": false,
   "skip_h1_title": false,
   "title_cell": "Table of Contents",
   "title_sidebar": "Contents",
   "toc_cell": false,
   "toc_position": {},
   "toc_section_display": false,
   "toc_window_display": false
  }
 },
 "nbformat": 4,
 "nbformat_minor": 2
}
