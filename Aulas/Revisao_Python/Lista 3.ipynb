{
 "cells": [
  {
   "cell_type": "markdown",
   "metadata": {},
   "source": [
    "# Exercicio 8: Controles de Fluxo \n",
    "\n",
    "* A) Dada a lista de azimute do mergulho de uma foliacao\n",
    "<br>\n",
    "Az  = [168, 192, 113, 120,   2, 147, 356, 227, 169,  98, 329, 108, 234, 36, 303, 316,  75, 266,  68, 303]\n",
    "<br><br>\n",
    "* Separe em 4 listas distintas, cada uma representando um quadrantes e que guarde informações tal que:\n",
    "    * Quadrante 1 = mergulhos de 0 a 89 graus\n",
    "    * Quadrante 2 = mergulhos de 90 a 179 graus\n",
    "    * Quadrante 3 = mergulhos de 180 a 269 graus\n",
    "    * Quadrante 4 = mergulhos de 270 a 359 graus\n",
    "\n",
    "* Dica: Resolva usando estruturas do tipo **_for_** e **_if/elif/else_**"
   ]
  },
  {
   "cell_type": "code",
   "execution_count": null,
   "metadata": {},
   "outputs": [],
   "source": []
  },
  {
   "cell_type": "markdown",
   "metadata": {},
   "source": [
    "* Use a funcao _built in_ **len( )** para contar quantos elementos ha em cada quadrante e salve estes valores"
   ]
  },
  {
   "cell_type": "markdown",
   "metadata": {},
   "source": [
    "# Exercicio 9: Controles de fluxo - FizzBuzz\n",
    "\n",
    "Uma brincadeira muito comum em programação é o fizzbuzz.<br><br>\n",
    "Você devera escrever um programa que imprima os valores de 1 a 30. Contudo se o numero for múltiplo de 3 ele deverá imprimir “fizz”, se for múltiplo de 5, imprima “buzz”, se for múltiplo de 15, “fizzbuzz”.\n",
    "\n",
    "* Dica:\n",
    "    * um numero eh divisor do outro se o resto da divisao for igual a zero\n"
   ]
  },
  {
   "cell_type": "markdown",
   "metadata": {},
   "source": [
    "# Exercicio 10: Controles de fluxo While (positivos e negativos)\n",
    "\n",
    "* eh dado uma tabela de entrada com os valores\n",
    "\n",
    "| Valor |\n",
    "|---|\n",
    "|-5|\n",
    "|-4|\n",
    "|-3|\n",
    "|-2|\n",
    "|-1|\n",
    "|0|\n",
    "|1|\n",
    "|2|\n",
    "|3|\n",
    "|4|\n",
    "|5|\n",
    "\n",
    "* Utilizando estrutura do tipo while separe o dado em duas listas. A primeira com os valores maiores e iguais a zero e a segunda apenas os negativos"
   ]
  },
  {
   "cell_type": "code",
   "execution_count": null,
   "metadata": {},
   "outputs": [],
   "source": []
  },
  {
   "cell_type": "markdown",
   "metadata": {},
   "source": [
    "# Exercicio 11: Troco\n",
    "\n",
    "a) Suponha que você tenha moedas ilimitadas de 50, 25,10 e 5 centavos. Construa um programa que receba um determinado valor, calcule o troco e retorne o troco com menor numero de moedas possíveis.\n",
    "* Dicas:\n",
    "    * 1) Determine inicialmente o valor recebido\n",
    "    * 2) Determine o valor de uma mercadoria\n",
    "    * 3) Teste a generalizacao para quaisquer valores, contanto que o valor recebido seja maior ou igual a mercadoria"
   ]
  },
  {
   "cell_type": "code",
   "execution_count": null,
   "metadata": {},
   "outputs": [],
   "source": []
  },
  {
   "cell_type": "markdown",
   "metadata": {},
   "source": [
    "b) Agora suponha que você tenha limitação de 3 moedas de 50 centavos e 5 moedas de 10 centavos em caixa. Refaca o programa\n",
    "\n"
   ]
  },
  {
   "cell_type": "code",
   "execution_count": null,
   "metadata": {},
   "outputs": [],
   "source": []
  }
 ],
 "metadata": {
  "kernelspec": {
   "display_name": "Python 3",
   "language": "python",
   "name": "python3"
  },
  "language_info": {
   "codemirror_mode": {
    "name": "ipython",
    "version": 3
   },
   "file_extension": ".py",
   "mimetype": "text/x-python",
   "name": "python",
   "nbconvert_exporter": "python",
   "pygments_lexer": "ipython3",
   "version": "3.7.3"
  }
 },
 "nbformat": 4,
 "nbformat_minor": 2
}
