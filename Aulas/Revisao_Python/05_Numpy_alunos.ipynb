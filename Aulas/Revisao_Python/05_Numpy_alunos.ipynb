{
 "cells": [
  {
   "cell_type": "markdown",
   "metadata": {},
   "source": [
    "# Numpy\n",
    "\n",
    "* Numpy é uma bilbioteca para operacao de vetores e matrizes (muito semelhante ao matlab, inclusive muitos comandos sao praticamente identicos);\n",
    "* arrays n-dimensionais\n",
    "* Computacao numerica, interpolacoes, algebra linear, transformadas de fourier, numeros aleatorios, etc;\n",
    "<br>\n",
    "\n",
    "* Os elemebntos ndarray sao criados com tamanhos determinados (nao crescem dinamicamente como listas, por exemplo);\n",
    "<br>\n"
   ]
  },
  {
   "cell_type": "markdown",
   "metadata": {},
   "source": [
    "dadas duas listas\n",
    "l1 = [1,2,3,4]\n",
    "l2 = [5,6,7,8]\n",
    "\n",
    "* calcule uma terceira lista, tal que\n",
    "    * l3 = l1+l2\n",
    "* calcula uma quarta lista, tal que:\n",
    "    * l4 = l1*l2\n"
   ]
  },
  {
   "cell_type": "code",
   "execution_count": null,
   "metadata": {},
   "outputs": [],
   "source": []
  },
  {
   "cell_type": "markdown",
   "metadata": {},
   "source": [
    "* Como podemos fazer para que, com as listas 1 e 2 obtenhamos a multiplicacao elemento a elemento, cujo resultado??:\n",
    "    * l4 = [5,12,21,32"
   ]
  },
  {
   "cell_type": "code",
   "execution_count": null,
   "metadata": {},
   "outputs": [],
   "source": []
  },
  {
   "cell_type": "markdown",
   "metadata": {},
   "source": [
    "## Importando o numpy\n",
    "\n",
    "o comando<br><br>\n",
    "\n",
    "**import** numpy **as** np\n",
    "<br><br>\n",
    "* import = importa uma biblioteca\n",
    "* numpy = nome da biblioteca\n",
    "* as np = o \"apelido\". Eh como sera referenciado o numpy daqui por diante"
   ]
  },
  {
   "cell_type": "code",
   "execution_count": null,
   "metadata": {},
   "outputs": [],
   "source": []
  },
  {
   "cell_type": "markdown",
   "metadata": {},
   "source": [
    "### Arrays\n",
    "\n",
    "* Para criar *arrays* eh utilizda a funcao np.array()\n",
    "* eh possivel declarar os valores que comporao o array\n",
    "* eh possivel converter outros objetos em array, tipo listas"
   ]
  },
  {
   "cell_type": "code",
   "execution_count": 3,
   "metadata": {},
   "outputs": [],
   "source": [
    "# Criando um array \"do zero\" e imprimindo seu tipo"
   ]
  },
  {
   "cell_type": "code",
   "execution_count": 4,
   "metadata": {},
   "outputs": [],
   "source": [
    "# Convertendo listas"
   ]
  },
  {
   "cell_type": "markdown",
   "metadata": {},
   "source": [
    "* Agora faca o mesmo exercicio anterior de multiplicacao, contudo com arrays\n",
    "\n",
    "    * array1 = 1, 2, 3, 4\n",
    "    * array2 = 5, 6, 7, 8\n",
    "    \n",
    "* Calcule um terceiro array cujo resultado eh a soma dos outros dois e imprima\n",
    "* calcule um quarto arrey cujo resultado eh a multiplicacao\n",
    "\n",
    "\n"
   ]
  },
  {
   "cell_type": "code",
   "execution_count": 6,
   "metadata": {},
   "outputs": [],
   "source": [
    "# array1 = np.array([1,2,3,4])\n",
    "# array2 = np.array([5,6,7,8])\n",
    "# print(\"array 1: \", array1, type(array1))\n",
    "# print(\"array 2: \", array2, type(array2))"
   ]
  },
  {
   "cell_type": "code",
   "execution_count": 7,
   "metadata": {},
   "outputs": [
    {
     "name": "stdout",
     "output_type": "stream",
     "text": [
      "array 3:  [ 5 12 21 32] <class 'numpy.ndarray'>\n"
     ]
    }
   ],
   "source": [
    "array3 = array1*array2\n",
    "print(\"array 3: \", array3, type(array3))"
   ]
  },
  {
   "cell_type": "markdown",
   "metadata": {},
   "source": [
    "### Matrizes \n",
    "* Elementos com n-dimensoes\n",
    "* np.array(([a,b], [c,d]....[y,z] ))\n",
    "* funcoes uteis\n",
    "    * shape\n",
    "    * reshape\n",
    "    * size\n",
    "    * where"
   ]
  },
  {
   "cell_type": "code",
   "execution_count": null,
   "metadata": {},
   "outputs": [],
   "source": [
    "#criando uma matriz"
   ]
  },
  {
   "cell_type": "code",
   "execution_count": 8,
   "metadata": {},
   "outputs": [],
   "source": [
    "# comparando shape de matriz e array"
   ]
  },
  {
   "cell_type": "code",
   "execution_count": 9,
   "metadata": {},
   "outputs": [],
   "source": [
    "# Matriz n-dimensionais (lista de listas)\n"
   ]
  },
  {
   "cell_type": "code",
   "execution_count": 10,
   "metadata": {},
   "outputs": [],
   "source": [
    "# Shape e reshape"
   ]
  },
  {
   "cell_type": "code",
   "execution_count": 11,
   "metadata": {},
   "outputs": [],
   "source": [
    "# Problemas com copias"
   ]
  },
  {
   "cell_type": "code",
   "execution_count": 12,
   "metadata": {},
   "outputs": [],
   "source": [
    "# size (vetores e matrizes)"
   ]
  },
  {
   "cell_type": "markdown",
   "metadata": {},
   "source": [
    "### Indexacao\n",
    "* a indexacao de arrays segue a mesma logica ja vista antes\n",
    "* eh possivel indexar por um valor, intervalo de valres, ordem, etc..."
   ]
  },
  {
   "cell_type": "code",
   "execution_count": 13,
   "metadata": {},
   "outputs": [],
   "source": [
    "# indeixando um array"
   ]
  },
  {
   "cell_type": "markdown",
   "metadata": {},
   "source": [
    "Dada a lista, retorne os valores maiores que 5\n",
    "\n",
    "l1 = [1,10,2,5,20]"
   ]
  },
  {
   "cell_type": "code",
   "execution_count": null,
   "metadata": {},
   "outputs": [],
   "source": []
  },
  {
   "cell_type": "markdown",
   "metadata": {},
   "source": [
    "### Indexacao logica\n",
    "\n",
    "* A indexacao logica consiste em utilizar resultados de testes logicos para fazer uma indexacao"
   ]
  },
  {
   "cell_type": "code",
   "execution_count": 14,
   "metadata": {},
   "outputs": [],
   "source": [
    "#criando um array e testando alguma condicao"
   ]
  },
  {
   "cell_type": "code",
   "execution_count": 15,
   "metadata": {},
   "outputs": [],
   "source": [
    "#Agora podemos utilizar estes resultados logicos como uma mascara"
   ]
  },
  {
   "cell_type": "markdown",
   "metadata": {},
   "source": [
    "Dada a lista, converta para array e retorne os valores maiores que 5\n",
    "\n",
    "l1 = [1,10,2,5,20]"
   ]
  },
  {
   "cell_type": "code",
   "execution_count": null,
   "metadata": {},
   "outputs": [],
   "source": []
  },
  {
   "cell_type": "markdown",
   "metadata": {},
   "source": [
    "* A indexacao logica nao gera uma copia do array\n",
    "* Vamos ver um exemplo de uso de indexacao logica para alterar valores"
   ]
  },
  {
   "cell_type": "code",
   "execution_count": null,
   "metadata": {},
   "outputs": [],
   "source": []
  },
  {
   "cell_type": "markdown",
   "metadata": {},
   "source": [
    "* Como as mascaras sao objetos booleanos, podemos combinar diferentes mascaras\n",
    "* A combinacao eh feita com operadores elemento a elemento (&) e (|)\n",
    "* lembrar que eles possuem alta precedencia"
   ]
  },
  {
   "cell_type": "code",
   "execution_count": null,
   "metadata": {},
   "outputs": [],
   "source": []
  },
  {
   "cell_type": "markdown",
   "metadata": {},
   "source": [
    "### np.where\n",
    "\n",
    "* A funcao np.where retorna o indice onde um teste logico eh realizado"
   ]
  },
  {
   "cell_type": "code",
   "execution_count": 17,
   "metadata": {},
   "outputs": [],
   "source": [
    "porosidades = np.array([0.05,0.10,0.02,0.23,0.3,0.15,0.01])"
   ]
  },
  {
   "cell_type": "code",
   "execution_count": 22,
   "metadata": {},
   "outputs": [],
   "source": [
    "#quero porosidades entre 10% e 20%\n"
   ]
  },
  {
   "cell_type": "code",
   "execution_count": 23,
   "metadata": {},
   "outputs": [],
   "source": [
    "porosidade_2 = np.array(([0.05,0.10,0.02,0.23,0.3,0.15,0.01],\n",
    "                       [0.1,0.15,0.07,0.28,0.35,0.20,0.06]))\n",
    "\n",
    "# print(porosidade_2)\n",
    "# print(np.shape(porosidade_2))\n"
   ]
  },
  {
   "cell_type": "markdown",
   "metadata": {},
   "source": [
    "### Estatistica basica\n",
    "\n",
    "* np.min\n",
    "* np.max\n",
    "* np.mean"
   ]
  },
  {
   "cell_type": "code",
   "execution_count": null,
   "metadata": {},
   "outputs": [],
   "source": []
  },
  {
   "cell_type": "code",
   "execution_count": null,
   "metadata": {},
   "outputs": [],
   "source": []
  },
  {
   "cell_type": "code",
   "execution_count": null,
   "metadata": {},
   "outputs": [],
   "source": []
  },
  {
   "cell_type": "markdown",
   "metadata": {},
   "source": [
    "### Interpolacao 1d\n",
    "\n",
    "* a interpolacao eh um processo de inserir/construir novos dados em meio a uma amostragem discreta\n",
    "* importnate ter em mente que ao fazer interpolacoes estamos adicionando dados \"artificialmente\" em meio a dados adquiridos, denominados _dados hard_. USE COM CUIDADO\n",
    "\n",
    "#### np.linspace, np.arange, np.ones, np.zeros\n",
    "\n",
    "* sao funcoes para criar vetores\n",
    "\n",
    "* Vamos criar uma funcao do tipo polionomio de 1o grau em intervalos discretos e interpolar para outros valores"
   ]
  },
  {
   "cell_type": "code",
   "execution_count": null,
   "metadata": {},
   "outputs": [],
   "source": []
  },
  {
   "cell_type": "markdown",
   "metadata": {},
   "source": [
    "E se eu quiser saber o valor da funcao y em x = 0.35 especificamente??"
   ]
  },
  {
   "cell_type": "code",
   "execution_count": null,
   "metadata": {},
   "outputs": [],
   "source": []
  },
  {
   "cell_type": "markdown",
   "metadata": {},
   "source": [
    "* agora vamos comparar o resultado interpolado com a solucao analitica"
   ]
  },
  {
   "cell_type": "code",
   "execution_count": null,
   "metadata": {},
   "outputs": [],
   "source": []
  },
  {
   "cell_type": "markdown",
   "metadata": {},
   "source": [
    "* Agora faca a mesma analise para a funcao\n",
    "* y = 2*sin(x) + 4\n",
    "* a funcao seno pode ser chamada com o comando np.sin(  )\n",
    "* faca a analise utilizando:\n",
    "    * x = np.linspace(0,1,11)\n",
    "    * x = np.linspace(0,100,11)\n",
    "    "
   ]
  },
  {
   "cell_type": "code",
   "execution_count": null,
   "metadata": {},
   "outputs": [],
   "source": []
  },
  {
   "cell_type": "markdown",
   "metadata": {},
   "source": [
    "### Operacoes entre matrizes e vetores\n",
    "* as operacoes em python sao feitas, por padrao elemento a elemento"
   ]
  },
  {
   "cell_type": "code",
   "execution_count": 41,
   "metadata": {},
   "outputs": [],
   "source": [
    "# criar vec1 e vec2"
   ]
  },
  {
   "cell_type": "code",
   "execution_count": 42,
   "metadata": {},
   "outputs": [],
   "source": [
    "# soma dos arrays"
   ]
  },
  {
   "cell_type": "code",
   "execution_count": 43,
   "metadata": {},
   "outputs": [],
   "source": [
    "# subtracao dos arrays"
   ]
  },
  {
   "cell_type": "code",
   "execution_count": 44,
   "metadata": {},
   "outputs": [],
   "source": [
    "# Multiplicacao dos arrays"
   ]
  },
  {
   "cell_type": "code",
   "execution_count": 45,
   "metadata": {},
   "outputs": [],
   "source": [
    "# divisao dos arrays"
   ]
  },
  {
   "cell_type": "code",
   "execution_count": 46,
   "metadata": {},
   "outputs": [],
   "source": [
    "# Operacoes Vetoriais"
   ]
  },
  {
   "cell_type": "markdown",
   "metadata": {},
   "source": [
    "### Broadcasting "
   ]
  },
  {
   "cell_type": "markdown",
   "metadata": {},
   "source": [
    "data a matriz\n",
    "\n",
    "| col1 | col2 |\n",
    "|----|-|\n",
    "|  1 |2|\n",
    "|  -2 |3|\n",
    "|  10 |=10|\n",
    "\n",
    "e o vetor\n",
    "\n",
    "vec = (9,7,3)\n",
    "\n",
    "Eh possivel fazer a operacao\n",
    "\n",
    "Matriz * vec?"
   ]
  },
  {
   "cell_type": "code",
   "execution_count": 51,
   "metadata": {},
   "outputs": [],
   "source": [
    "# Com vetor linha"
   ]
  },
  {
   "cell_type": "code",
   "execution_count": 52,
   "metadata": {},
   "outputs": [],
   "source": [
    "#Agora com vetor coluna"
   ]
  }
 ],
 "metadata": {
  "kernelspec": {
   "display_name": "Python 3",
   "language": "python",
   "name": "python3"
  },
  "language_info": {
   "codemirror_mode": {
    "name": "ipython",
    "version": 3
   },
   "file_extension": ".py",
   "mimetype": "text/x-python",
   "name": "python",
   "nbconvert_exporter": "python",
   "pygments_lexer": "ipython3",
   "version": "3.7.3"
  }
 },
 "nbformat": 4,
 "nbformat_minor": 2
}
