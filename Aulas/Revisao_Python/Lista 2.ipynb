{
 "cells": [
  {
   "cell_type": "markdown",
   "metadata": {},
   "source": [
    "# Exercicio 5: Listas\n",
    "\n",
    "* A) Crie uma lista que contenha os seguintes elementos\n",
    "**“banana”, “abacate”,”melancia”**\n"
   ]
  },
  {
   "cell_type": "code",
   "execution_count": null,
   "metadata": {},
   "outputs": [],
   "source": []
  },
  {
   "cell_type": "markdown",
   "metadata": {},
   "source": [
    "* B) Crie uma segunda lista com os seguintes elementos\n",
    "**15,2,1**\n"
   ]
  },
  {
   "cell_type": "code",
   "execution_count": null,
   "metadata": {},
   "outputs": [],
   "source": []
  },
  {
   "cell_type": "markdown",
   "metadata": {},
   "source": [
    "* C) Acesse os dois primeiros elementos da primeira lista"
   ]
  },
  {
   "cell_type": "code",
   "execution_count": null,
   "metadata": {},
   "outputs": [],
   "source": []
  },
  {
   "cell_type": "markdown",
   "metadata": {},
   "source": [
    "* D) Acesse os dois últimos elementos da segunda lista"
   ]
  },
  {
   "cell_type": "code",
   "execution_count": null,
   "metadata": {},
   "outputs": [],
   "source": []
  },
  {
   "cell_type": "markdown",
   "metadata": {},
   "source": [
    "* E) Crie uma terceira lista que seja a junção das duas primeiras"
   ]
  },
  {
   "cell_type": "code",
   "execution_count": null,
   "metadata": {},
   "outputs": [],
   "source": []
  },
  {
   "cell_type": "markdown",
   "metadata": {},
   "source": [
    "* F) Crie uma quarta lista que contenha as duas primeiras (o resultado será uma lista que contenha duas listas)."
   ]
  },
  {
   "cell_type": "code",
   "execution_count": null,
   "metadata": {},
   "outputs": [],
   "source": []
  },
  {
   "cell_type": "markdown",
   "metadata": {},
   "source": [
    "* G) Crie uma quinta lista que seja igual a primeira(ex, l5 = l1)"
   ]
  },
  {
   "cell_type": "code",
   "execution_count": null,
   "metadata": {},
   "outputs": [],
   "source": []
  },
  {
   "cell_type": "markdown",
   "metadata": {},
   "source": [
    "* H) Adicione os elementos da segunda lista à primeira"
   ]
  },
  {
   "cell_type": "code",
   "execution_count": null,
   "metadata": {},
   "outputs": [],
   "source": []
  },
  {
   "cell_type": "markdown",
   "metadata": {},
   "source": [
    "* I) Compare e Avalie se a quinta lista é igual a primeira obtendo uma variável do tipo “lógica”,"
   ]
  },
  {
   "cell_type": "code",
   "execution_count": null,
   "metadata": {},
   "outputs": [],
   "source": []
  },
  {
   "cell_type": "markdown",
   "metadata": {},
   "source": [
    "* j)\tO que devemos fazer caso queiramos criar uma lista igual a primeira lista, mas que sejam independentes entre si (no sentido de alteracoes em uma nao implica em outra)? Programe esta solucao"
   ]
  },
  {
   "cell_type": "code",
   "execution_count": null,
   "metadata": {},
   "outputs": [],
   "source": []
  },
  {
   "cell_type": "markdown",
   "metadata": {},
   "source": [
    "# Exercicio 6: Tuplas \n",
    "\n",
    "* a)\tCrie uma tupla com os seguintes elementos\n",
    "**“banana”, “abacate”,”melancia”**\n"
   ]
  },
  {
   "cell_type": "code",
   "execution_count": null,
   "metadata": {},
   "outputs": [],
   "source": []
  },
  {
   "cell_type": "markdown",
   "metadata": {},
   "source": [
    "* Crie uma segunda tupla com os seguintes elementos\n",
    "**15,2,1**\n"
   ]
  },
  {
   "cell_type": "code",
   "execution_count": null,
   "metadata": {},
   "outputs": [],
   "source": []
  },
  {
   "cell_type": "markdown",
   "metadata": {},
   "source": [
    "* C) Acesse os dois primeiros elementos da primeira tupla"
   ]
  },
  {
   "cell_type": "code",
   "execution_count": null,
   "metadata": {},
   "outputs": [],
   "source": []
  },
  {
   "cell_type": "markdown",
   "metadata": {},
   "source": [
    "* D) Acesse os dois últimos elementos da primeira tupla"
   ]
  },
  {
   "cell_type": "code",
   "execution_count": null,
   "metadata": {},
   "outputs": [],
   "source": []
  },
  {
   "cell_type": "markdown",
   "metadata": {},
   "source": [
    "* E) Crie uma terceira tupla que seja a junção das duas primeiras"
   ]
  },
  {
   "cell_type": "code",
   "execution_count": null,
   "metadata": {},
   "outputs": [],
   "source": []
  },
  {
   "cell_type": "markdown",
   "metadata": {},
   "source": [
    "* F) Crie uma quarta lista que contenha as duas primeiras (o resultado será uma tupla de duas tuplas)."
   ]
  },
  {
   "cell_type": "code",
   "execution_count": null,
   "metadata": {},
   "outputs": [],
   "source": []
  },
  {
   "cell_type": "markdown",
   "metadata": {},
   "source": [
    "* G) Acesse o segundo elemento da primeira tupla e o substitua por “beterraba\". Antes de executar o comando, isto eh possivel? "
   ]
  },
  {
   "cell_type": "code",
   "execution_count": null,
   "metadata": {},
   "outputs": [],
   "source": []
  },
  {
   "cell_type": "markdown",
   "metadata": {},
   "source": [
    "# Exercicio 7: Dicionarios\n",
    "* Dicionarios sao muito uteis para servirem como uma forma de banco de dados.\n",
    "* Suponha que voce tenha a seguinte tabela de dados\n",
    "\n",
    "|   Litologia    |Descritor|       Observacoes            |    Data  |\n",
    "|----------------|---------|------------------------------|----------|\n",
    "|calcareo        |seu nome |porosidade primaria preservada|02/05/2020|\n",
    "|Dolomito        |seu nome |porosidade intercristalina    |03/05/2020|\n",
    "|Quartzo-Arenito |seu nome |localmente feldspatico        |04/05/2020|\n",
    "|Basalto         |seu nome |amigdaloidal                  |05/05/2020|\n",
    "\n",
    "<br><br>\n",
    "\n",
    "* Armazene estes dados como um dicionário. \n",
    "* Dicas:\n",
    "    * 1)\tDefina o que são as Keys\n",
    "    * 2)\tDefina o que são os values\n",
    "    * 3)\tUse as estruturas de dicionário para montar a sua base de dados.\n"
   ]
  },
  {
   "cell_type": "code",
   "execution_count": null,
   "metadata": {},
   "outputs": [],
   "source": []
  },
  {
   "cell_type": "markdown",
   "metadata": {},
   "source": [
    "* Agora atualize o dicionario para que ele contenha as seguintes informacoes\n",
    "\n",
    "|   Litologia    |Descritor|       Observacoes            |    Data  |  Analises  |\n",
    "|----------------|---------|------------------------------|----------|------------|\n",
    "|calcareo        |seu nome |porosidade primaria preservada|02/05/2020|prontas     |\n",
    "|Dolomito        |seu nome |porosidade intercristalina    |03/05/2020|prontas     |\n",
    "|Quartzo-Arenito |seu nome |localmente feldspatico        |04/05/2020|em andamento|\n",
    "|Basalto         |seu nome |amigdaloidal                  |05/05/2020|em andamento|\n",
    "\n"
   ]
  },
  {
   "cell_type": "code",
   "execution_count": null,
   "metadata": {},
   "outputs": [],
   "source": []
  },
  {
   "cell_type": "markdown",
   "metadata": {},
   "source": [
    "* Agora atualize o dicionario para que ele contenha as seguintes informacoes\n",
    "\n",
    "\n",
    "|   Litologia    |Descritor|       Observacoes            |  Analises  |\n",
    "|----------------|---------|------------------------------|------------|\n",
    "|calcareo        |seu nome |porosidade primaria preservada|prontas     |\n",
    "|Dolomito        |seu nome |porosidade intercristalina    |prontas     |\n",
    "|Quartzo-Arenito |seu nome |localmente feldspatico        |em andamento|\n",
    "|Basalto         |seu nome |amigdaloidal                  |em andamento|\n",
    "\n"
   ]
  },
  {
   "cell_type": "markdown",
   "metadata": {},
   "source": [
    "# **Desafio**_ Exercicio 8: Troco\n",
    "\n",
    "a) Suponha que você tenha moedas ilimitadas de 50, 25,10 e 5 centavos. Construa um programa que receba um determinado valor, calcule o troco e retorne o troco com menor numero de moedas possíveis.\n",
    "* Dicas:\n",
    "    * 1) Determine inicialmente o valor recebido\n",
    "    * 2) Determine o valor de uma mercadoria\n",
    "    * 3) Teste a generalizacao para quaisquer valores, contanto que o valor recebido seja maior ou igual a mercadoria"
   ]
  },
  {
   "cell_type": "code",
   "execution_count": null,
   "metadata": {},
   "outputs": [],
   "source": []
  },
  {
   "cell_type": "markdown",
   "metadata": {},
   "source": [
    "b) Agora suponha que você tenha limitação de 3 moedas de 50 centavos e 5 moedas de 10 centavos em caixa. Refaca o programa\n",
    "\n",
    "\n",
    "* Dicas:\n",
    "    * 1) Determine inicialmente o valor recebido\n",
    "    * 2) Determine o valor de uma mercadoria\n",
    "    * 3) Teste a generalizacao para quaisquer valores, contanto que o valor recebido seja maior ou igual a mercadoria\n"
   ]
  },
  {
   "cell_type": "code",
   "execution_count": null,
   "metadata": {},
   "outputs": [],
   "source": []
  }
 ],
 "metadata": {
  "kernelspec": {
   "display_name": "Python 3",
   "language": "python",
   "name": "python3"
  },
  "language_info": {
   "codemirror_mode": {
    "name": "ipython",
    "version": 3
   },
   "file_extension": ".py",
   "mimetype": "text/x-python",
   "name": "python",
   "nbconvert_exporter": "python",
   "pygments_lexer": "ipython3",
   "version": "3.7.3"
  }
 },
 "nbformat": 4,
 "nbformat_minor": 2
}
