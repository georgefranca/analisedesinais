{
 "cells": [
  {
   "cell_type": "markdown",
   "metadata": {},
   "source": [
    "# Pandas\n",
    "\n",
    "* A biblioteca pandas eh muito utilizada para manipulacao de dados\n",
    "* criacao de onjetos do tipo _dataframe_\n",
    "* maneira facil e eficiente de importar dados\n",
    "* maneira facil de explorar dados e controle de qualidade\n",
    "* Como se fosse um excel"
   ]
  },
  {
   "cell_type": "code",
   "execution_count": 1,
   "metadata": {},
   "outputs": [],
   "source": [
    "import numpy as np\n",
    "import pandas as pd"
   ]
  },
  {
   "cell_type": "markdown",
   "metadata": {},
   "source": [
    "## Series\n",
    "\n",
    "* objetos n-dimensionais com indices\n",
    "* Series(data=None, index=None, dtype=None, name=None, copy=False, fastpath=False)"
   ]
  },
  {
   "cell_type": "code",
   "execution_count": 46,
   "metadata": {},
   "outputs": [],
   "source": [
    "# porosidade = np.random.rand(30)\n",
    "# por_max = 0.25\n",
    "# por_min = 0.05\n",
    "\n",
    "# porosidade = ((porosidade)*(por_max - por_min)) + por_min\n",
    "\n",
    "# porosidade_serie = pd.Series(data = porosidade, dtype = \"float\")\n",
    "# # porosidade_serie"
   ]
  },
  {
   "cell_type": "markdown",
   "metadata": {},
   "source": [
    "* iloc = index location --> indexacao pelo indice"
   ]
  },
  {
   "cell_type": "code",
   "execution_count": 48,
   "metadata": {},
   "outputs": [],
   "source": [
    "# series.iloc[]"
   ]
  },
  {
   "cell_type": "code",
   "execution_count": 49,
   "metadata": {},
   "outputs": [],
   "source": [
    "# index = np.linspace(10,300,30, dtype = \"int\")\n",
    "\n",
    "# porosidade_serie = pd.Series(data = porosidade, index = index, dtype = \"float\")"
   ]
  },
  {
   "cell_type": "code",
   "execution_count": 50,
   "metadata": {},
   "outputs": [],
   "source": [
    "# indices = porosidade_serie.index\n",
    "# indices = np.array(indices)\n",
    "# mask = indices == 10\n",
    "\n",
    "\n",
    "# porosidade_serie.iloc[10]\n",
    "# porosidade_serie.iloc[mask]"
   ]
  },
  {
   "cell_type": "code",
   "execution_count": 51,
   "metadata": {},
   "outputs": [],
   "source": [
    "# lista = [\"basalto\", 'arenito', 'granito']\n",
    "\n",
    "# n_elementos = len(porosidade)\n",
    "\n",
    "# index_lito = []\n",
    "# for it in range(n_elementos):\n",
    "#     lito = np.random.randint(0,3)\n",
    "#     index_lito.append(lista[lito])\n",
    "\n",
    "# porosidade = np.random.rand(30)\n",
    "# por_max = 0.25\n",
    "# por_min = 0.05\n",
    "\n",
    "# porosidade = ((porosidade)*(por_max - por_min)) + por_min\n",
    "\n",
    "# porosidade_serie = pd.Series(data = porosidade, index = index_lito, dtype = \"float\")"
   ]
  },
  {
   "cell_type": "code",
   "execution_count": 52,
   "metadata": {},
   "outputs": [],
   "source": [
    "# # print(porosidade_serie)\n",
    "\n",
    "# indice = np.array(porosidade_serie.index, dtype = str)\n",
    "# # print(indice)\n",
    "# # print(indice == 'basalto')\n",
    "\n",
    "# mask = indice == 'arenito'\n",
    "# # print(mask)\n",
    "\n",
    "# porosidade_serie.iloc[mask]\n"
   ]
  },
  {
   "cell_type": "code",
   "execution_count": 53,
   "metadata": {},
   "outputs": [],
   "source": [
    "# porosidade_serie.loc[\"arenito\"]"
   ]
  },
  {
   "cell_type": "markdown",
   "metadata": {},
   "source": [
    "## Dataframes\n",
    "\n",
    "* dados bidimensionais (apesar de que ha dataframes multidimensionais, nao trataremos aqui. Fica para estudo de casa) com tamanho mutavel\n",
    "* possibilidade de database heterogenea (mais de um tipo de variavel)\n",
    "* linhas e colunas\n",
    "\n",
    "* DataFrame(data=None, index=None, columns=None, dtype=None, copy=False)"
   ]
  },
  {
   "cell_type": "code",
   "execution_count": 54,
   "metadata": {},
   "outputs": [],
   "source": [
    "# porosidade = np.random.rand(30)\n",
    "# por_max = 0.25\n",
    "# por_min = 0.05\n",
    "\n",
    "# porosidade = ((porosidade)*(por_max - por_min)) + por_min\n",
    "\n",
    "# def perm (phi, a, b):\n",
    "#     k = a * phi**b\n",
    "#     return k\n",
    "\n",
    "# k = perm(porosidade,5, 10)\n",
    "\n",
    "# dados = [porosidade,k]\n",
    "# petrofisica = pd.DataFrame(data = dados)\n",
    "# petrofisica = petrofisica.transpose()"
   ]
  },
  {
   "cell_type": "code",
   "execution_count": 55,
   "metadata": {},
   "outputs": [],
   "source": [
    "# columns = [\"phi\", \"k\"]\n",
    "# # petrofisica.columns = columns\n",
    "# petrofisica = pd.DataFrame(data = dados, index = columns)\n",
    "# petrofisica = petrofisica.transpose()\n",
    "# print(petrofisica)"
   ]
  },
  {
   "cell_type": "code",
   "execution_count": 56,
   "metadata": {},
   "outputs": [],
   "source": [
    "# lista = [\"basalto\", 'arenito', 'granito']\n",
    "\n",
    "# n_elementos = len(porosidade)\n",
    "\n",
    "# index_lito = []\n",
    "# for it in range(n_elementos):\n",
    "#     lito = np.random.randint(0,3)\n",
    "#     index_lito.append(lista[lito])\n",
    "\n",
    "# petrofisica.index = index_lito\n",
    "# petrofisica"
   ]
  },
  {
   "cell_type": "markdown",
   "metadata": {},
   "source": [
    "### Indexacao\n",
    "\n",
    "* por coluna\n",
    "* .iloc  -> indexacao pelo indice\n",
    "* .loc - >indexacao pela columna e/ou indice"
   ]
  },
  {
   "cell_type": "code",
   "execution_count": 57,
   "metadata": {},
   "outputs": [],
   "source": [
    "# petrofisica[[\"k\",\"phi\"]]"
   ]
  },
  {
   "cell_type": "code",
   "execution_count": 58,
   "metadata": {},
   "outputs": [],
   "source": [
    "# petrofisica.loc[\"basalto\"]\n",
    "# petrofisica.loc[\"basalto\", \"k\"]\n",
    "# petrofisica.loc[\"basalto\", [\"k\",\"phi\"]]"
   ]
  },
  {
   "cell_type": "code",
   "execution_count": 59,
   "metadata": {},
   "outputs": [],
   "source": [
    "# petrofisica.iloc[0]\n",
    "# petrofisica.iloc[0:15]\n",
    "# petrofisica.iloc[0:-1:5]\n",
    "# petrofisica.iloc[0::3]"
   ]
  },
  {
   "cell_type": "markdown",
   "metadata": {},
   "source": [
    "## Importar dados\n",
    "* pandas.read_excel\n",
    "* pandas.read_csv"
   ]
  },
  {
   "cell_type": "code",
   "execution_count": 60,
   "metadata": {},
   "outputs": [],
   "source": [
    "# data = pd.read_excel(\"pandas1.xlsx\")\n",
    "# data.info()"
   ]
  },
  {
   "cell_type": "code",
   "execution_count": 61,
   "metadata": {},
   "outputs": [],
   "source": [
    "# data.dado1"
   ]
  },
  {
   "cell_type": "code",
   "execution_count": 62,
   "metadata": {},
   "outputs": [],
   "source": [
    "# cols = [\"coord_x\", \"coord_y\"]\n",
    "# data.columns = cols\n",
    "# data"
   ]
  },
  {
   "cell_type": "code",
   "execution_count": 63,
   "metadata": {},
   "outputs": [],
   "source": [
    "# data2 = pd.read_csv(\"pandas2.csv\",delimiter = \";\", decimal= ',',na_values = ['-','*'])\n",
    "# data2.dropna(inplace = True)\n",
    "# data2.info()"
   ]
  },
  {
   "cell_type": "markdown",
   "metadata": {},
   "source": [
    "#### Controle de qualidade "
   ]
  },
  {
   "cell_type": "code",
   "execution_count": 68,
   "metadata": {},
   "outputs": [],
   "source": [
    "# data2 = pd.read_csv(\"pandas2.csv\")#, delimiter=\";\")#, decimal=\",\")"
   ]
  },
  {
   "cell_type": "code",
   "execution_count": 70,
   "metadata": {},
   "outputs": [],
   "source": [
    "# data2.info()"
   ]
  },
  {
   "cell_type": "code",
   "execution_count": 71,
   "metadata": {},
   "outputs": [],
   "source": [
    "# data2"
   ]
  },
  {
   "cell_type": "code",
   "execution_count": 72,
   "metadata": {},
   "outputs": [],
   "source": [
    "# data2.dado1 = data2.dado1.replace({',':'.'}, regex=True)#, inplace = True)\n",
    "# print(data2)"
   ]
  },
  {
   "cell_type": "code",
   "execution_count": 73,
   "metadata": {},
   "outputs": [],
   "source": [
    "# exceptions = []\n",
    "# float(data2.dado1.iloc[0])\n",
    "# for it in range(len(data2.dado1)):\n",
    "#     try:\n",
    "#         float(data2.dado1.iloc[it])\n",
    "#     except:\n",
    "#         exceptions.append(data2.dado1.iloc[it])"
   ]
  },
  {
   "cell_type": "code",
   "execution_count": 74,
   "metadata": {},
   "outputs": [],
   "source": [
    "# print(exceptions)"
   ]
  },
  {
   "cell_type": "code",
   "execution_count": 75,
   "metadata": {},
   "outputs": [],
   "source": [
    "# for it in range(len(exceptions)):\n",
    "#     mask = data2.dado1 != exceptions[it]\n",
    "#     data2 = data2[mask]\n"
   ]
  },
  {
   "cell_type": "code",
   "execution_count": 76,
   "metadata": {},
   "outputs": [],
   "source": [
    "# column_corr = np.array(data2.dado1, dtype= float)\n",
    "\n",
    "# data2.loc[mask, \"dado1\"] = column_corr"
   ]
  },
  {
   "cell_type": "code",
   "execution_count": 77,
   "metadata": {},
   "outputs": [],
   "source": [
    "# data2.info()"
   ]
  },
  {
   "cell_type": "code",
   "execution_count": 78,
   "metadata": {},
   "outputs": [],
   "source": [
    "# data2.dropna(inplace=True)"
   ]
  },
  {
   "cell_type": "code",
   "execution_count": 79,
   "metadata": {},
   "outputs": [],
   "source": [
    "# data2.info()"
   ]
  },
  {
   "cell_type": "markdown",
   "metadata": {},
   "source": [
    "## Maneira \"mais esperta\""
   ]
  },
  {
   "cell_type": "code",
   "execution_count": 80,
   "metadata": {},
   "outputs": [],
   "source": [
    "# data2 = pd.read_csv(\"pandas2.csv\",delimiter = \";\", decimal= ',',na_values = ['-','*'])\n",
    "# data2.dropna(inplace = True)\n",
    "# data2.info()"
   ]
  },
  {
   "cell_type": "code",
   "execution_count": null,
   "metadata": {},
   "outputs": [],
   "source": []
  }
 ],
 "metadata": {
  "kernelspec": {
   "display_name": "Python 3",
   "language": "python",
   "name": "python3"
  },
  "language_info": {
   "codemirror_mode": {
    "name": "ipython",
    "version": 3
   },
   "file_extension": ".py",
   "mimetype": "text/x-python",
   "name": "python",
   "nbconvert_exporter": "python",
   "pygments_lexer": "ipython3",
   "version": "3.7.3"
  }
 },
 "nbformat": 4,
 "nbformat_minor": 2
}
