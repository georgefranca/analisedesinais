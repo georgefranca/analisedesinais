{
 "cells": [
  {
   "cell_type": "markdown",
   "metadata": {},
   "source": [
    "# Introdução a Programação em Python"
   ]
  },
  {
   "cell_type": "markdown",
   "metadata": {},
   "source": [
    "* O python eh uma linguagem de programação e que, usualmente, utilizamos algumas interface para programar.<br>\n",
    "* Os arquivos possuem a extensão padrão \".py\"<br>\n",
    "* O Anaconda é um pacote com diversas interfaces e para algumas linguagens (julia,R, python...)<br>\n",
    "* Dentre as interfaces no Anaconda, as utilizadas para escrever são o jupyter notebook e o spyder<br>\n",
    "\n",
    "## Spyder\n",
    "O Spyder é uma interface onde é possível escrever em python, possui um bom controle de variáveis, etc. Os formatos de arquivos que são utilizados é tipicamente .py\n",
    "\n",
    "## IPython Notebooks\n",
    "Os IPython Notebooks (.ipnb) são armazenados no formato .ipnb que não são tipicamente python. Eles aceitam tanto arquivo de texto (html, LaTex,.....) e também porções de código.<br><br>\n",
    "\n",
    "São muito úteis para documentação de trabalhos."
   ]
  },
  {
   "cell_type": "markdown",
   "metadata": {},
   "source": [
    "# Introdução\n",
    "O Python ele apresenta uma infinidade de funções, elementos, tipos de variáveis, objetos,.....\n",
    "É o que veremos nas proximas seções.\n"
   ]
  },
  {
   "cell_type": "markdown",
   "metadata": {},
   "source": [
    "## Introducao\n",
    "\n",
    "Aqui vamos comecar a ver a primeira funcao.<br>\n",
    "\n",
    "Uma funcao eh um comando que recebe argumentos.<br>\n",
    "\n",
    "**funcao(_argumento_)**\n",
    "\n",
    "* funcao print(_string_)"
   ]
  },
  {
   "cell_type": "code",
   "execution_count": null,
   "metadata": {},
   "outputs": [],
   "source": []
  },
  {
   "cell_type": "markdown",
   "metadata": {},
   "source": [
    "neste caso temos a funcao **print()** que recebe o argumento **\"Hello World!**<br>\n",
    "\n",
    "Neste caso a funcao \"print()\" faz imprimir o argumento (\"Hello World!\")\n",
    "\n",
    "* print(arg1, arg2, ..., argn)<br>\n",
    "Bem vindos ao curso"
   ]
  },
  {
   "cell_type": "code",
   "execution_count": null,
   "metadata": {},
   "outputs": [],
   "source": []
  },
  {
   "cell_type": "code",
   "execution_count": 9,
   "metadata": {},
   "outputs": [
    {
     "name": "stdout",
     "output_type": "stream",
     "text": [
      "Bem vindos ao 1o curso de programação para geociências!\n"
     ]
    }
   ],
   "source": [
    "print(\"Bem vindos ao \" + str(1) + \"o curso de programação para geociências!\")"
   ]
  },
  {
   "cell_type": "markdown",
   "metadata": {},
   "source": [
    "# Tipos de Variaveis e Atribuicao\n"
   ]
  },
  {
   "cell_type": "markdown",
   "metadata": {},
   "source": [
    "## Atribuicao\n",
    "* Uma expressão de \"igualdade\" em python, na verdade, significa uma atribuição de valor a uma dada variavel.\n",
    "\n",
    "var = funcao<br>\n",
    "print(var)"
   ]
  },
  {
   "cell_type": "code",
   "execution_count": 13,
   "metadata": {},
   "outputs": [
    {
     "name": "stdout",
     "output_type": "stream",
     "text": [
      "2\n"
     ]
    }
   ],
   "source": []
  },
  {
   "cell_type": "markdown",
   "metadata": {},
   "source": [
    "* var 1 is var2\n",
    "* Alocacao de memora eficiente\n",
    "* Verifica se diferentes variaveis apontam para a mesma posicao em memoria"
   ]
  },
  {
   "cell_type": "code",
   "execution_count": null,
   "metadata": {},
   "outputs": [],
   "source": []
  },
  {
   "cell_type": "markdown",
   "metadata": {},
   "source": [
    "* O que acontece se a gente atribuir outro valor a uma das variaveis?"
   ]
  },
  {
   "cell_type": "code",
   "execution_count": null,
   "metadata": {},
   "outputs": [],
   "source": []
  },
  {
   "cell_type": "code",
   "execution_count": null,
   "metadata": {},
   "outputs": [],
   "source": []
  },
  {
   "cell_type": "code",
   "execution_count": 19,
   "metadata": {},
   "outputs": [
    {
     "name": "stdout",
     "output_type": "stream",
     "text": [
      "[2, 3]\n",
      "<class 'list'>\n",
      "True\n",
      "[10, 3]\n",
      "[10, 3]\n"
     ]
    }
   ],
   "source": [
    "a = [2,3]\n",
    "b = a\n",
    "print(a)\n",
    "print(type(a))\n",
    "print(a is b)"
   ]
  },
  {
   "cell_type": "markdown",
   "metadata": {},
   "source": [
    "## Variaveis numericas\n",
    "Variáveis numéricas são aquelas que lidam com números propriamente ditas. Elas se dividem em <br>\n",
    "_int_ : variáveis que guardam apenas números inteiros<br>\n",
    "_float_: Variáveis que guardam ponto flutuante (decimais)<br>\n",
    "\n",
    "O denominado _casting_ eh quando forcamos que determinada variavel possua um tipo em especifico"
   ]
  },
  {
   "cell_type": "markdown",
   "metadata": {},
   "source": [
    "* Vamos criar uma variavel do tipo _int_\n",
    "* imprimir a variavel"
   ]
  },
  {
   "cell_type": "code",
   "execution_count": null,
   "metadata": {},
   "outputs": [],
   "source": []
  },
  {
   "cell_type": "markdown",
   "metadata": {},
   "source": [
    "* Agora vamos fazer um _casting_ atribuindo um valor inteiro a um numero decimal\n",
    "* decimal menor que 5\n",
    "* decimal igual a 5\n",
    "* decimal maior que 5"
   ]
  },
  {
   "cell_type": "code",
   "execution_count": null,
   "metadata": {},
   "outputs": [],
   "source": []
  },
  {
   "cell_type": "code",
   "execution_count": null,
   "metadata": {},
   "outputs": [],
   "source": []
  },
  {
   "cell_type": "markdown",
   "metadata": {},
   "source": [
    "* Agora vamos criar uma variavel que aceite numeros decimais\n",
    "* variaveis do tipo _float_"
   ]
  },
  {
   "cell_type": "code",
   "execution_count": null,
   "metadata": {},
   "outputs": [],
   "source": []
  },
  {
   "cell_type": "code",
   "execution_count": null,
   "metadata": {},
   "outputs": [],
   "source": []
  },
  {
   "cell_type": "markdown",
   "metadata": {},
   "source": [
    "* Criar um float de numero inteiro"
   ]
  },
  {
   "cell_type": "code",
   "execution_count": null,
   "metadata": {},
   "outputs": [],
   "source": []
  },
  {
   "cell_type": "markdown",
   "metadata": {},
   "source": [
    "## Variaveis de texto\n",
    "Variaveis que guardam textos são denominadas _strings_\n",
    "* Uma variavel Alpha"
   ]
  },
  {
   "cell_type": "code",
   "execution_count": 39,
   "metadata": {},
   "outputs": [
    {
     "name": "stdout",
     "output_type": "stream",
     "text": [
      "esta eh uma variavel alpha\n"
     ]
    }
   ],
   "source": []
  },
  {
   "cell_type": "code",
   "execution_count": null,
   "metadata": {},
   "outputs": [],
   "source": []
  },
  {
   "cell_type": "markdown",
   "metadata": {},
   "source": [
    "* Variavel alpha de um numero"
   ]
  },
  {
   "cell_type": "code",
   "execution_count": null,
   "metadata": {},
   "outputs": [],
   "source": []
  },
  {
   "cell_type": "markdown",
   "metadata": {},
   "source": [
    "## Variaveis lógicas (booleanas)\n",
    "São variáveis que de \"verdadeiro\" ou \"falso\"\n",
    "\n",
    "* Variavel do tipo True e False\n",
    "* _case sensitive_\n",
    "* Variavel None"
   ]
  },
  {
   "cell_type": "code",
   "execution_count": null,
   "metadata": {},
   "outputs": [],
   "source": []
  },
  {
   "cell_type": "code",
   "execution_count": null,
   "metadata": {},
   "outputs": [],
   "source": []
  },
  {
   "cell_type": "code",
   "execution_count": null,
   "metadata": {},
   "outputs": [],
   "source": []
  },
  {
   "cell_type": "code",
   "execution_count": null,
   "metadata": {},
   "outputs": [],
   "source": []
  },
  {
   "cell_type": "markdown",
   "metadata": {},
   "source": [
    "## Variaveis Complexas\n",
    "Variáveis complexas são aquelas que possuem uma parte real e uma parte imaginária\n",
    "\n",
    "* O python entende a parte imaginaria como \"j\"\n",
    "\n",
    "* var = int + xj"
   ]
  },
  {
   "cell_type": "code",
   "execution_count": 4,
   "metadata": {},
   "outputs": [],
   "source": [
    "x = 2 + 3J"
   ]
  },
  {
   "cell_type": "markdown",
   "metadata": {},
   "source": [
    "* Imprimir a parte real\n",
    "* var.real"
   ]
  },
  {
   "cell_type": "code",
   "execution_count": 6,
   "metadata": {},
   "outputs": [
    {
     "name": "stdout",
     "output_type": "stream",
     "text": [
      "2.0\n"
     ]
    }
   ],
   "source": []
  },
  {
   "cell_type": "markdown",
   "metadata": {},
   "source": [
    "* Imprimir a parte imaginaria\n",
    "* x.imag"
   ]
  },
  {
   "cell_type": "markdown",
   "metadata": {},
   "source": [
    "* Comentarios\n",
    "\n",
    "* tudo que tiver apos a tralha (#) nao eh interpretado como codigo"
   ]
  },
  {
   "cell_type": "code",
   "execution_count": null,
   "metadata": {},
   "outputs": [],
   "source": [
    "\n"
   ]
  },
  {
   "cell_type": "markdown",
   "metadata": {},
   "source": [
    "## retornar o tipo de variável\n",
    "\n",
    "aqui veremos a nossa segunda funcao. <br>\n",
    "\n",
    "A funcao **type()** cujo argumento eh uma variavel. E ela retorna o tipo de variavel\n",
    "\n",
    "* Crie uma variavel do tipo int sem _casting_\n",
    "* imprima o seu tipo"
   ]
  },
  {
   "cell_type": "code",
   "execution_count": null,
   "metadata": {},
   "outputs": [],
   "source": []
  },
  {
   "cell_type": "code",
   "execution_count": null,
   "metadata": {},
   "outputs": [],
   "source": []
  },
  {
   "cell_type": "markdown",
   "metadata": {},
   "source": [
    "* Crie uma variavel ponto flutuante sem _casting_\n",
    "* Imprima o seu tipo"
   ]
  },
  {
   "cell_type": "code",
   "execution_count": null,
   "metadata": {},
   "outputs": [],
   "source": []
  },
  {
   "cell_type": "code",
   "execution_count": null,
   "metadata": {},
   "outputs": [],
   "source": []
  },
  {
   "cell_type": "markdown",
   "metadata": {},
   "source": [
    "* Crie uma variavel alphanumerica e imprima o seu tipo"
   ]
  },
  {
   "cell_type": "code",
   "execution_count": null,
   "metadata": {},
   "outputs": [],
   "source": []
  },
  {
   "cell_type": "code",
   "execution_count": null,
   "metadata": {},
   "outputs": [],
   "source": []
  },
  {
   "cell_type": "markdown",
   "metadata": {},
   "source": [
    "* Crie uma variavel complexa e imprima o seu tipo"
   ]
  },
  {
   "cell_type": "code",
   "execution_count": null,
   "metadata": {},
   "outputs": [],
   "source": []
  },
  {
   "cell_type": "code",
   "execution_count": null,
   "metadata": {},
   "outputs": [],
   "source": []
  },
  {
   "cell_type": "markdown",
   "metadata": {},
   "source": [
    "* Crie uma variavel logica e imprima o seu tipo"
   ]
  },
  {
   "cell_type": "code",
   "execution_count": null,
   "metadata": {},
   "outputs": [],
   "source": []
  },
  {
   "cell_type": "code",
   "execution_count": null,
   "metadata": {},
   "outputs": [],
   "source": []
  },
  {
   "cell_type": "markdown",
   "metadata": {},
   "source": [
    "## Multiplas atribuições\n",
    "\n",
    "* eh possivel atribuir valores a diferentes variaveis ao mesmo tempo\n",
    "* estrutura:\n",
    "    * var1, var2,...,varn = val1, val2,..., valn\n",
    "    \n",
    "* exemplo de multiplas atribuicoes"
   ]
  },
  {
   "cell_type": "code",
   "execution_count": 57,
   "metadata": {},
   "outputs": [
    {
     "name": "stdout",
     "output_type": "stream",
     "text": [
      "2\n",
      "5\n"
     ]
    }
   ],
   "source": []
  },
  {
   "cell_type": "markdown",
   "metadata": {},
   "source": [
    "* faca uma multipla atribuicao que receba o seu nome e a segunda variavel com a sua instituicao"
   ]
  },
  {
   "cell_type": "code",
   "execution_count": null,
   "metadata": {},
   "outputs": [],
   "source": []
  },
  {
   "cell_type": "markdown",
   "metadata": {},
   "source": [
    "* eh possivel fazer multiplas atribuicoes do tipo\n",
    "\n",
    "    * var1 = var2 = val"
   ]
  },
  {
   "cell_type": "code",
   "execution_count": null,
   "metadata": {},
   "outputs": [],
   "source": []
  },
  {
   "cell_type": "markdown",
   "metadata": {},
   "source": [
    "## Case sensitive\n",
    "\n",
    "* A linguagem eh altamente _case sensitive_, variaveis podem ter o mesmo nome, mas se alguma letra for maiuscula ou minuscula, sera compreendida como variaveis distintas\n",
    "\n",
    "* Criar variavel person1\n",
    "* Criar variavel Person2"
   ]
  },
  {
   "cell_type": "code",
   "execution_count": null,
   "metadata": {},
   "outputs": [],
   "source": []
  },
  {
   "cell_type": "code",
   "execution_count": null,
   "metadata": {},
   "outputs": [],
   "source": []
  },
  {
   "cell_type": "markdown",
   "metadata": {},
   "source": [
    "## Expressoes\n",
    "* estudo de precedencia\n",
    "\n",
    "* somas e subtracoes possuem a mesma precedencia\n",
    "* soma (+)\n",
    "* Subtracao (-)"
   ]
  },
  {
   "cell_type": "code",
   "execution_count": null,
   "metadata": {},
   "outputs": [],
   "source": []
  },
  {
   "cell_type": "code",
   "execution_count": null,
   "metadata": {},
   "outputs": [],
   "source": []
  },
  {
   "cell_type": "code",
   "execution_count": null,
   "metadata": {},
   "outputs": [],
   "source": []
  },
  {
   "cell_type": "markdown",
   "metadata": {},
   "source": [
    "* multiplicacao e divisao possuem mesma precedencia e maior que somas e subtracoes\n",
    "* divisao (/)\n",
    "* Multiplicacao (*)"
   ]
  },
  {
   "cell_type": "code",
   "execution_count": null,
   "metadata": {},
   "outputs": [],
   "source": []
  },
  {
   "cell_type": "code",
   "execution_count": null,
   "metadata": {},
   "outputs": [],
   "source": []
  },
  {
   "cell_type": "markdown",
   "metadata": {},
   "source": [
    "* Faca teste de divisao entre dois numeros multiplos entre si, de tal modo que o resultado da divisao nao seja um valor decimal\n",
    "* Avalie o tipo da variavel de resultado"
   ]
  },
  {
   "cell_type": "code",
   "execution_count": null,
   "metadata": {},
   "outputs": [],
   "source": []
  },
  {
   "cell_type": "markdown",
   "metadata": {},
   "source": [
    "* Uma operacao muitas vezes util eh avaliar o resto da divisao\n",
    "* Operacao com (%)"
   ]
  },
  {
   "cell_type": "code",
   "execution_count": null,
   "metadata": {},
   "outputs": [],
   "source": []
  },
  {
   "cell_type": "code",
   "execution_count": null,
   "metadata": {},
   "outputs": [],
   "source": []
  },
  {
   "cell_type": "markdown",
   "metadata": {},
   "source": [
    "* Exponenciacao e radiacao possuem a mesma precedencia\n",
    "* possuem maior precedencia que as demais operacoes\n",
    "* exponenciacao (**)"
   ]
  },
  {
   "cell_type": "code",
   "execution_count": null,
   "metadata": {},
   "outputs": [],
   "source": []
  },
  {
   "cell_type": "code",
   "execution_count": null,
   "metadata": {},
   "outputs": [],
   "source": []
  },
  {
   "cell_type": "code",
   "execution_count": null,
   "metadata": {},
   "outputs": [],
   "source": []
  },
  {
   "cell_type": "markdown",
   "metadata": {},
   "source": [
    "* sem executar a funcao, qual a ordem das operacoes a serem calculadas?\n",
    "    * A) 2 + 6 / 3 - 8"
   ]
  },
  {
   "cell_type": "code",
   "execution_count": null,
   "metadata": {},
   "outputs": [],
   "source": []
  },
  {
   "cell_type": "markdown",
   "metadata": {},
   "source": [
    "* B): 2 + (6/3) - 8"
   ]
  },
  {
   "cell_type": "code",
   "execution_count": null,
   "metadata": {},
   "outputs": [],
   "source": []
  },
  {
   "cell_type": "markdown",
   "metadata": {},
   "source": [
    "* C) 2 + 6/2**2 - 9"
   ]
  },
  {
   "cell_type": "code",
   "execution_count": null,
   "metadata": {},
   "outputs": [],
   "source": []
  },
  {
   "cell_type": "markdown",
   "metadata": {},
   "source": [
    "* D) 2 + (6/(2**2)) - 9"
   ]
  },
  {
   "cell_type": "code",
   "execution_count": null,
   "metadata": {},
   "outputs": [],
   "source": []
  },
  {
   "cell_type": "markdown",
   "metadata": {},
   "source": [
    "#### Operacoes entre stringds\n",
    "\n",
    "* eh possivel fazer algumas operacoes entre strings\n",
    "* util para juntar strings montando outras\n",
    "\n",
    "* crie as seguintes variaveis\n",
    "    * var1 = \"ban\"\n",
    "    * var2 = \"ana\"\n",
    "    * var3 = var1 + var2\n",
    "    * imprima o resultado"
   ]
  },
  {
   "cell_type": "code",
   "execution_count": null,
   "metadata": {},
   "outputs": [],
   "source": []
  },
  {
   "cell_type": "markdown",
   "metadata": {},
   "source": [
    "* Tente agora fazer var1*var2"
   ]
  },
  {
   "cell_type": "code",
   "execution_count": null,
   "metadata": {},
   "outputs": [],
   "source": []
  },
  {
   "cell_type": "markdown",
   "metadata": {},
   "source": [
    "* Agora multiplique qualquer uma dessas varaiveis por algum valor"
   ]
  },
  {
   "cell_type": "code",
   "execution_count": null,
   "metadata": {},
   "outputs": [],
   "source": []
  },
  {
   "cell_type": "markdown",
   "metadata": {},
   "source": [
    "## Comparativos\n",
    "\n",
    "* O resultado de comparativos sao variaveis logicas\n",
    "* \"==\" avalia se eh igual\n",
    "* \"!=\" avalia se eh diferente\n",
    "* \">\" avalia se eh maior\n",
    "* \">=\" avalia se eh maior ou igual\n",
    "* \"<\" avalia se eh menor\n",
    "* \"<=\" avalia se eh menor ou igua\"\n",
    "* retirar as aspas\n",
    "\n",
    "* estrutura:\n",
    "    * var 1 (teste comparativo) var 2\n",
    "    * var 1 == var 2 (pergunta se a variavel 1 possui o mesmo valor da variavel 2\n",
    "    \n",
    "* Nao eh sensivel a variaveis float ou int (nao ha distincao)\n"
   ]
  },
  {
   "cell_type": "markdown",
   "metadata": {},
   "source": [
    "* Crie duas variaveis quaisquer e teste as relacoes comparativa entre elas"
   ]
  },
  {
   "cell_type": "code",
   "execution_count": null,
   "metadata": {},
   "outputs": [],
   "source": []
  },
  {
   "cell_type": "code",
   "execution_count": null,
   "metadata": {},
   "outputs": [],
   "source": []
  },
  {
   "cell_type": "code",
   "execution_count": null,
   "metadata": {},
   "outputs": [],
   "source": []
  },
  {
   "cell_type": "code",
   "execution_count": null,
   "metadata": {},
   "outputs": [],
   "source": []
  },
  {
   "cell_type": "code",
   "execution_count": null,
   "metadata": {},
   "outputs": [],
   "source": []
  },
  {
   "cell_type": "code",
   "execution_count": null,
   "metadata": {},
   "outputs": [],
   "source": []
  },
  {
   "cell_type": "code",
   "execution_count": null,
   "metadata": {},
   "outputs": [],
   "source": []
  },
  {
   "cell_type": "code",
   "execution_count": null,
   "metadata": {},
   "outputs": [],
   "source": []
  },
  {
   "cell_type": "code",
   "execution_count": null,
   "metadata": {},
   "outputs": [],
   "source": []
  },
  {
   "cell_type": "markdown",
   "metadata": {},
   "source": [
    "* Eh possivel armazenar o resultado de um teste logico em uma variavel"
   ]
  },
  {
   "cell_type": "code",
   "execution_count": null,
   "metadata": {},
   "outputs": [],
   "source": []
  },
  {
   "cell_type": "markdown",
   "metadata": {},
   "source": [
    "## Indexacao\n",
    "\n",
    "* indexacao eh uma maneira de acessar qualquer elemento. \n",
    "* veremos isso com mais detalhe ao ver os objetos python, mas ja podemos fazer alguns testes com as strings\n",
    "* como strings sao compostas por diversas letras (incluindo espacos), podemos acessar cada letra individualmente\n",
    "\n",
    "* crie uma string de teste\n",
    "* a indexacao eh feita via \"[ ]\"\n",
    "* estrutura:\n",
    "    * [indice]\n",
    "    * [start:stop]\n",
    "    * [start:stop:step]\n",
    "* o python entende como sendo intervalo inicial fechado e intervalo final aberto (exclusivo)"
   ]
  },
  {
   "cell_type": "code",
   "execution_count": null,
   "metadata": {},
   "outputs": [],
   "source": []
  },
  {
   "cell_type": "code",
   "execution_count": null,
   "metadata": {},
   "outputs": [],
   "source": []
  },
  {
   "cell_type": "code",
   "execution_count": null,
   "metadata": {},
   "outputs": [],
   "source": []
  },
  {
   "cell_type": "code",
   "execution_count": null,
   "metadata": {},
   "outputs": [],
   "source": []
  }
 ],
 "metadata": {
  "kernelspec": {
   "display_name": "Python 3 (ipykernel)",
   "language": "python",
   "name": "python3"
  },
  "language_info": {
   "codemirror_mode": {
    "name": "ipython",
    "version": 3
   },
   "file_extension": ".py",
   "mimetype": "text/x-python",
   "name": "python",
   "nbconvert_exporter": "python",
   "pygments_lexer": "ipython3",
   "version": "3.9.6"
  },
  "toc": {
   "base_numbering": 1,
   "nav_menu": {},
   "number_sections": false,
   "sideBar": false,
   "skip_h1_title": false,
   "title_cell": "Table of Contents",
   "title_sidebar": "Contents",
   "toc_cell": false,
   "toc_position": {},
   "toc_section_display": false,
   "toc_window_display": false
  }
 },
 "nbformat": 4,
 "nbformat_minor": 2
}
