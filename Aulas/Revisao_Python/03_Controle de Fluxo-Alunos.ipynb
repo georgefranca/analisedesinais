{
 "cells": [
  {
   "cell_type": "markdown",
   "metadata": {},
   "source": [
    "# Controle de Fluxo"
   ]
  },
  {
   "cell_type": "markdown",
   "metadata": {},
   "source": [
    "## Expressões do tipo \"if-else\"\n",
    "\n",
    "![if_else](figs/if_else.png)\n",
    "\n",
    "* Estrutura 1:\n",
    "    * if condicao:\n",
    "        * faca alguma coisa\n",
    "    \n",
    "* Estrutura 2:\n",
    "    * if condicao:\n",
    "        * faca alguma coisa\n",
    "    * else:\n",
    "        * faca outra coisa\n",
    "        \n",
    "* Estrutura 3:\n",
    "    * if condicao 1:\n",
    "        * faca alguma coisa\n",
    "    * elif condiaco 2:\n",
    "        * faca outa coisa\n",
    "    * elif condicao 3:\n",
    "        * faca uma terceira coisa\n",
    "    * else:\n",
    "        * faca uma ultima coisa\n",
    "* reparar a necessidade dos dois pontos e da indentacao\n",
    "    \n",
    "<br><br>\n",
    "\n",
    "* Podemos, por exemplo, avaliar se uma determinada litologia esta contida em uma lista"
   ]
  },
  {
   "cell_type": "code",
   "execution_count": 1,
   "metadata": {},
   "outputs": [],
   "source": [
    "l_rochas = ['arenito','diabasio', 'grainstone','granito','riodacito','arenito','arenito','grainstone']\n",
    "k = 'arenito'\n",
    "\n",
    "\n",
    "# if k in l_rochas:\n",
    "#     print(True)\n",
    "# else:\n",
    "#     print(False)\n",
    "    \n"
   ]
  },
  {
   "cell_type": "markdown",
   "metadata": {},
   "source": [
    "* Podemos ainda, atribuir a uma variavel se determinada litologia foi amostrada e construir um programa que diga se foi amostrada ou nao"
   ]
  },
  {
   "cell_type": "code",
   "execution_count": 2,
   "metadata": {},
   "outputs": [
    {
     "name": "stdout",
     "output_type": "stream",
     "text": [
      "Você amostrou a litologia arenito\n"
     ]
    }
   ],
   "source": []
  },
  {
   "cell_type": "markdown",
   "metadata": {},
   "source": [
    "### Operadores _bitwise_ (ou _elementwise_, ou elemento a elemento)\n",
    "\n",
    "* & -> condicao 1 E condicao 2\n",
    "* | -> condicao 1 OU condicao 2\n",
    "\n",
    "* Como os operadores & e | possuem alta precedencia, as afirmacoes (ou _statments_ devem estar entre parenteses"
   ]
  },
  {
   "cell_type": "markdown",
   "metadata": {},
   "source": [
    "* Vamos avaliar se uma determinada esta entre 90 e 70"
   ]
  },
  {
   "cell_type": "code",
   "execution_count": 7,
   "metadata": {},
   "outputs": [
    {
     "data": {
      "text/plain": [
       "False"
      ]
     },
     "execution_count": 7,
     "metadata": {},
     "output_type": "execute_result"
    }
   ],
   "source": [
    "# nota = 70\n",
    "# (nota<90) & (nota>70)"
   ]
  },
  {
   "cell_type": "markdown",
   "metadata": {},
   "source": [
    "* Faca um programa que receba uma nota e avalie a mencao final de um aluno sabendo que:\n",
    "* a) notas maiores ou iguais a 90 - Mencao A\n",
    "* b) notas menores que nova e maiores ou iguais a 70 - Mencao B\n",
    "* c) notas menores que 70 e maiores ou iguais a 50 - Mencao C\n",
    "* d) notas menores que 50 e maiores ou iguais a 30 - Mencao D\n",
    "* e) notas menores que 30 e maiores ou iguais a 20 - Mensao E\n",
    "* f) notas menores que 20, mencao F\n",
    "\n",
    "<br><br>\n"
   ]
  },
  {
   "cell_type": "code",
   "execution_count": null,
   "metadata": {},
   "outputs": [],
   "source": []
  },
  {
   "cell_type": "markdown",
   "metadata": {},
   "source": [
    "* eh de boa pratica, ao construir um programa, testar diferentes entradas\n",
    "* por exemplo, podemos regularizar a entrada para que nao aceite valores negativos. Customeiramente alunos nao recebem notas negativas. Isso deixa o codigo mais coerente e diversas entradas"
   ]
  },
  {
   "cell_type": "code",
   "execution_count": null,
   "metadata": {},
   "outputs": [],
   "source": []
  },
  {
   "cell_type": "markdown",
   "metadata": {},
   "source": [
    "### Loop For\n",
    "\n",
    "* Os loops For sao utilizados para iterar em uma sequencia (ex. listas, tuplas, arrays...)\n",
    "\n",
    "* Normalmente dizemos para as iteracoes do tipo \"for\" ate onde elas devem operar\n",
    "\n",
    "* Vamos supor uma lista que contenha 11 elementos"
   ]
  },
  {
   "cell_type": "code",
   "execution_count": 9,
   "metadata": {},
   "outputs": [],
   "source": [
    "l1 = [-5,-4,-3,-2,-1,0,1,2,3,4,5]"
   ]
  },
  {
   "cell_type": "markdown",
   "metadata": {},
   "source": [
    "* temos alguns meios de fazer o loop for iterar por toda a lista l1\n",
    "* existe um comando muito comum que eh o range(len(objeto))\n"
   ]
  },
  {
   "cell_type": "code",
   "execution_count": 12,
   "metadata": {},
   "outputs": [
    {
     "name": "stdout",
     "output_type": "stream",
     "text": [
      "11\n",
      "range(0, 11)\n",
      "range(0, 11)\n"
     ]
    }
   ],
   "source": [
    "# print(len(l1))\n",
    "# print(range(11))\n",
    "# print(range(len(l1)))"
   ]
  },
  {
   "cell_type": "markdown",
   "metadata": {},
   "source": [
    "* Estrutura:\n",
    "\n",
    "* for (operador) in range():\n",
    "    * faca alguma coisa\n",
    "    \n",
    "<br><br>\n",
    "\n",
    "* se atentar para o dois pontos e a identacao\n",
    "\n",
    "* Vamos fazer um programa que avalie cada elemento da lista l1 se ele eh negativo ou positivo e que guarde em uma segunda lista os elementos positivos"
   ]
  },
  {
   "cell_type": "code",
   "execution_count": 20,
   "metadata": {},
   "outputs": [
    {
     "name": "stdout",
     "output_type": "stream",
     "text": [
      "[0, 1, 2, 3, 4, 5]\n"
     ]
    }
   ],
   "source": [
    "l_positivos = []\n",
    "\n",
    "for it in range(len(l1)):\n",
    "#     print(it)\n",
    "#     print(l1[it])\n",
    "    aval = l1[it]>=0\n",
    "    if aval == True:\n",
    "#         l_positivos.append(aval)\n",
    "        l_positivos.append(l1[it])\n",
    "\n"
   ]
  },
  {
   "cell_type": "markdown",
   "metadata": {},
   "source": [
    "* Altere o loop anterior (de preferencia reescreva) e armazene os numeros negativos e positivos maiores que zero em listas separadas\n",
    "* O resultado final do seu programa devera ser uma impressao com quantos elementos positivos e negativos a lista l1 contem\n"
   ]
  },
  {
   "cell_type": "code",
   "execution_count": null,
   "metadata": {},
   "outputs": [],
   "source": []
  },
  {
   "cell_type": "markdown",
   "metadata": {},
   "source": [
    "### Loop While\n",
    "\n",
    "* O loop _while_ opera enquanto uma condicao nao for atendida\n",
    "* Muitas vezes operado com um contador para quebrar o loop\n",
    "* As vezes eh recomendavel usar o comando break para evitar loops infinitos\n",
    "\n",
    "<br><br>\n",
    "\n",
    "* Estrutura:\n",
    "* while (condicao/condicoes) sao atendidas, prossiga:\n",
    "    * realiza a funcao\n",
    "    "
   ]
  },
  {
   "cell_type": "markdown",
   "metadata": {},
   "source": [
    "* Um uso muito comum de loops while eh em algoritmos de minimizacao de erro e ajuste de modelos\n",
    "* Enquanto nao atingir um erro pequeno prossiga"
   ]
  },
  {
   "cell_type": "code",
   "execution_count": null,
   "metadata": {},
   "outputs": [],
   "source": [
    "# i = 0\n",
    "# cont = 0\n",
    "\n",
    "# while i < 6:\n",
    "#     print(\"i = \", i)\n",
    "#     i +=1\n",
    "# else:\n",
    "#     print(\"agora i nao eh mais menor que 6\")"
   ]
  },
  {
   "cell_type": "code",
   "execution_count": 3,
   "metadata": {},
   "outputs": [
    {
     "name": "stdout",
     "output_type": "stream",
     "text": [
      "-3.75\n"
     ]
    }
   ],
   "source": [
    "# y_real = 10\n",
    "# y_estimado = 100\n",
    "\n",
    "# iteracoes = 5 # defino o numero de iteracoes maxima \n",
    "\n",
    "# tolerancia = 1e-5 # defino a tolerancia do erro \n",
    "\n",
    "# erro = (y_estimado - y_real) # calculo o erro \n",
    "\n",
    "# while erro > tolerancia:\n",
    "#     tx_update = 2 #taxa de atualizacao do y_estimado\n",
    "#     y_estimado = y_estimado/tx_update #atualizo o y\n",
    "#     erro = (y_estimado - y_real) #recalculo o erro\n",
    "# print(erro)"
   ]
  },
  {
   "cell_type": "code",
   "execution_count": 2,
   "metadata": {},
   "outputs": [
    {
     "name": "stdout",
     "output_type": "stream",
     "text": [
      "True\n",
      "True\n",
      "True\n",
      "True\n",
      "True\n",
      "6.875\n"
     ]
    }
   ],
   "source": [
    "# y_real = 10\n",
    "# y_estimado = 100\n",
    "\n",
    "# iteracoes = 5 # defino o numero de iteracoes maxima \n",
    "\n",
    "# tolerancia = 1e-5 # defino a tolerancia do erro \n",
    "\n",
    "# erro = abs((y_estimado - y_real)) # calculo o erro \n",
    "# cont = 0 # inicializo o contador\n",
    "# while (erro > tolerancia) & (cont < iteracoes):\n",
    "#     tx_update = 2 #taxa de atualizacao do y_estimado\n",
    "#     y_estimado = y_estimado/tx_update #atualizo o y\n",
    "#     erro = abs((y_estimado - y_real)) #recalculo o erro\n",
    "#     cont = cont+1 #autalizo o contador\n",
    "# print(erro)\n",
    "    "
   ]
  },
  {
   "cell_type": "markdown",
   "metadata": {},
   "source": [
    "* Refaca o exemplo da lista com valores positivos e negativos, armazenando cada grupo em uma lista diferente usando loop while"
   ]
  },
  {
   "cell_type": "code",
   "execution_count": null,
   "metadata": {},
   "outputs": [],
   "source": []
  }
 ],
 "metadata": {
  "kernelspec": {
   "display_name": "Python 3",
   "language": "python",
   "name": "python3"
  },
  "language_info": {
   "codemirror_mode": {
    "name": "ipython",
    "version": 3
   },
   "file_extension": ".py",
   "mimetype": "text/x-python",
   "name": "python",
   "nbconvert_exporter": "python",
   "pygments_lexer": "ipython3",
   "version": "3.7.3"
  }
 },
 "nbformat": 4,
 "nbformat_minor": 2
}
