{
 "cells": [
  {
   "cell_type": "markdown",
   "id": "ac8296a5",
   "metadata": {},
   "source": [
    "# Filtragem"
   ]
  },
  {
   "cell_type": "code",
   "execution_count": null,
   "id": "3e9e8fca",
   "metadata": {},
   "outputs": [],
   "source": [
    "import numpy as np\n",
    "from numpy.fft import fft, ifft, fftfreq\n",
    "import matplotlib.pyplot as plt"
   ]
  },
  {
   "cell_type": "markdown",
   "id": "ad9efcaf",
   "metadata": {},
   "source": [
    "Vamos definir um sinal simples, formado pela soma entre dois sinais senos com frequências distintas. Para ilustrar o nosso estudo de filtros, primeiramente vamos tentar isolar a componente de baixa de frequência do sinal, usando um filtro **passa baixa**."
   ]
  },
  {
   "cell_type": "code",
   "execution_count": null,
   "id": "6a6279a2",
   "metadata": {},
   "outputs": [],
   "source": [
    "N = 201 # número de amostras\n",
    "t = np.linspace(0, 1, N) # sinal definido entre 0 e 1 segundos\n",
    "dt = t[1] - t[0] # intervalo de amostragem"
   ]
  },
  {
   "cell_type": "code",
   "execution_count": null,
   "id": "25cb00fe",
   "metadata": {},
   "outputs": [],
   "source": [
    "# frequência de Nyquist\n",
    "f_ny = 1/(2*dt)\n",
    "f_ny"
   ]
  },
  {
   "cell_type": "code",
   "execution_count": null,
   "id": "0ddee3e6",
   "metadata": {},
   "outputs": [],
   "source": [
    "# definindo frequências de interesse\n",
    "f1 = 5\n",
    "f2 = 40"
   ]
  },
  {
   "cell_type": "code",
   "execution_count": null,
   "id": "bd1524da",
   "metadata": {},
   "outputs": [],
   "source": [
    "# definindo séries temporais\n",
    "x1 = 2*np.sin(2*np.pi*f1*t)\n",
    "x2 = np.sin(2*np.pi*f2*t)\n",
    "\n",
    "plt.plot(t, x1, label=\"x1\")\n",
    "plt.plot(t, x2, label=\"x2\")\n",
    "plt.xlabel(\"Tempo (s)\")\n",
    "plt.ylabel(\"Amplitude\")\n",
    "plt.legend();"
   ]
  },
  {
   "cell_type": "code",
   "execution_count": null,
   "id": "f1f4d992",
   "metadata": {},
   "outputs": [],
   "source": [
    "# vamos obter um sinal formado pela soma entre x1 e x2\n",
    "x = x1+x2\n",
    "\n",
    "plt.plot(t, x, 'k')\n",
    "plt.xlabel(\"Tempo (s)\")\n",
    "plt.ylabel(\"Amplitude\");"
   ]
  },
  {
   "cell_type": "code",
   "execution_count": null,
   "id": "cdf7a114",
   "metadata": {},
   "outputs": [],
   "source": [
    "# Para aplicar um filtro passa baixa, vamos levar o sinal\n",
    "# para o domínio da frequência\n",
    "\n",
    "x_FFT = fft(x)\n",
    "freqs = fftfreq(N, dt)\n",
    "\n",
    "plt.plot(freqs[:N//2], np.abs(x_FFT[:N//2]))\n",
    "plt.xlabel(\"$f_n (s^{-1})$\")\n",
    "plt.ylabel(\"$|X_k|$\")\n",
    "plt.title(\"FFT\")\n",
    "plt.axvline(f_ny, ls=\"--\", color=\"k\");"
   ]
  },
  {
   "cell_type": "markdown",
   "id": "cc0b8bde",
   "metadata": {},
   "source": [
    "O gráfico da Transformada de Fourier nos mostra dois picos centrados nas frequências de 5 e 40 Hz, ou seja, as frequências dos sinais x1 e x2 que definimos anteriormente. Perceba que ambas frequências estão abaixo do limite estabelecido pela frequência de Nyquist. Para aplicar o filtro passa baixa, vamos cortar as frequências maiores do que, por exemplo, 10 Hz."
   ]
  },
  {
   "cell_type": "code",
   "execution_count": null,
   "id": "2ee79732",
   "metadata": {},
   "outputs": [],
   "source": [
    "# indices com as frequências menores do que 10 Hz\n",
    "indices = np.abs(freqs) < 10.0\n",
    "# para filtrar, multiplicamos o sinal no dom. da frequência\n",
    "# pelo vetor de índices\n",
    "x_FFT_filt = x_FFT * indices\n",
    "# por fim, voltamos o sinal para o domínio do tempo\n",
    "x_filt = ifft(x_FFT_filt)"
   ]
  },
  {
   "cell_type": "code",
   "execution_count": null,
   "id": "c792970e",
   "metadata": {},
   "outputs": [],
   "source": [
    "print(\"Média (imag): %s\"%np.mean(np.imag(x_filt)))\n",
    "print(\"Mínimo (imag): %s\"%np.min(np.imag(x_filt)))\n",
    "print(\"Máximo (imag): %s\"%np.max(np.imag(x_filt)))"
   ]
  },
  {
   "cell_type": "markdown",
   "id": "04557026",
   "metadata": {},
   "source": [
    "Perceba que sobrou um resíduo complexo no sinal filtrado, mas são números muito pequenos, possivelmente um resíduo computacional. Vamos comparar o final filtrado recuperado com a sequência x1 definida no começo do notebook. Usaremos a parte real do sinal filtrado."
   ]
  },
  {
   "cell_type": "code",
   "execution_count": null,
   "id": "54575f84",
   "metadata": {},
   "outputs": [],
   "source": [
    "plt.plot(t, x1, label=\"x1\")\n",
    "plt.plot(t, np.real(x_filt), label=\"x_filt\")\n",
    "plt.xlabel(\"Tempo (s)\")\n",
    "plt.ylabel(\"Amplitude\")\n",
    "plt.legend();"
   ]
  },
  {
   "cell_type": "markdown",
   "id": "98873d2f",
   "metadata": {},
   "source": [
    "Utilizando o filtro passa baixa, obtivemos um sinal idêntico ao sinal x1 original.\n",
    "\n",
    "**Exercício.** Considerando o sinal x definido anteriormente, aplique um filtro **passa alta** de forma a remover a componente de mais baixa frequência, ou seja, remova o sinal x1 de x. Plote o resultado."
   ]
  },
  {
   "cell_type": "code",
   "execution_count": null,
   "id": "429ae2cf",
   "metadata": {},
   "outputs": [],
   "source": []
  },
  {
   "cell_type": "markdown",
   "id": "8da3c6b6",
   "metadata": {},
   "source": [
    "Conseguimos separar os sinais simples muito bem, mas o que aconteceria no caso de os sinais estarem contaminados com ruído, que é o caso de dados reais? Vamos investigar a seguir, novamente tentando separar a componente de baixa frequência."
   ]
  },
  {
   "cell_type": "code",
   "execution_count": null,
   "id": "306570e7",
   "metadata": {},
   "outputs": [],
   "source": [
    "N = 201 # número de amostras\n",
    "t = np.linspace(0, 1, N) # sinal definido entre 0 e 1 segundos\n",
    "dt = t[1] - t[0] # intervalo de amostragem\n",
    "\n",
    "# frequência de Nyquist\n",
    "f_ny = 1/(2*dt)\n",
    "f_ny"
   ]
  },
  {
   "cell_type": "code",
   "execution_count": null,
   "id": "43bb812e",
   "metadata": {},
   "outputs": [],
   "source": [
    "# definindo frequências de interesse\n",
    "f1 = 5\n",
    "f2 = 40"
   ]
  },
  {
   "cell_type": "code",
   "execution_count": null,
   "id": "06ab2ff9",
   "metadata": {},
   "outputs": [],
   "source": [
    "# definindo séries temporais\n",
    "x1_ruido = 2*np.sin(2*np.pi*f1*t) + 0.3*np.random.randn(len(t))\n",
    "x2_ruido = np.sin(2*np.pi*f2*t) + 0.15*np.random.randn(len(t))\n",
    "\n",
    "plt.plot(t, x1_ruido, label=\"x1_ruido\")\n",
    "plt.plot(t, x2_ruido, label=\"x2_ruido\")\n",
    "plt.xlabel(\"Tempo (s)\")\n",
    "plt.ylabel(\"Amplitude\")\n",
    "plt.legend();"
   ]
  },
  {
   "cell_type": "code",
   "execution_count": null,
   "id": "d0108b34",
   "metadata": {},
   "outputs": [],
   "source": [
    "# vamos obter um sinal formado pela soma de x1 e x2\n",
    "# e adicionar mais uma camada de ruído\n",
    "x_ruido = x1_ruido + x2_ruido + 0.1*np.random.randn(len(t))\n",
    "\n",
    "plt.plot(t, x_ruido, 'k')\n",
    "plt.xlabel(\"Tempo (s)\")\n",
    "plt.ylabel(\"Amplitude\");"
   ]
  },
  {
   "cell_type": "code",
   "execution_count": null,
   "id": "d3dfaeed",
   "metadata": {},
   "outputs": [],
   "source": [
    "# aplicando a FFT\n",
    "x_FFT_r = fft(x_ruido)\n",
    "freqs = fftfreq(N, dt)\n",
    "\n",
    "plt.plot(freqs[:N//2], np.abs(x_FFT_r[:N//2]))\n",
    "plt.xlabel(\"$f_n (s^{-1})$\")\n",
    "plt.ylabel(\"$|X_k|$\")\n",
    "plt.title(\"FFT\")\n",
    "plt.axvline(f_ny, ls=\"--\", color=\"k\");"
   ]
  },
  {
   "cell_type": "code",
   "execution_count": null,
   "id": "44e18121",
   "metadata": {},
   "outputs": [],
   "source": [
    "# aplicando o filtro passa baixa\n",
    "\n",
    "indices = np.abs(freqs) < 10.0\n",
    "x_FFT_filt_r = x_FFT_r * indices\n",
    "\n",
    "x_filt_r = ifft(x_FFT_filt_r)"
   ]
  },
  {
   "cell_type": "code",
   "execution_count": null,
   "id": "144bb78c",
   "metadata": {},
   "outputs": [],
   "source": [
    "# plotando e comparando com x1\n",
    "plt.plot(t, x1, 'r', label=\"x1\")\n",
    "plt.plot(t, x1_ruido, label=\"x1_ruido\")\n",
    "plt.plot(t, np.real(x_filt_r), label=\"x_filt_r\")\n",
    "plt.xlabel(\"Tempo (s)\")\n",
    "plt.ylabel(\"Amplitude\")\n",
    "plt.legend();"
   ]
  },
  {
   "cell_type": "markdown",
   "id": "a4dfb0ec",
   "metadata": {},
   "source": [
    "Dessa vez, o sinal filtrado é uma versão suavizada do sinal original, ou seja, muito mais parecido com o sinal x1 original do que com o x1 contaminado com ruído. Isso sugere que a FFT pode ser usada não somente para separar conteúdos de frequência de interesse dentro do sinal, mas também para amenizar o ruído. Vamos analisar um segundo exemplo nesse sentido, mas agora usando **espectro de potência**."
   ]
  },
  {
   "cell_type": "markdown",
   "id": "c08b70ba",
   "metadata": {},
   "source": [
    "# Filtrando ruído"
   ]
  },
  {
   "cell_type": "code",
   "execution_count": null,
   "id": "ec613a62",
   "metadata": {},
   "outputs": [],
   "source": [
    "# definindo sinais simples com duas frequências\n",
    "dt = 0.001\n",
    "t = np.arange(0, 1, dt)\n",
    "x = np.sin(2*np.pi*50*t) + np.sin(2*np.pi*120*t)\n",
    "x_r = x + 2.5*np.random.randn(len(t))"
   ]
  },
  {
   "cell_type": "markdown",
   "id": "033bc053",
   "metadata": {},
   "source": [
    "Perceba que criamos um sinal com bastante ruído, uma vez que o sinal original varia entre -2 e 2. Vamos plotar os dois."
   ]
  },
  {
   "cell_type": "code",
   "execution_count": null,
   "id": "2ebf48e9",
   "metadata": {},
   "outputs": [],
   "source": [
    "plt.plot(t, x_r, 'k', label=\"Ruidoso\")\n",
    "plt.plot(t, x, 'r', label=\"Limpo\")\n",
    "plt.xlabel(\"Tempo (s)\")\n",
    "plt.ylabel(\"Amplitude\")\n",
    "plt.legend();"
   ]
  },
  {
   "cell_type": "markdown",
   "id": "354ad8c0",
   "metadata": {},
   "source": [
    "Vamos supor que recebemos o sinal ruidoso e não sabemos que ele foi gerado a partir de dois sinais senos com frequências de 50 e 120 Hz."
   ]
  },
  {
   "cell_type": "code",
   "execution_count": null,
   "id": "c320e64f",
   "metadata": {},
   "outputs": [],
   "source": [
    "N = len(t)\n",
    "x_fft = fft(x_r)\n",
    "freqs = fftfreq(N, dt)\n",
    "psd = x_fft * np.conj(x_fft) / N # espectro de potência\n",
    "psd = np.real(psd) # ignorando uma componente 0j imaginária\n",
    "\n",
    "plt.plot(freqs[:N//2], psd[:N//2], color=\"r\", label=\"Ruidoso\")\n",
    "plt.xlabel(\"Frequência (Hz)\")\n",
    "plt.ylabel(\"Amplitude\")\n",
    "plt.title(\"Densidade espectral\")\n",
    "plt.legend();"
   ]
  },
  {
   "cell_type": "markdown",
   "id": "c437f53b",
   "metadata": {},
   "source": [
    "Dito de forma simples, o eixo y do gráfico nos diz o quanto de \"potência\" há em cada frequência do sinal. Apesar de o sinal ser ruidoso, o espectro de potência tem dois picos muito claros, um em 50 Hz e outro em 120 Hz. Para filtrar, vamos cortar todos os coeficientes de Fourier menores do que, por exemplo, 100, e manter todos os maiores do que 100."
   ]
  },
  {
   "cell_type": "code",
   "execution_count": null,
   "id": "4715b352",
   "metadata": {},
   "outputs": [],
   "source": [
    "indices = psd > 100 # indices onde psd > 100\n",
    "psd_filt = psd * indices # filtrando o psd\n",
    "x_fft_filt = x_fft * indices # filtrando os coef. de Fourier\n",
    "\n",
    "# por fim, vamos obter a série temporal por meio da FFT inversa\n",
    "x_filt = ifft(x_fft_filt)\n",
    "x_filt = np.real(x_filt) # descartando resíduos complexos"
   ]
  },
  {
   "cell_type": "code",
   "execution_count": null,
   "id": "9839cf78",
   "metadata": {},
   "outputs": [],
   "source": [
    "# vamos comparar os resultados\n",
    "\n",
    "fig = plt.figure(figsize=(9, 6))\n",
    "ax1 = fig.add_subplot(211)\n",
    "ax1.plot(t, x_r, label=\"Ruidoso\")\n",
    "ax1.plot(t, x, label=\"Limpo\")\n",
    "ax1.plot(t, x_filt, label=\"Filtrado\")\n",
    "ax1.set_xlabel(\"Tempo (s)\")\n",
    "ax1.set_ylabel(\"Amplitude\")\n",
    "ax1.legend()\n",
    "\n",
    "ax2 = fig.add_subplot(212)\n",
    "ax2.plot(t, x, label=\"Limpo\")\n",
    "ax2.plot(t, x_filt, label=\"Filtrado\")\n",
    "ax2.set_xlabel(\"Tempo (s)\")\n",
    "ax2.set_ylabel(\"Amplitude\")\n",
    "ax2.legend()\n",
    "plt.tight_layout();"
   ]
  },
  {
   "cell_type": "markdown",
   "id": "97e44fe5",
   "metadata": {},
   "source": [
    "Apesar de o ruído branco inserido possuir uma grande amplitude, conseguimos filtrá-lo com sucesso. Vamos plotar também os espectros de potência."
   ]
  },
  {
   "cell_type": "code",
   "execution_count": null,
   "id": "08061976",
   "metadata": {},
   "outputs": [],
   "source": [
    "fig = plt.figure(figsize=(9, 6))\n",
    "ax1 = fig.add_subplot(211)\n",
    "ax1.plot(freqs[:N//2], psd[:N//2], color=\"r\", label=\"Ruidoso\")\n",
    "ax1.set_xlabel(\"Frequência (Hz)\")\n",
    "ax1.set_ylabel(\"Amplitude\")\n",
    "ax1.set_title(\"Densidade espectral\")\n",
    "ax1.legend()\n",
    "\n",
    "ax2 = fig.add_subplot(212)\n",
    "ax2.plot(freqs[:N//2], psd_filt[:N//2], color=\"r\", label=\"Filtrado\")\n",
    "ax2.set_xlabel(\"Frequência (Hz)\")\n",
    "ax2.set_ylabel(\"Amplitude\")\n",
    "ax2.set_title(\"Densidade espectral\")\n",
    "ax2.legend()\n",
    "plt.tight_layout();"
   ]
  },
  {
   "cell_type": "markdown",
   "id": "02d1eb4b",
   "metadata": {},
   "source": [
    "# Trabalhando com dado real\n",
    "\n",
    "Vamos analisar o registro de um terremoto que aconteceu em 06/09/2020 às 06:51:18, detectado pela estação AQDB. A biblioteca `Obspy` permite ler e realizar diversos processamentos com dados sismológicos, mas vamos utilizá-la apenas para ler os dados. "
   ]
  },
  {
   "cell_type": "code",
   "execution_count": null,
   "id": "c2b0560e",
   "metadata": {},
   "outputs": [],
   "source": [
    "# pip install obspy\n",
    "from obspy import read"
   ]
  },
  {
   "cell_type": "code",
   "execution_count": null,
   "id": "f6b96e1e",
   "metadata": {},
   "outputs": [],
   "source": [
    "st = read(\"./Dados/sismograma.sac\") # insira o caminho correto para o arquivo"
   ]
  },
  {
   "cell_type": "code",
   "execution_count": null,
   "id": "178b4926",
   "metadata": {},
   "outputs": [],
   "source": [
    "tr = st[0]"
   ]
  },
  {
   "cell_type": "code",
   "execution_count": null,
   "id": "7d5dff06",
   "metadata": {},
   "outputs": [],
   "source": [
    "# extraindo informações e criando vetores\n",
    "x = tr.data\n",
    "dt = tr.stats.delta\n",
    "sr = tr.stats.sampling_rate\n",
    "N = tr.stats.npts\n",
    "t = np.arange(0, N/sr, dt)"
   ]
  },
  {
   "cell_type": "code",
   "execution_count": null,
   "id": "4994f9c7",
   "metadata": {},
   "outputs": [],
   "source": [
    "fig = plt.figure(figsize=(10, 6))\n",
    "plt.plot(t, x, 'k')\n",
    "plt.ylabel(\"Contagem\")\n",
    "plt.xlabel(\"Tempo desde a origem (s)\");"
   ]
  },
  {
   "cell_type": "markdown",
   "id": "836d31b1",
   "metadata": {},
   "source": [
    "**Exercício.** Plote a Transformada de Fourier do sinal e a seguir faça testes com filtros passa baixa, passa alta e passa banda."
   ]
  },
  {
   "cell_type": "code",
   "execution_count": null,
   "id": "f23754df",
   "metadata": {},
   "outputs": [],
   "source": []
  }
 ],
 "metadata": {
  "kernelspec": {
   "display_name": "Python 3 (ipykernel)",
   "language": "python",
   "name": "python3"
  },
  "language_info": {
   "codemirror_mode": {
    "name": "ipython",
    "version": 3
   },
   "file_extension": ".py",
   "mimetype": "text/x-python",
   "name": "python",
   "nbconvert_exporter": "python",
   "pygments_lexer": "ipython3",
   "version": "3.7.12"
  }
 },
 "nbformat": 4,
 "nbformat_minor": 5
}
