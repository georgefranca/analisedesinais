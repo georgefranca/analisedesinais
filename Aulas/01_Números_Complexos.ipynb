{
 "cells": [
  {
   "cell_type": "markdown",
   "id": "993f3c38",
   "metadata": {},
   "source": [
    "### Sumário\n",
    "\n",
    "1. [Motivação](#1.-Motivação)\n",
    "2. [Plano complexo e coordenadas polares](#2.-Plano-complexo-e-coordenadas-polares)"
   ]
  },
  {
   "cell_type": "markdown",
   "id": "822a6e01",
   "metadata": {},
   "source": [
    "## 1. Motivação\n",
    "\n",
    "Suponha que queremos resolver uma equação quadrática da forma:\n",
    "\n",
    "<p style=\"text-align:center\">$az^{2} + bz + c = 0$</p>\n",
    "\n",
    "O valor da variável z é dado pela fórmula quadrática:\n",
    "\n",
    "<p style=\"text-align:center\">$z = \\frac{-b \\pm\\sqrt{b^{2}-4ac}}{2a}$</p>\n",
    "\n",
    "Como apenas números não negativos possuem raízes quadradas reais, caso o discriminante seja negativo, um novo tipo de número deve ser introduzido, chamado de número imaginário. Números imaginários são representados por $i = \\sqrt{-1}$, onde $i^{2} = -1$. Exemplos:\n",
    "\n",
    "<p style=\"text-align:center\">$\\sqrt{-25} = 5i; i^{3} = -i$</p>\n",
    "\n",
    "O termo **número complexo** é usado para descrever qualquer número dos conjuntos inteiro, real, imaginário ou combinações dos dois, como 5 + 2i.\n",
    "\n",
    "**Exemplo**. A solução de \n",
    "\n",
    "<p style=\"text-align:center\">$z^{2} - z + 1$</p>\n",
    "é <p style=\"text-align:center\">$z = \\frac{1 \\pm \\sqrt{1-4}}{2} = \\frac{1}{2} \\pm \\frac{i\\sqrt{3}}{2}$</p>\n",
    "\n"
   ]
  },
  {
   "cell_type": "markdown",
   "id": "fee28346",
   "metadata": {},
   "source": [
    "## 2. Plano complexo e coordenadas polares"
   ]
  },
  {
   "cell_type": "markdown",
   "id": "e4ec5f9e",
   "metadata": {},
   "source": [
    "Um plano cartesiano pode ser utilizado para representar números complexos; assim, as notações 5 + 3i e (5, 3) são equivalentes"
   ]
  }
 ],
 "metadata": {
  "kernelspec": {
   "display_name": "Python 3 (ipykernel)",
   "language": "python",
   "name": "python3"
  },
  "language_info": {
   "codemirror_mode": {
    "name": "ipython",
    "version": 3
   },
   "file_extension": ".py",
   "mimetype": "text/x-python",
   "name": "python",
   "nbconvert_exporter": "python",
   "pygments_lexer": "ipython3",
   "version": "3.9.6"
  },
  "toc": {
   "base_numbering": 1,
   "nav_menu": {},
   "number_sections": false,
   "sideBar": false,
   "skip_h1_title": false,
   "title_cell": "Table of Contents",
   "title_sidebar": "Contents",
   "toc_cell": false,
   "toc_position": {},
   "toc_section_display": false,
   "toc_window_display": false
  }
 },
 "nbformat": 4,
 "nbformat_minor": 5
}
