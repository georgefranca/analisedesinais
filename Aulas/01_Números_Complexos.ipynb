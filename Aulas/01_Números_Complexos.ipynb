{
 "cells": [
  {
   "cell_type": "markdown",
   "id": "993f3c38",
   "metadata": {},
   "source": [
    "### Sumário\n",
    "\n",
    "1. [Motivação](#1.-Motivação)\n",
    "2. [Plano complexo e coordenadas polares](#2.-Plano-complexo-e-coordenadas-polares)\n",
    "3. [Números complexos em Python](#3.-Números-complexos-em-Python)\n",
    "4. [Álgebra complexa](#4.-Álgebra-complexa)\n",
    "5. [Relação de Euler](#5.-Relação-de-Euler)"
   ]
  },
  {
   "cell_type": "markdown",
   "id": "822a6e01",
   "metadata": {},
   "source": [
    "## 1. Motivação\n",
    "\n",
    "Suponha que queremos resolver uma equação quadrática da forma:\n",
    "\n",
    "<p style=\"text-align:center\">$az^{2} + bz + c = 0$</p>\n",
    "\n",
    "O valor da variável z é dado pela fórmula quadrática:\n",
    "\n",
    "<p style=\"text-align:center\">$z = \\frac{-b \\pm\\sqrt{b^{2}-4ac}}{2a}$</p>\n",
    "\n",
    "Como apenas números não negativos possuem raízes quadradas reais, caso o discriminante seja negativo, um novo tipo de número deve ser introduzido, chamado de número imaginário. Números imaginários são representados por $i = \\sqrt{-1}$, onde $i^{2} = -1$. Exemplos:\n",
    "\n",
    "<p style=\"text-align:center\">$\\sqrt{-25} = 5i; i^{3} = -i$</p>\n",
    "\n",
    "O termo **número complexo** é usado para descrever qualquer número dos conjuntos inteiro, real, imaginário ou combinações dos dois, como 5 + 2i.\n",
    "\n",
    "**Exemplo.** A solução de \n",
    "\n",
    "<p style=\"text-align:center\">$z^{2} - z + 1$</p>\n",
    "é <p style=\"text-align:center\">$z = \\frac{1 \\pm \\sqrt{1-4}}{2} = \\frac{1}{2} \\pm \\frac{i\\sqrt{3}}{2}$</p>\n",
    "\n",
    "**Exercício.** Calcule $i^{2}, i^{3}, i^{4}, i^{5}, i^{6}$.\n",
    "\n"
   ]
  },
  {
   "cell_type": "markdown",
   "id": "fee28346",
   "metadata": {},
   "source": [
    "## 2. Plano complexo e coordenadas polares"
   ]
  },
  {
   "cell_type": "markdown",
   "id": "e4ec5f9e",
   "metadata": {},
   "source": [
    "Um plano cartesiano pode ser utilizado para representar números complexos; assim, as notações 5 + 3i e (5, 3) são equivalentes. Em geral, a **parte real** de um número complexo é representada no eixo horizontal, e a **parte imaginária** no eixo vertical (ver figura abaixo).\n",
    "\n",
    "<img src=\"./Figuras/plano_complexo.png\" width=300 height=300 alt=\"Plano complexo\" />\n",
    "\n",
    "Em vez de usar as coordenadas retangulares (x, y), em geometria analítica podemos localizar um ponto por meio de suas coordenadas polares (r, $\\theta$), onde r é a distância de z até a origem dos sistema de coordenadas do plano complexo (r = |z|) e $\\theta$ (argumento) é o ângulo entre z e o semieixo real positivo. Assim, para um número complexo z = x + iy:\n",
    "\n",
    "<p style=\"text-align:center\">$x = r cos \\theta$</p>\n",
    "<p style=\"text-align:center\">$y = r sin \\theta$</p>\n",
    "\n",
    "e\n",
    "\n",
    "<p style=\"text-align:center\">$z = x + iy = r cos \\theta + i r sin \\theta = r(cos \\theta + i sin \\theta)$</p>\n",
    "\n",
    "**Exemplo.** Converta -1 - i para coordenadas polares. Primeiramente, calculando o valor de r obtemos $r = \\sqrt{-1^{2} -1^{2}} = 1$. Para $\\theta$, temos uma quantidade infinita de ângulos: \n",
    "\n",
    "<p style=\"text-align:center\">$\\theta = \\frac{5\\pi}{4} + 2k\\pi$</p>\n",
    "\n",
    "onde k é qualquer inteiro, positivo ou negativo. Limitando os valores possíveis ao intervalo [$-2\\pi$, $2\\pi$], obtemos um **ângulo principal** de $\\frac{5\\pi}{4}$, mas $\\frac{-3\\pi}{4}$ também está igualmente correto. A relação $\\theta = arctan(y/x)$ pode ajudar a encontrar o valor do ângulo, mas deve-se tomar cuidado pois o ângulo deve estar no mesmo quadrante do ponto, e no exemplo anterior a relação $arctan 1 = \\pi/4$ levaria a um erro, sendo necessário neste caso somar $\\pi$ ao valor obtido para acertar o quadrante do ponto.\n",
    "\n",
    "**Exercício.** Plote o gráfico de 4-3i."
   ]
  },
  {
   "cell_type": "code",
   "execution_count": null,
   "id": "841f2385",
   "metadata": {},
   "outputs": [],
   "source": []
  },
  {
   "cell_type": "markdown",
   "id": "c0a620c0",
   "metadata": {},
   "source": [
    "Outro conceito amplamente utilizado é o de **complexo conjugado** ou simplesmente **conjugado** de um número complexo, que é obtido simplesmente invertendo o sinal da sua respectiva parte imaginária. Assim, se $z = x + iy$ é um número complexo, o seu conjugado é dado por $z^{*} = x - iy$."
   ]
  },
  {
   "cell_type": "markdown",
   "id": "14e661a0",
   "metadata": {},
   "source": [
    "## 3. Números complexos em Python"
   ]
  },
  {
   "cell_type": "markdown",
   "id": "7efba0c5",
   "metadata": {},
   "source": [
    "Em Python a parte imaginária de números complexos é representada pela letra j, como exemplificado na célula abaixo."
   ]
  },
  {
   "cell_type": "code",
   "execution_count": 1,
   "id": "bcd67ca9",
   "metadata": {},
   "outputs": [],
   "source": [
    "z = 4 + 3j"
   ]
  },
  {
   "cell_type": "code",
   "execution_count": 2,
   "id": "3e0ff40c",
   "metadata": {},
   "outputs": [
    {
     "data": {
      "text/plain": [
       "complex"
      ]
     },
     "execution_count": 2,
     "metadata": {},
     "output_type": "execute_result"
    }
   ],
   "source": [
    "type(z)"
   ]
  },
  {
   "cell_type": "markdown",
   "id": "6d2cbee7",
   "metadata": {},
   "source": [
    "Um objeto do tipo complexo em Python possui um método (conjugate) e dois atributos (real e imag):"
   ]
  },
  {
   "cell_type": "code",
   "execution_count": 3,
   "id": "5dc16415",
   "metadata": {},
   "outputs": [
    {
     "data": {
      "text/plain": [
       "(4-3j)"
      ]
     },
     "execution_count": 3,
     "metadata": {},
     "output_type": "execute_result"
    }
   ],
   "source": [
    "z.conjugate()"
   ]
  },
  {
   "cell_type": "code",
   "execution_count": 4,
   "id": "0c2b55e5",
   "metadata": {},
   "outputs": [
    {
     "data": {
      "text/plain": [
       "4.0"
      ]
     },
     "execution_count": 4,
     "metadata": {},
     "output_type": "execute_result"
    }
   ],
   "source": [
    "z.real"
   ]
  },
  {
   "cell_type": "code",
   "execution_count": 5,
   "id": "7b96fa8b",
   "metadata": {},
   "outputs": [
    {
     "data": {
      "text/plain": [
       "3.0"
      ]
     },
     "execution_count": 5,
     "metadata": {},
     "output_type": "execute_result"
    }
   ],
   "source": [
    "z.imag"
   ]
  },
  {
   "cell_type": "markdown",
   "id": "abd7148f",
   "metadata": {},
   "source": [
    "**Exercícios.** Resolva os exercícios utilizando as células de código logo abaixo dos mesmos."
   ]
  },
  {
   "cell_type": "markdown",
   "id": "7efc16a8",
   "metadata": {},
   "source": [
    "1. Escreva z utilizando a representação polar."
   ]
  },
  {
   "cell_type": "markdown",
   "id": "5c4f97e7",
   "metadata": {},
   "source": [
    "a) $z = 4 - 2i$"
   ]
  },
  {
   "cell_type": "code",
   "execution_count": null,
   "id": "ce286508",
   "metadata": {},
   "outputs": [],
   "source": []
  },
  {
   "cell_type": "markdown",
   "id": "4f29198c",
   "metadata": {},
   "source": [
    "b) $z = -\\sqrt{3} + 2i$"
   ]
  },
  {
   "cell_type": "code",
   "execution_count": null,
   "id": "deb1884b",
   "metadata": {},
   "outputs": [],
   "source": []
  },
  {
   "cell_type": "markdown",
   "id": "b19af968",
   "metadata": {},
   "source": [
    "c) $z = 2i$"
   ]
  },
  {
   "cell_type": "code",
   "execution_count": null,
   "id": "15b85ba9",
   "metadata": {},
   "outputs": [],
   "source": []
  },
  {
   "cell_type": "markdown",
   "id": "f37067ec",
   "metadata": {},
   "source": [
    "d) $z = 5$"
   ]
  },
  {
   "cell_type": "code",
   "execution_count": null,
   "id": "49ee2a6b",
   "metadata": {},
   "outputs": [],
   "source": []
  },
  {
   "cell_type": "markdown",
   "id": "c267f8b4",
   "metadata": {},
   "source": [
    "2. Imprima na tela o conjugado, a parte real e a parte imaginária de $z = 7 + i\\sqrt{3}$."
   ]
  },
  {
   "cell_type": "code",
   "execution_count": null,
   "id": "0c817d4c",
   "metadata": {},
   "outputs": [],
   "source": []
  },
  {
   "cell_type": "markdown",
   "id": "45ff0c27",
   "metadata": {},
   "source": [
    "## 4. Álgebra complexa"
   ]
  },
  {
   "cell_type": "markdown",
   "id": "7e45327c",
   "metadata": {},
   "source": [
    "### Simplificando para a forma x + iy\n",
    "\n",
    "Qualquer número complexo pode ser escrito na forma x + iy. Lembre-se que os números complexos seguem as regras da álgebra e que $i^{2} = -1$.\n",
    "\n",
    "**Exemplo 1.** $(1+i)^{2} = 1 + 2i + i^{2} = 1 + 2i -1 = 2i$  \n",
    "\n",
    "**Exemplo 2.** Para dividir um número complexo por outro, escreva a operação na forma de fração e multiplique-a por $\\frac{z^{*}}{z^{*}}$:\n",
    "\n",
    "<p style=\"text-align:center\">$\\frac{2+i}{3-i} = \\frac{2+i}{3-i}\\frac{3+i}{3+i} = \\frac{6 + 5i + i^{2}}{9 - i^{2}} = \\frac{5+5i}{10} = \\frac{1}{2} + \\frac{1}{2}i$</p>"
   ]
  },
  {
   "cell_type": "markdown",
   "id": "2edd871a",
   "metadata": {},
   "source": [
    "### Conjugado de uma expressão complexa\n",
    "\n",
    "O conjugado de uma expressão de soma, subtração, produto ou divisão é obtido simplesmente invertendo o sinal de todos os termos contendo i.\n",
    "\n",
    "**Exemplo** Se $z = \\frac{5-3i}{2+i}$ então $z^{*} = \\frac{5+3i}{2-i}$\n",
    "\n",
    "Faça testes em código na célula abaixo."
   ]
  },
  {
   "cell_type": "code",
   "execution_count": null,
   "id": "ba220c60",
   "metadata": {},
   "outputs": [],
   "source": []
  },
  {
   "cell_type": "markdown",
   "id": "e696b87d",
   "metadata": {},
   "source": [
    "### Valor absoluto de z\n",
    "\n",
    "<p style=\"text-align:center\">$|z| = r = \\sqrt{x^{2}+y^{2}} = \\sqrt{zz^{*}}$</p>"
   ]
  },
  {
   "cell_type": "markdown",
   "id": "b524fc73",
   "metadata": {},
   "source": [
    "### Equações complexas\n",
    "\n",
    "Ao trabalhar com equações complexas, devemos lembrar que um número complexo é formado por dois números reais, e dois números complexos são iguais apenas se as suas partes reais são iguais e se as suas partes imaginárias são iguais. Em outras palavras, uma equação envolvendo números complexos é equivalente a duas equações envolvendo números reais.\n",
    "\n",
    "**Exemplo.** Encontre x e y se $(x+iy)^{2} = 2i$\n",
    "\n",
    "1. $(x+iy)^{2} = x^{2}+2ixy-y^{2}$\n",
    "2. $=>    \\begin{cases}\n",
    "      x^{2}-y^{2} = 0\\\\\n",
    "      2xy = 2\n",
    "    \\end{cases}\\,$\n",
    "3. Pela primeira equação $y^{2} = x^{2}$, temos que y = x ou y = -x. Substituindo na segunda equação, temos que $2x^{2} = 2$ ou $-2x^{2} = 2$.\n",
    "4. Como x é real, $x^{2}$ não pode ser negativo, e portanto $x^{2} = 1$, $y = x$ => $x = y = 1$ e $x = y = -1$"
   ]
  },
  {
   "cell_type": "markdown",
   "id": "da827358",
   "metadata": {},
   "source": [
    "**Resolva os exercícios abaixo.**"
   ]
  },
  {
   "cell_type": "markdown",
   "id": "3439e2b7",
   "metadata": {},
   "source": [
    "- $3 + (5 + 2i) = ?$"
   ]
  },
  {
   "cell_type": "code",
   "execution_count": null,
   "id": "97e4ab61",
   "metadata": {},
   "outputs": [],
   "source": []
  },
  {
   "cell_type": "markdown",
   "id": "173b7162",
   "metadata": {},
   "source": [
    "- $(1 + i) + (3 + 2i) = ? $"
   ]
  },
  {
   "cell_type": "code",
   "execution_count": null,
   "id": "882c6de3",
   "metadata": {},
   "outputs": [],
   "source": []
  },
  {
   "cell_type": "markdown",
   "id": "a5b0409d",
   "metadata": {},
   "source": [
    "- $(2 + 3i) - 3i = ?$"
   ]
  },
  {
   "cell_type": "code",
   "execution_count": null,
   "id": "3ca686f6",
   "metadata": {},
   "outputs": [],
   "source": []
  },
  {
   "cell_type": "markdown",
   "id": "3c95ee06",
   "metadata": {},
   "source": [
    "- $(1+i)(3+2i) = ?$"
   ]
  },
  {
   "cell_type": "code",
   "execution_count": null,
   "id": "03ba7c8a",
   "metadata": {},
   "outputs": [],
   "source": []
  },
  {
   "cell_type": "markdown",
   "id": "06956442",
   "metadata": {},
   "source": [
    "- Considere $z_{1} = 8 + 3i$ e $z_{2} = 9 - 2i$. Calcule $\\frac{z_{1}}{z_{2}}$."
   ]
  },
  {
   "cell_type": "code",
   "execution_count": null,
   "id": "8f75a923",
   "metadata": {},
   "outputs": [],
   "source": []
  },
  {
   "cell_type": "markdown",
   "id": "5e3732d4",
   "metadata": {},
   "source": [
    "- Calcule o módulo e $\\theta$ de $z = 3 - 4i$."
   ]
  },
  {
   "cell_type": "code",
   "execution_count": null,
   "id": "00fd28c9",
   "metadata": {},
   "outputs": [],
   "source": []
  },
  {
   "cell_type": "markdown",
   "id": "f0ab377c",
   "metadata": {},
   "source": [
    "- Calcule o módulo e $\\theta$ de $z = \\frac{2}{3}i$."
   ]
  },
  {
   "cell_type": "code",
   "execution_count": null,
   "id": "56441475",
   "metadata": {},
   "outputs": [],
   "source": []
  },
  {
   "cell_type": "markdown",
   "id": "1232de0e",
   "metadata": {},
   "source": [
    "## 5. Relação de Euler"
   ]
  },
  {
   "cell_type": "markdown",
   "id": "ff0b9f1b",
   "metadata": {},
   "source": [
    "A relação de Euler é dada por\n",
    "\n",
    "<p style=\"text-align:center\">$e^{i\\theta} = cos(\\theta) + isen(\\theta)$</p>\n",
    "\n",
    "A relação acima nos dá uma nova forma de escrever um número complexo em sua forma polar:\n",
    "\n",
    "<p style=\"text-align:center\">$z = r[cos(\\theta)+isen(\\theta)] = re^{i\\theta}$</p>\n",
    "\n",
    "onde $r = |z|$ e $\\theta=arg(z)$."
   ]
  },
  {
   "cell_type": "markdown",
   "id": "a0a1143e",
   "metadata": {},
   "source": [
    "**Exercícios.** Escreva na forma cartesiana:"
   ]
  },
  {
   "cell_type": "markdown",
   "id": "51de73f6",
   "metadata": {},
   "source": [
    "a) $2e^{i\\frac{\\pi}{6}}$"
   ]
  },
  {
   "cell_type": "code",
   "execution_count": null,
   "id": "cba8b08b",
   "metadata": {},
   "outputs": [],
   "source": []
  },
  {
   "cell_type": "markdown",
   "id": "13065551",
   "metadata": {},
   "source": [
    "b) $e^{2\\pi ki}$"
   ]
  },
  {
   "cell_type": "code",
   "execution_count": null,
   "id": "22f0192d",
   "metadata": {},
   "outputs": [],
   "source": []
  }
 ],
 "metadata": {
  "kernelspec": {
   "display_name": "Python 3 (ipykernel)",
   "language": "python",
   "name": "python3"
  },
  "language_info": {
   "codemirror_mode": {
    "name": "ipython",
    "version": 3
   },
   "file_extension": ".py",
   "mimetype": "text/x-python",
   "name": "python",
   "nbconvert_exporter": "python",
   "pygments_lexer": "ipython3",
   "version": "3.9.6"
  },
  "toc": {
   "base_numbering": 1,
   "nav_menu": {},
   "number_sections": false,
   "sideBar": false,
   "skip_h1_title": false,
   "title_cell": "Table of Contents",
   "title_sidebar": "Contents",
   "toc_cell": false,
   "toc_position": {},
   "toc_section_display": false,
   "toc_window_display": false
  }
 },
 "nbformat": 4,
 "nbformat_minor": 5
}
