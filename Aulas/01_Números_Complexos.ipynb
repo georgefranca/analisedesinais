{
 "cells": [
  {
   "cell_type": "markdown",
   "id": "993f3c38",
   "metadata": {},
   "source": [
    "### Sumário\n",
    "\n",
    "1. [Motivação](#1.-Motivação)\n",
    "2. [Plano complexo e coordenadas polares](#2.-Plano-complexo-e-coordenadas-polares)\n",
    "3. [Números complexos em Python](#3.-Números-complexos-em-Python)\n",
    "4. [Álgebra complexa](#4.-Álgebra-complexa)"
   ]
  },
  {
   "cell_type": "markdown",
   "id": "822a6e01",
   "metadata": {},
   "source": [
    "## 1. Motivação\n",
    "\n",
    "Suponha que queremos resolver uma equação quadrática da forma:\n",
    "\n",
    "<p style=\"text-align:center\">$az^{2} + bz + c = 0$</p>\n",
    "\n",
    "O valor da variável z é dado pela fórmula quadrática:\n",
    "\n",
    "<p style=\"text-align:center\">$z = \\frac{-b \\pm\\sqrt{b^{2}-4ac}}{2a}$</p>\n",
    "\n",
    "Como apenas números não negativos possuem raízes quadradas reais, caso o discriminante seja negativo, um novo tipo de número deve ser introduzido, chamado de número imaginário. Números imaginários são representados por $i = \\sqrt{-1}$, onde $i^{2} = -1$. Exemplos:\n",
    "\n",
    "<p style=\"text-align:center\">$\\sqrt{-25} = 5i; i^{3} = -i$</p>\n",
    "\n",
    "O termo **número complexo** é usado para descrever qualquer número dos conjuntos inteiro, real, imaginário ou combinações dos dois, como 5 + 2i.\n",
    "\n",
    "**Exemplo.** A solução de \n",
    "\n",
    "<p style=\"text-align:center\">$z^{2} - z + 1$</p>\n",
    "é <p style=\"text-align:center\">$z = \\frac{1 \\pm \\sqrt{1-4}}{2} = \\frac{1}{2} \\pm \\frac{i\\sqrt{3}}{2}$</p>\n",
    "\n"
   ]
  },
  {
   "cell_type": "markdown",
   "id": "fee28346",
   "metadata": {},
   "source": [
    "## 2. Plano complexo e coordenadas polares"
   ]
  },
  {
   "cell_type": "markdown",
   "id": "e4ec5f9e",
   "metadata": {},
   "source": [
    "Um plano cartesiano pode ser utilizado para representar números complexos; assim, as notações 5 + 3i e (5, 3) são equivalentes. Em geral, a **parte real** de um número complexo é representada no eixo horizontal, e a **parte imaginária** no eixo vertical (ver figura abaixo).\n",
    "\n",
    "<img src=\"./Figuras/plano_complexo.png\" width=300 height=300 alt=\"Plano complexo\" />\n",
    "\n",
    "Em vez de usar as coordenadas retangulares (x, y), em geometria analítica podemos localizar um ponto por meio de suas coordenadas polares (r, $\\theta$), onde r é a distância de z até a origem dos sistema de coordenadas do plano complexo (r = |z|) e $\\theta$ é o ângulo entre z e o semieixo real positivo. Assim, para um número complexo z = x + iy:\n",
    "\n",
    "<p style=\"text-align:center\">$x = r cos \\theta$</p>\n",
    "<p style=\"text-align:center\">$y = r sin \\theta$</p>\n",
    "\n",
    "e\n",
    "\n",
    "<p style=\"text-align:center\">$z = x + iy = r cos \\theta + i r sin \\theta = r(cos \\theta + i sin \\theta)$</p>\n",
    "\n",
    "**Exemplo.** Converta -1 - i para coordenadas polares. Primeiramente, calculando o valor de r obtemos $r = \\sqrt{-1^{2} -1^{2}} = 1$. Para $\\theta$, temos uma quantidade infinita de ângulos: \n",
    "\n",
    "<p style=\"text-align:center\">$\\theta = \\frac{5\\pi}{4} + 2k\\pi$</p>\n",
    "\n",
    "onde k é qualquer inteiro, positivo ou negativo. Limitando os valores possíveis ao intervalo [0, $2\\pi$], obtemos um **ângulo principal** de $\\frac{5\\pi}{4}$, mas $\\frac{-3\\pi}{4}$ também está igualmente correto. A relação $\\theta = arctan(y/x)$ pode ajudar a encontrar o valor do ângulo, mas deve-se tomar cuidado pois o ângulo deve estar no mesmo quadrante do ponto, e no exemplo anterior a relação $arctan 1 = \\pi/4$ levaria a um erro, sendo necessária neste caso somar $\\pi$ ao valor obtido para acertar o quadrante do ponto.\n",
    "\n",
    "Outro conceito amplamente utilizado é o de **complexo conjugado** ou simplesmente **conjugado** de um número complexo, que é obtido simplesmente invertendo o sinal da sua respectiva parte imaginária. Assim, se $z = x + iy$ é um número complexo, o seu conjugado é dado por $z^{*} = x - iy$."
   ]
  },
  {
   "cell_type": "markdown",
   "id": "14e661a0",
   "metadata": {},
   "source": [
    "## 3. Números complexos em Python"
   ]
  },
  {
   "cell_type": "markdown",
   "id": "7efba0c5",
   "metadata": {},
   "source": [
    "Em Python a parte imaginária de números complexos é representada pela letra j, como exemplificado na célula abaixo."
   ]
  },
  {
   "cell_type": "code",
   "execution_count": 1,
   "id": "bcd67ca9",
   "metadata": {},
   "outputs": [],
   "source": [
    "z = 4 + 3j"
   ]
  },
  {
   "cell_type": "code",
   "execution_count": 2,
   "id": "3e0ff40c",
   "metadata": {},
   "outputs": [
    {
     "data": {
      "text/plain": [
       "complex"
      ]
     },
     "execution_count": 2,
     "metadata": {},
     "output_type": "execute_result"
    }
   ],
   "source": [
    "type(z)"
   ]
  },
  {
   "cell_type": "markdown",
   "id": "6d2cbee7",
   "metadata": {},
   "source": [
    "Um objeto do tipo complexo em Python possui um método (conjugate) e dois atributos (real e imag):"
   ]
  },
  {
   "cell_type": "code",
   "execution_count": 3,
   "id": "5dc16415",
   "metadata": {},
   "outputs": [
    {
     "data": {
      "text/plain": [
       "(4-3j)"
      ]
     },
     "execution_count": 3,
     "metadata": {},
     "output_type": "execute_result"
    }
   ],
   "source": [
    "z.conjugate()"
   ]
  },
  {
   "cell_type": "code",
   "execution_count": 4,
   "id": "0c2b55e5",
   "metadata": {},
   "outputs": [
    {
     "data": {
      "text/plain": [
       "4.0"
      ]
     },
     "execution_count": 4,
     "metadata": {},
     "output_type": "execute_result"
    }
   ],
   "source": [
    "z.real"
   ]
  },
  {
   "cell_type": "code",
   "execution_count": 5,
   "id": "7b96fa8b",
   "metadata": {},
   "outputs": [
    {
     "data": {
      "text/plain": [
       "3.0"
      ]
     },
     "execution_count": 5,
     "metadata": {},
     "output_type": "execute_result"
    }
   ],
   "source": [
    "z.imag"
   ]
  },
  {
   "cell_type": "markdown",
   "id": "abd7148f",
   "metadata": {},
   "source": [
    "**Exercícios.** Resolva os exercícios utilizando as células de código logo abaixo dos mesmos."
   ]
  },
  {
   "cell_type": "markdown",
   "id": "7efc16a8",
   "metadata": {},
   "source": [
    "1. Escreva z utilizando a representação polar."
   ]
  },
  {
   "cell_type": "markdown",
   "id": "5c4f97e7",
   "metadata": {},
   "source": [
    "a) $z = 4 - 2i$"
   ]
  },
  {
   "cell_type": "code",
   "execution_count": null,
   "id": "ce286508",
   "metadata": {},
   "outputs": [],
   "source": []
  },
  {
   "cell_type": "markdown",
   "id": "4f29198c",
   "metadata": {},
   "source": [
    "b) $z = -\\sqrt{3} + 2i$"
   ]
  },
  {
   "cell_type": "code",
   "execution_count": null,
   "id": "deb1884b",
   "metadata": {},
   "outputs": [],
   "source": []
  },
  {
   "cell_type": "markdown",
   "id": "b19af968",
   "metadata": {},
   "source": [
    "c) $z = 2i$"
   ]
  },
  {
   "cell_type": "code",
   "execution_count": null,
   "id": "15b85ba9",
   "metadata": {},
   "outputs": [],
   "source": []
  },
  {
   "cell_type": "markdown",
   "id": "f37067ec",
   "metadata": {},
   "source": [
    "d) $z = 5$"
   ]
  },
  {
   "cell_type": "code",
   "execution_count": null,
   "id": "49ee2a6b",
   "metadata": {},
   "outputs": [],
   "source": []
  },
  {
   "cell_type": "markdown",
   "id": "c267f8b4",
   "metadata": {},
   "source": [
    "2. Imprima na tela o conjugado, a parte real e a parte imaginária de $z = 7 + i\\sqrt{3}$."
   ]
  },
  {
   "cell_type": "code",
   "execution_count": null,
   "id": "0c817d4c",
   "metadata": {},
   "outputs": [],
   "source": []
  },
  {
   "cell_type": "markdown",
   "id": "45ff0c27",
   "metadata": {},
   "source": [
    "## 4. Álgebra complexa"
   ]
  },
  {
   "cell_type": "code",
   "execution_count": null,
   "id": "e2dc9c14",
   "metadata": {},
   "outputs": [],
   "source": []
  }
 ],
 "metadata": {
  "kernelspec": {
   "display_name": "Python 3 (ipykernel)",
   "language": "python",
   "name": "python3"
  },
  "language_info": {
   "codemirror_mode": {
    "name": "ipython",
    "version": 3
   },
   "file_extension": ".py",
   "mimetype": "text/x-python",
   "name": "python",
   "nbconvert_exporter": "python",
   "pygments_lexer": "ipython3",
   "version": "3.9.6"
  },
  "toc": {
   "base_numbering": 1,
   "nav_menu": {},
   "number_sections": false,
   "sideBar": false,
   "skip_h1_title": false,
   "title_cell": "Table of Contents",
   "title_sidebar": "Contents",
   "toc_cell": false,
   "toc_position": {},
   "toc_section_display": false,
   "toc_window_display": false
  }
 },
 "nbformat": 4,
 "nbformat_minor": 5
}
