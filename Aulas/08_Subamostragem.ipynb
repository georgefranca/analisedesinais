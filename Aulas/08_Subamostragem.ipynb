{
 "cells": [
  {
   "cell_type": "markdown",
   "id": "9d74a9dc",
   "metadata": {},
   "source": [
    "Neste notebook, vamos analisar o efeito da amostragem em sinais. Primeiramente, vamos começar com um sinal com muitas amostras, ir diminuindo aos poucos e observando o resultado. Considerando N o número de amostras e $\\Delta t$ o espaçamento entre amostras, temos que:\n",
    "\n",
    "**Frequência de Nyquist**\n",
    "\n",
    "$\\large f_{Ny} = \\frac{1}{(2\\Delta t)}$\n",
    "\n",
    "**Resolução de frequência**\n",
    "\n",
    "$\\large \\Delta f = \\frac{1}{N\\Delta t}$"
   ]
  },
  {
   "cell_type": "code",
   "execution_count": null,
   "id": "55b2a42e",
   "metadata": {},
   "outputs": [],
   "source": [
    "# importando bibliotecas\n",
    "import numpy as np\n",
    "import matplotlib.pyplot as plt\n",
    "from scipy.fftpack import fft"
   ]
  },
  {
   "cell_type": "markdown",
   "id": "f61ca155",
   "metadata": {},
   "source": [
    "Primeiramente, vamos definir um sinal seno com frequência de 10 Hz. Vamos gerar um sinal discretizado para representá-lo, inicialmente com taxa de amostragem de 100 Hz."
   ]
  },
  {
   "cell_type": "code",
   "execution_count": null,
   "id": "55670ce3",
   "metadata": {},
   "outputs": [],
   "source": [
    "# vamos começar definindo uma função que recebe um vetor de tempos e uma\n",
    "# frequência e retorna uma função seno\n",
    "\n",
    "def y(t, f):\n",
    "    return np.sin(2*np.pi*f*t)"
   ]
  },
  {
   "cell_type": "code",
   "execution_count": null,
   "id": "25088d3e",
   "metadata": {},
   "outputs": [],
   "source": [
    "f = 10 # freq. do sinal de 10 Hz\n",
    "\n",
    "ta = 100 # taxa de amostragem\n",
    "dt = 1/ta # intervalo de amostragem\n",
    "\n",
    "# vamos definir um vetor de tempos que represente o sinal contínuo\n",
    "t_cont = np.arange(0, 1, dt/100)\n",
    "\n",
    "# e agora o sinal amostrado\n",
    "t = np.arange(0, 1, dt)\n",
    "\n",
    "# calc a frequência de Nyquist\n",
    "f_Ny = 1/(2*dt)\n",
    "\n",
    "plt.figure(figsize=(8, 5))\n",
    "plt.plot(t_cont, y(t_cont, f), color='k', label=\"Sinal original\")\n",
    "plt.plot(t, y(t, f), color='r', marker='.', label=\"Amostras\")\n",
    "plt.plot(t, y(t, f), color='g', label=\"Sinal recuperado\")\n",
    "plt.title(\"Freq. de Nyquist: %s Hz; Taxa de amostragem: %s Hz\"%(f_Ny, ta))\n",
    "plt.xlabel(\"Tempo (s)\")\n",
    "plt.ylabel(\"Amplitude\")\n",
    "plt.legend()\n",
    "plt.show();"
   ]
  },
  {
   "cell_type": "markdown",
   "id": "e6af4c49",
   "metadata": {},
   "source": [
    "Observamos que a nossa taxa de amostragem é satisfatória e consegue recuperar bem o sinal, apesar de haver uma pequena perda de amplitude. Antes de diminuirmos a taxa de amostragem, vamos observar o sinal no domínio da frequência. Para plotar, vamos até o dobro o valor da frequência de Nyquist para ver um efeito de espelhamento, o **aliasing**."
   ]
  },
  {
   "cell_type": "code",
   "execution_count": null,
   "id": "e5659b69",
   "metadata": {},
   "outputs": [],
   "source": [
    "# calc o espaçamento entre amostras de frequência\n",
    "df = 1/(len(t)*dt)\n",
    "\n",
    "# vetor de frequências\n",
    "freqs = np.arange(0, 2*f_Ny, df)\n",
    "\n",
    "# FFT\n",
    "y_FFT = fft(y(t, f))\n",
    "\n",
    "plt.plot(freqs, abs(y_FFT), '-o')\n",
    "plt.axvline(f_Ny, c='k')\n",
    "plt.xlabel(\"Frequência (Hz)\")\n",
    "plt.show()"
   ]
  },
  {
   "cell_type": "markdown",
   "id": "66ed2373",
   "metadata": {},
   "source": [
    "Vemos que a frequência de Nyquist (50 Hz) está bem acima da frequência máxima do sinal, de 10 Hz, e portanto o sinal está bem amostrado. Vamos diminuir a taxa de amostragem pela metade e inspecionar o resultado."
   ]
  },
  {
   "cell_type": "code",
   "execution_count": null,
   "id": "6944e8e5",
   "metadata": {},
   "outputs": [],
   "source": [
    "ta = 50 # taxa de amostragem\n",
    "dt = 1/ta # intervalo de amostragem\n",
    "\n",
    "t = np.arange(0, 1, dt)\n",
    "\n",
    "# calc a frequência de Nyquist\n",
    "f_Ny = 1/(2*dt)\n",
    "\n",
    "plt.figure(figsize=(8, 5))\n",
    "plt.plot(t_cont, y(t_cont, f), color='k', label=\"Sinal original\")\n",
    "plt.plot(t, y(t, f), color='r', marker='.', label=\"Amostras\")\n",
    "plt.plot(t, y(t, f), color='g', label=\"Sinal recuperado\")\n",
    "plt.title(\"Freq. de Nyquist: %s Hz; Taxa de amostragem: %s Hz\"%(f_Ny, ta))\n",
    "plt.xlabel(\"Tempo (s)\")\n",
    "plt.ylabel(\"Amplitude\")\n",
    "plt.legend()\n",
    "plt.show();"
   ]
  },
  {
   "cell_type": "markdown",
   "id": "b3fa0d8b",
   "metadata": {},
   "source": [
    "As frequências do sinal original continuam sendo recuperadas, mas começamos a observar que o sinal recuperado é bem menos suave do que o sinal original. No domínio da frequência:"
   ]
  },
  {
   "cell_type": "code",
   "execution_count": null,
   "id": "8d3382d0",
   "metadata": {},
   "outputs": [],
   "source": [
    "# calc o espaçamento entre amostras de frequência\n",
    "df = 1/(len(t)*dt)\n",
    "\n",
    "# vetor de frequências\n",
    "freqs = np.arange(0, 2*f_Ny, df)\n",
    "\n",
    "# FFT\n",
    "y_FFT = fft(y(t, f))\n",
    "\n",
    "plt.plot(freqs, abs(y_FFT), '-o')\n",
    "plt.axvline(f_Ny, c='k')\n",
    "plt.xlabel(\"Frequência (Hz)\")\n",
    "plt.show()"
   ]
  },
  {
   "cell_type": "markdown",
   "id": "cd5278c5",
   "metadata": {},
   "source": [
    "Agora, a frequência de Nyquist caiu para 25 Hz, mas ainda é maior do que a frequência do nosso sinal. Agora, vamos diminuir a taxa de amostragem para algo **ligeiramente** acima do dobro da frequência máxima do sinal."
   ]
  },
  {
   "cell_type": "code",
   "execution_count": null,
   "id": "6e930791",
   "metadata": {},
   "outputs": [],
   "source": [
    "ta = 22 # taxa de amostragem\n",
    "dt = 1/ta # intervalo de amostragem\n",
    "\n",
    "t = np.arange(0, 1, dt)\n",
    "\n",
    "# calc a frequência de Nyquist\n",
    "f_Ny = 1/(2*dt)\n",
    "\n",
    "plt.figure(figsize=(8, 5))\n",
    "plt.plot(t_cont, y(t_cont, f), color='k', label=\"Sinal original\")\n",
    "plt.plot(t, y(t, f), color='r', marker='.', label=\"Amostras\")\n",
    "plt.plot(t, y(t, f), color='g', label=\"Sinal recuperado\")\n",
    "plt.title(\"Freq. de Nyquist Hz: %s; Taxa de amostragem: %s Hz\"%(f_Ny, ta))\n",
    "plt.xlabel(\"Tempo (s)\")\n",
    "plt.ylabel(\"Amplitude\")\n",
    "plt.legend()\n",
    "plt.show();"
   ]
  },
  {
   "cell_type": "markdown",
   "id": "444dae54",
   "metadata": {},
   "source": [
    "Percebemos que com uma taxa de amostragem no limiar do valor estabelecido pela frequência de Nyquist, o conteúdo de frequências ainda é recuperado, mas há severas distorções com relação ao sinal original."
   ]
  },
  {
   "cell_type": "code",
   "execution_count": null,
   "id": "bbc8eb78",
   "metadata": {},
   "outputs": [],
   "source": [
    "# calc o espaçamento entre amostras de frequência\n",
    "df = 1/(len(t)*dt)\n",
    "\n",
    "# vetor de frequências\n",
    "freqs = np.arange(0, 2*f_Ny, df)\n",
    "\n",
    "# FFT\n",
    "y_FFT = fft(y(t, f))\n",
    "\n",
    "plt.plot(freqs, abs(y_FFT), '-o')\n",
    "plt.axvline(f_Ny, c='k')\n",
    "plt.xlabel(\"Frequência (Hz)\")\n",
    "plt.show()"
   ]
  },
  {
   "cell_type": "markdown",
   "id": "f2094e7d",
   "metadata": {},
   "source": [
    "Antes de passarmos para uma taxa de amostragem com aliasing, vamos ver o caso curioso onde a nossa taxa de amostragem é **exatamente** o dobro da frequência máxima do sinal."
   ]
  },
  {
   "cell_type": "code",
   "execution_count": null,
   "id": "5fa0888d",
   "metadata": {},
   "outputs": [],
   "source": [
    "ta = 20 \n",
    "dt = 1/ta \n",
    "\n",
    "t = np.arange(0, 1, dt)\n",
    "\n",
    "f_Ny = 1/(2*dt)\n",
    "\n",
    "plt.figure(figsize=(8, 5))\n",
    "plt.plot(t_cont, y(t_cont, f), color='k', label=\"Sinal original\")\n",
    "plt.plot(t, y(t, f), color='r', marker='.', label=\"Amostras\")\n",
    "plt.plot(t, y(t, f), color='g', label=\"Sinal recuperado\")\n",
    "plt.title(\"Freq. de Nyquist: %s Hz; Taxa de amostragem: %s Hz\"%(f_Ny, ta))\n",
    "plt.xlabel(\"Tempo (s)\")\n",
    "plt.ylabel(\"Amplitude\")\n",
    "plt.legend();\n",
    "plt.show();"
   ]
  },
  {
   "cell_type": "markdown",
   "id": "57458ef7",
   "metadata": {},
   "source": [
    "O nosso sinal recuperado foi apenas uma linha reta com valores de amplitude iguais a zero. Isso revela que é importante que a taxa de amostragem seja sempre pelo menos **ligeiramente** maior do que duas vezes a frequência máxima do sinal. Agora vamos passar para uma amostragem com o conteúdo de frequências distorcido (aliasing)."
   ]
  },
  {
   "cell_type": "code",
   "execution_count": null,
   "id": "5b7bd44f",
   "metadata": {},
   "outputs": [],
   "source": [
    "ta = 14 \n",
    "dt = 1/ta \n",
    "\n",
    "t = np.arange(0, 1, dt)\n",
    "\n",
    "f_Ny = 1/(2*dt)\n",
    "\n",
    "plt.figure(figsize=(8, 5))\n",
    "plt.plot(t_cont, y(t_cont, f), color='k', label=\"Sinal original\")\n",
    "plt.plot(t, y(t, f), color='r', marker='.', label=\"Amostras\")\n",
    "plt.plot(t, y(t, f), color='g', label=\"Sinal recuperado\")\n",
    "plt.title(\"Freq. de Nyquist: %s Hz; Taxa de amostragem: %s Hz\"%(f_Ny, ta))\n",
    "plt.xlabel(\"Tempo (s)\")\n",
    "plt.ylabel(\"Amplitude\")\n",
    "plt.legend();\n",
    "plt.show();"
   ]
  },
  {
   "cell_type": "markdown",
   "id": "a0aef048",
   "metadata": {},
   "source": [
    "Neste caso, o sinal recuperado não consegue amostrar o conteúdo de frequências do sinal original, e apresenta um conteúdo de frequências menores, pois com essa taxa de amostragem conseguiriamos recuperar apenas sinais com frequências máximas menores do que 7 Hz, e o nosso sinal possui 10 Hz. Vamos observar no domínio da frequência."
   ]
  },
  {
   "cell_type": "code",
   "execution_count": null,
   "id": "8b541728",
   "metadata": {},
   "outputs": [],
   "source": [
    "# calc o espaçamento entre amostras de frequência\n",
    "df = 1/(len(t)*dt)\n",
    "\n",
    "# vetor de frequências\n",
    "freqs = np.arange(0, 2*f_Ny, df)\n",
    "\n",
    "# FFT\n",
    "y_FFT = fft(y(t, f))\n",
    "\n",
    "plt.plot(freqs, abs(y_FFT), '-o')\n",
    "plt.axvline(f_Ny, c='k')\n",
    "plt.xlabel(\"Frequência (Hz)\")\n",
    "plt.show()"
   ]
  },
  {
   "cell_type": "markdown",
   "id": "2e13713a",
   "metadata": {},
   "source": [
    "Agora, foi criado um pico em 4 Hz, e o nosso pico de 10 Hz está localizado depois da frequência de Nyquist, o que revela que ele não foi recuperado com essa taxa de amostragem."
   ]
  },
  {
   "cell_type": "markdown",
   "id": "fd05d40c",
   "metadata": {},
   "source": [
    "**Exercício.** Verifique o efeito da amostragem no sinal $y = 3sin(2\\pi f_1 t) - 4cos(2\\pi f_2t)$, onde $f_1 = 10$ Hz e $f_2 = 30$ Hz. Plote o sinal tanto no domínio do tempo quanto da frequência."
   ]
  },
  {
   "cell_type": "code",
   "execution_count": null,
   "id": "e97205d1",
   "metadata": {},
   "outputs": [],
   "source": []
  }
 ],
 "metadata": {
  "kernelspec": {
   "display_name": "Python 3 (ipykernel)",
   "language": "python",
   "name": "python3"
  },
  "language_info": {
   "codemirror_mode": {
    "name": "ipython",
    "version": 3
   },
   "file_extension": ".py",
   "mimetype": "text/x-python",
   "name": "python",
   "nbconvert_exporter": "python",
   "pygments_lexer": "ipython3",
   "version": "3.7.12"
  }
 },
 "nbformat": 4,
 "nbformat_minor": 5
}
