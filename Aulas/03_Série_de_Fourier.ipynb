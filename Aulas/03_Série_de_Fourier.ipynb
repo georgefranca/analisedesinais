{
 "cells": [
  {
   "cell_type": "markdown",
   "metadata": {
    "id": "byMA-P_rD7A9"
   },
   "source": [
    "# Serie de Fourier"
   ]
  },
  {
   "cell_type": "markdown",
   "metadata": {
    "id": "4EuUTk8ED7BA"
   },
   "source": [
    "# Vamos ver uma onda quadrada de período $2 \\pi$  e amplitude de 3"
   ]
  },
  {
   "cell_type": "code",
   "execution_count": null,
   "metadata": {
    "id": "j2C1QPyWD7BA"
   },
   "outputs": [],
   "source": [
    "from scipy import signal\n",
    "import matplotlib.pyplot as plt\n",
    "import numpy as np\n",
    "\n",
    "t = \n",
    "plt.xlabel(\"t (s)\")\n",
    "plt.ylabel(\"$f(t)$\")\n",
    "\n",
    "plt.show();"
   ]
  },
  {
   "cell_type": "markdown",
   "metadata": {
    "id": "XwTYwCSdD7BC"
   },
   "source": [
    "Sabemos que a série de fourier na sua forma trigonométrica é dada por para periodo $T = 2\\pi$:\n",
    "\n",
    "$f(t) \\approx a_0 +  \\sum_{k=1}^{\\infty} \\left[a_k cos(k\\omega_0t) + B_k sen(k\\omega_0t)\\right]$\n",
    "<br><br>\n",
    "simplificadamente, tomando:\n",
    "<br><br>\n",
    "$n = k\\omega_0$\n",
    "<br><br>\n",
    "se expandirmos a expressao teremos:\n",
    "<br><br>\n",
    "$f(t) \\approx a_0 +  a_1 cos(t) + a_2 cost(2t) + .... + a_n cos(kt)\\\\\n",
    " + b_1 sen(t) + b_2 sen(2t) + ... + b_n sen(kt)$\n",
    "<br><br>\n",
    "tal que:<br>\n",
    "$a_0 = \\dfrac{1}{2\\pi} \\int_{0}^{2\\pi} f(t)dt $\n",
    "<br><br>\n",
    "$a_n = \\dfrac{1}{2\\pi} \\int_{0}^{2\\pi} f(t)cos(nt)dt $\n",
    "<br><br>\n",
    "e que\n",
    "<br><br>\n",
    "$b_n = \\dfrac{1}{2\\pi} \\int_{0}^{2\\pi} f(t)sen(nt)dt $\n",
    "<br><br>\n",
    "para a onda quadrada apresentada, podemos resolver os termos $a_0, \\; a_n, \\; b_n$ tal que:\n",
    "<br>\n",
    "$a_0 = \\dfrac{3}{2}$\n",
    "<br><br>\n",
    "$a_n = 0$\n",
    "<br><br>\n",
    "$\n",
    "\\begin{equation}\n",
    "    b_k = \n",
    "    \\begin{cases}\n",
    "      0 \\; \\forall \\; n \\; par\\\\\n",
    "      \\dfrac{6}{n\\pi}\\; \\forall \\; n \\; impar\n",
    "    \\end{cases}\n",
    "\\end{equation}$\n",
    "\n",
    "<br><br>\n",
    "\n",
    "desta forma repare que podemos reescrever a aproximacao da serie de fourier como:\n",
    "<br><br>\n",
    "$f(t) \\approx a_0 +  \\sum_{k=1}^{\\infty} \\left[b_k sen(k\\omega_0t)\\right]$\n",
    "<br><br>\n",
    "ou\n",
    "<br>\n",
    "$f(t) \\approx a_0 +  \\sum_{k=1}^{\\infty} \\left[b_n sen(nt)\\right]$\n",
    "<br><br>\n",
    "\n",
    "reparem a semelhança da onda quadrada com a função seno (após feitas algumas operações morfológicas):"
   ]
  },
  {
   "cell_type": "code",
   "execution_count": null,
   "metadata": {
    "id": "-h55_jP3D7BC"
   },
   "outputs": [],
   "source": [
    "t = \n",
    "fig, ax = plt.subplots(1,2)\n",
    "ax[0].plot(t, ft)\n",
    "ax[1].plot(t, senoide)\n",
    "\n",
    "ax[0].grid()\n",
    "ax[1].grid()\n"
   ]
  },
  {
   "cell_type": "markdown",
   "metadata": {
    "id": "4d7LamH0D7BD"
   },
   "source": [
    "Ou ainda, se plotarmos juntos...."
   ]
  },
  {
   "cell_type": "code",
   "execution_count": null,
   "metadata": {
    "id": "FVT5Is4mD7BD"
   },
   "outputs": [],
   "source": [
    "plt.plot(t, ft)\n",
    "plt.plot(t, senoide)"
   ]
  },
  {
   "cell_type": "markdown",
   "metadata": {
    "id": "7N0a1QSBD7BD"
   },
   "source": [
    "Vamos entao a expansao da serie de fourrier\n",
    "\n",
    "### Ordem 0:\n",
    "$f(t) \\approx a_0$"
   ]
  },
  {
   "cell_type": "code",
   "execution_count": null,
   "metadata": {
    "id": "a2MyGPuTD7BE",
    "scrolled": true
   },
   "outputs": [],
   "source": [
    "a0 = \n",
    "sf = \n",
    "plt.plot(t, ft)\n",
    "plt.plot(t, sf)"
   ]
  },
  {
   "cell_type": "markdown",
   "metadata": {
    "id": "bygT7oXmD7BE"
   },
   "source": [
    "### Ordem n = 1:\n",
    "$f(t) \\approx a_0 + b_1 sen(1t) $\n",
    "<br>\n",
    "$b1 = \\dfrac{6}{\\pi}$"
   ]
  },
  {
   "cell_type": "code",
   "execution_count": null,
   "metadata": {
    "id": "vKie1q7KD7BE"
   },
   "outputs": [],
   "source": [
    "b1 =\n",
    "\n",
    "sf = \n",
    "plt.plot(t, ft)\n",
    "plt.plot(t, sf)\n"
   ]
  },
  {
   "cell_type": "markdown",
   "metadata": {
    "id": "M3Yp3pzGD7BF"
   },
   "source": [
    "### Ordem n = 3:\n",
    "$f(t) \\approx a_0 + b_1 sen(1t)  + b_3 sen(3t)$\n",
    "<br>\n",
    "$b3 = \\dfrac{6}{3\\pi}$"
   ]
  },
  {
   "cell_type": "code",
   "execution_count": null,
   "metadata": {
    "id": "QeZuasqtD7BF"
   },
   "outputs": [],
   "source": [
    "b3 = \n",
    "sf = \n",
    "plt.plot(t, ft)\n",
    "plt.plot(t, sf)"
   ]
  },
  {
   "cell_type": "markdown",
   "metadata": {
    "id": "5NYMNDs8D7BF"
   },
   "source": [
    "### Ordem n = 5:\n",
    "$f(t) \\approx a_0 + b_1 sen(1t)  + b_3 sen(3t) + b_5 sen(5t)$\n",
    "<br>\n",
    "$b5 = \\dfrac{6}{5\\pi}$"
   ]
  },
  {
   "cell_type": "code",
   "execution_count": null,
   "metadata": {
    "id": "M79JmVScD7BF"
   },
   "outputs": [],
   "source": [
    "b5 = \n",
    "\n",
    "sf = \n",
    "plt.plot(t, ft)\n",
    "plt.plot(t, sf)"
   ]
  },
  {
   "cell_type": "markdown",
   "metadata": {
    "id": "UbZHSCiJD7BG"
   },
   "source": [
    "### Ordem n = 7:\n",
    "$f(t) \\approx a_0 + b_1 sen(1t)  + b_3 sen(3t) + b_5 sen(5t) + b_7 sen(7t)$\n",
    "<br>\n",
    "$b7 = \\dfrac{6}{7\\pi}$"
   ]
  },
  {
   "cell_type": "code",
   "execution_count": null,
   "metadata": {
    "id": "igQfG-F9D7BG"
   },
   "outputs": [],
   "source": [
    "b7 = \n",
    "\n",
    "sf = \n",
    "plt.plot(t, ft)\n",
    "plt.plot(t, sf)"
   ]
  },
  {
   "cell_type": "markdown",
   "metadata": {
    "id": "-3F1CgHjD7BG"
   },
   "source": [
    "### Ordem n = 9:\n",
    "$f(t) \\approx a_0 + b_1 sen(1t)  + b_3 sen(3t) + b_5 sen(5t) + b_7 sen(7t) + b_9 sen(9t)$\n",
    "<br>\n",
    "$b9 = \\dfrac{6}{9\\pi}$"
   ]
  },
  {
   "cell_type": "code",
   "execution_count": null,
   "metadata": {
    "id": "sx-trJBvD7BG"
   },
   "outputs": [],
   "source": [
    "b9 = \n",
    "sf = \n",
    "plt.plot(t, ft)\n",
    "plt.plot(t, sf)"
   ]
  },
  {
   "cell_type": "markdown",
   "metadata": {
    "id": "vNft7PIVD7BG"
   },
   "source": [
    "### Ordem n = 11:\n",
    "$f(t) \\approx a_0 + b_1 sen(1t)  + b_3 sen(3t) + b_5 sen(5t) + b_7 sen(7t) + b_9 sen(9t) + + b_11 sen(11t)$\n",
    "<br>\n",
    "$b11 = \\dfrac{6}{11\\pi}$"
   ]
  },
  {
   "cell_type": "code",
   "execution_count": null,
   "metadata": {
    "id": "uwwsHoAND7BH"
   },
   "outputs": [],
   "source": [
    "b11 = \n",
    "sf = \n",
    "plt.plot(t, ft)\n",
    "plt.plot(t, sf)"
   ]
  },
  {
   "cell_type": "markdown",
   "metadata": {
    "id": "ZK4AnDrDD7BH"
   },
   "source": [
    "### Questionamentos:\n",
    "1) O que acontece com a resposta da aproximação quanto temos saltos na funcoes?<br>\n",
    "2) há alguma maneira mais inteligente de calcular a aproximação da série de fourier para a função caixa do que adicionar termo a a termo manualmente?"
   ]
  },
  {
   "cell_type": "code",
   "execution_count": null,
   "metadata": {
    "id": "aU_KAkYcD7BH"
   },
   "outputs": [],
   "source": []
  }
 ],
 "metadata": {
  "colab": {
   "name": "03_Série_de_Fourier.ipynb",
   "provenance": []
  },
  "kernelspec": {
   "display_name": "Python 3 (ipykernel)",
   "language": "python",
   "name": "python3"
  },
  "language_info": {
   "codemirror_mode": {
    "name": "ipython",
    "version": 3
   },
   "file_extension": ".py",
   "mimetype": "text/x-python",
   "name": "python",
   "nbconvert_exporter": "python",
   "pygments_lexer": "ipython3",
   "version": "3.7.12"
  }
 },
 "nbformat": 4,
 "nbformat_minor": 1
}
