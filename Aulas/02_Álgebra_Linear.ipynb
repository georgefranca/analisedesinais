{
 "cells": [
  {
   "cell_type": "markdown",
   "id": "bb79b0a1",
   "metadata": {},
   "source": [
    "### Sumário\n",
    "\n",
    "1. [Introdução](#1.-Introdução)\n",
    "2. [Vetores](#2.-Vetores)\n",
    "3. [Matrizes](#3.-Matrizes)\n",
    "4. [Espaços Vetoriais](#4.-Espaços-Vetoriais)\n",
    "5. [Norma](#5.-Norma)\n",
    "6. [Independência linear](#6.-Independência-linear)\n",
    "7. [Base e dimensão](#7.-Base-e-dimensão)\n",
    "8. [Projeção](#8.-Projeção)\n",
    "9. [Coeficientes de Fourier](#9.-Coeficientes-de-Fourier)\n",
    "10. [Tipos de espaços](#10.-Tipos-de-espaços)\n",
    "11. [Combinação linear](#11.-Combinação-linear)"
   ]
  },
  {
   "cell_type": "markdown",
   "id": "e6e5366b",
   "metadata": {},
   "source": [
    "# 1. Introdução\n",
    "\n",
    "A álgebra linear pode ser vista como uma combinação de álgebra e geometria com uma grande variedade de aplicações, e diversos problemas na ciência e na matemática envolvem a solução de conjuntos de equações lineares. Por exemplo, suponha que você resolveu um sistema de equações lineares e encontrou x = 1 e y = 3. Você pode ver esse resultado como um ponto no plano (x, y), mas uma interpretação geométrica é que como duas equações lineares representam duas retas, a solução representa o ponto de intersecção entre as mesmas. Essa visão nos ajuda a entender casos em que não há solução para o problema (duas retas paralelas) e casos onde há infinitas soluções (ambas equações representam a mesma reta).\n",
    "\n",
    "Na área de análise e processamento de sinais, os conceitos de vetores, matrizes, espaços vetoriais, base e dimensão são fundamentais para a compreensão da representação dos sinais no domínio da frequência.\n",
    "\n",
    "Vamos para a segunda revisão!"
   ]
  },
  {
   "cell_type": "markdown",
   "id": "38797283",
   "metadata": {},
   "source": [
    "# 2. Vetores\n",
    "\n",
    "Um vetor é um arranjo de elementos em uma linha ou coluna, sendo chamado vetor-linha ou vetor-coluna, respectivamente. Vamos representar vetores com uma letra romana (A, B, C, etc) em negrito (e.g. $\\mathbf{A}$), mas ao escrever no papel você pode utilizar uma seta em cima da letra (e.g. $\\vec{A}$) para indicar que se trata de um vetor. O número de elementos do vetor define a sua dimensão.\n",
    "\n",
    "**Exemplo 1** <p style=\"text-align:center\">$\\mathbf{A} = \\begin{equation} \n",
    "\t\\begin{bmatrix} \n",
    "\t\ta_{1} \\\\ \n",
    "\t\ta_{2} \\\\ \n",
    "\t\t\\vdots \\\\\n",
    "        a_{n}\n",
    "\t\\end{bmatrix}_{nx1}\n",
    "\\end{equation} $</p>\n",
    "\n",
    "<p style=\"text-align:center\">$\\mathbf{B} = \\begin{equation} \n",
    "\t\\begin{bmatrix} \n",
    "\t\tb_{1} && b_{2} && \\dots && b_{n}\\\\ \n",
    "\t\\end{bmatrix}_{1xn}\n",
    "\\end{equation} $</p>\n",
    "\n"
   ]
  },
  {
   "cell_type": "code",
   "execution_count": null,
   "id": "ce4843c4",
   "metadata": {},
   "outputs": [],
   "source": []
  }
 ],
 "metadata": {
  "kernelspec": {
   "display_name": "Python 3 (ipykernel)",
   "language": "python",
   "name": "python3"
  },
  "language_info": {
   "codemirror_mode": {
    "name": "ipython",
    "version": 3
   },
   "file_extension": ".py",
   "mimetype": "text/x-python",
   "name": "python",
   "nbconvert_exporter": "python",
   "pygments_lexer": "ipython3",
   "version": "3.9.6"
  },
  "toc": {
   "base_numbering": 1,
   "nav_menu": {},
   "number_sections": false,
   "sideBar": false,
   "skip_h1_title": false,
   "title_cell": "Table of Contents",
   "title_sidebar": "Contents",
   "toc_cell": false,
   "toc_position": {},
   "toc_section_display": false,
   "toc_window_display": false
  }
 },
 "nbformat": 4,
 "nbformat_minor": 5
}
