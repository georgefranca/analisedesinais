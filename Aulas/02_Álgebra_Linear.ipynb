{
 "cells": [
  {
   "cell_type": "markdown",
   "id": "bb79b0a1",
   "metadata": {},
   "source": [
    "### Sumário\n",
    "\n",
    "1. [Introdução](#1.-Introdução)\n",
    "2. [Vetores](#2.-Vetores)\n",
    "3. [Matrizes](#3.-Matrizes)\n",
    "4. [Espaços Vetoriais](#4.-Espaços-Vetoriais)\n",
    "5. [Independência linear](#5.-Independência-linear)\n",
    "6. [Base e dimensão](#6.-Base-e-dimensão)\n",
    "7. [Projeção](#7.-Projeção)\n",
    "8. [Tipos de espaços](#8.-Tipos-de-espaços)\n",
    "9. [Combinação linear](#9.-Combinação-linear)"
   ]
  },
  {
   "cell_type": "markdown",
   "id": "e6e5366b",
   "metadata": {},
   "source": [
    "# 1. Introdução\n",
    "\n",
    "A álgebra linear pode ser vista como uma combinação de álgebra e geometria com uma grande variedade de aplicações, e diversos problemas na ciência e na matemática envolvem a solução de conjuntos de equações lineares. Por exemplo, suponha que você resolveu um sistema de equações lineares e encontrou x = 1 e y = 3. Você pode ver esse resultado como um ponto no plano (x, y), mas uma interpretação geométrica é que como duas equações lineares representam duas retas, a solução representa o ponto de intersecção entre as mesmas. Essa visão nos ajuda a entender casos em que não há solução para o problema (duas retas paralelas) e casos onde há infinitas soluções (ambas equações representam a mesma reta).\n",
    "\n",
    "Na área de análise e processamento de sinais, os conceitos de vetores, matrizes, espaços vetoriais, base e dimensão são fundamentais para a compreensão da representação dos sinais no domínio da frequência.\n",
    "\n",
    "Vamos para a segunda revisão!"
   ]
  },
  {
   "cell_type": "markdown",
   "id": "38797283",
   "metadata": {},
   "source": [
    "# 2. Vetores\n",
    "\n",
    "Um vetor é um arranjo de elementos em uma linha ou coluna, sendo chamado vetor-linha ou vetor-coluna, respectivamente. Vamos representar vetores com uma letra romana (A, B, C, etc) em negrito (e.g. $\\mathbf{A}$), mas ao escrever no papel você pode utilizar uma seta em cima da letra (e.g. $\\vec{A}$) para indicar que se trata de um vetor. O número de elementos do vetor define a sua dimensão.\n",
    "\n",
    "**Exemplo 1** <p style=\"text-align:center\">$\\mathbf{A} = \n",
    "\t\\begin{bmatrix} \n",
    "\t\ta_{1} \\\\ \n",
    "\t\ta_{2} \\\\ \n",
    "\t\t\\vdots \\\\\n",
    "        a_{n}\n",
    "\t\\end{bmatrix}_{nx1} $</p>\n",
    "\n",
    "<p style=\"text-align:center\">$\\mathbf{B} =\n",
    "\t\\begin{bmatrix} \n",
    "\t\tb_{1} && b_{2} && \\dots && b_{n}\\\\ \n",
    "\t\\end{bmatrix}_{1xn}$</p>\n",
    "\n",
    "Usamos a letra T para representar a transposta de um vetor:\n",
    "\n",
    "<p style=\"text-align:center\">$\\mathbf{A} =\n",
    "\t\\begin{bmatrix} \n",
    "\t\ta_{1} \\\\ \n",
    "\t\ta_{2} \\\\ \n",
    "\t\t\\vdots \\\\\n",
    "        a_{n}\n",
    "\t\\end{bmatrix}; \\mathbf{A}^{T} = \\begin{bmatrix} \n",
    "\t\ta_{1} && a_{2} && \\dots && a_{n} \\\\ \\end{bmatrix} $</p>\n",
    "\n",
    "\n",
    "## 2.1 Operações com vetores\n",
    "\n",
    "### 2.1.1 Adição\n",
    "\n",
    "A soma entre vetores requer que os mesmos possuam a mesma dimensão e é feita componente a componente: $\\mathbf{A}+\\mathbf{B} = [a_{i}+b_{i}] = \\mathbf{C} = [c_{i}]$. As propriedades comutativa e associativa da adição são válidas para vetores:\n",
    "\n",
    "<p style=\"text-align:center\">$\\mathbf{A}+\\mathbf{B} = \\mathbf{B}+\\mathbf{A}$</p>\n",
    "<p style=\"text-align:center\">$(\\mathbf{A}+\\mathbf{B})+\\mathbf{C} = (\\mathbf{A}+\\mathbf{B})+\\mathbf{C}$</p>\n",
    "\n",
    "Dessa forma, parece razoável usar o símbolo $3\\mathbf{A}$ para representar a soma $\\mathbf{A}+\\mathbf{A}+\\mathbf{A}$, ou de forma mais geral $c\\mathbf{A}$, onde c é um número inteiro, definindo portanto a multiplicação por escalar como $\\mathbf{B} = c\\mathbf{A} = [ka_{i}]$.\n",
    "\n",
    "### 2.1.2 Multiplicação\n",
    "\n",
    "Há dois tipos de multiplicação entre vetores: o primeiro tipo, chamado produto interno (ou escalar), resulta em um escalar, e o segundo tipo, chamado produto vetorial (ou externo), produz um vetor.\n",
    "\n",
    "#### 2.1.2.1 Produto interno\n",
    "\n",
    "Sejam $\\mathbf{A}$ e $\\mathbf{B}$ dois vetores de dimensão (nx1). O produto interno $\\mathbf{A} \\cdot \\mathbf{B}$ entre eles é dado por:\n",
    "\n",
    "<p style=\"text-align:center\">$\\mathbf{A} \\cdot \\mathbf{B} = \\sum_{i=1}^{n}a_{i}b_{i}$</p>\n",
    "\n",
    "Dois vetores são **ortogonais** quando o produto interno entre eles for igual a zero. Outra maneira de definir o produto interno entre $\\mathbf{A}$ e $\\mathbf{B}$ é por meio do produto entre a magnitude de $\\mathbf{A}$ (ver próxima seção), a magnitude de $\\mathbf{B}$ e o cosseno do ângulo entre eles:\n",
    "\n",
    "<p style=\"text-align:center\">$\\mathbf{A} \\cdot \\mathbf{B} = |\\mathbf{A}| |\\mathbf{B}|cos(\\theta)$</p>\n",
    "\n",
    "A combinação entre as duas formulações permite encontrar o ângulo entre os vetores.\n",
    "\n",
    "#### 2.1.2.2 Magnitude (norma) de um vetor\n",
    "\n",
    "A magnitude de um vetor indica o comprimento da seta no seu gráfico, e a magnitude de um vetor $\\mathbf{A}$ é representada por A, |A| ou ||A|| (este último é usado para representar a norma). Pelo teorema de Pitágoras em uma representação 2D, temos:\n",
    "\n",
    "<p style=\"text-align:center\">$A = ||\\mathbf{A}|| = \\sqrt{A_{x}^{2}+A_{y}^{2}}$</p>\n",
    "\n",
    "De forma mais geral para espaços de dimensões maiores, a magnitude de um vetor é dada pela raíz quadrada do produto interno dele com ele mesmo:\n",
    "\n",
    "<p style=\"text-align:center\">$A = ||\\mathbf{A}|| = \\sqrt{\\mathbf{A}^{T}\\mathbf{A}}$</p>\n",
    "\n",
    "Um vetor de magnitude igual a 1 é chamado de vetor unitário. Para qualquer $\\mathbf{A} \\neq 0$, $\\mathbf{A}/|\\mathbf{A}|$ é um vetor unitário.\n",
    "\n",
    "#### 2.1.2.3 Propriedades do produto escalar\n",
    "\n",
    "Sejam $\\mathbf{X}$, $\\mathbf{Y}$ e $\\mathbf{Z}$ vetores de $\\mathbb{R}^n$ e $\\alpha$ um escalar.\n",
    "\n",
    "1. $\\mathbf{X} \\cdot \\mathbf{Y} = \\mathbf{Y} \\cdot \\mathbf{X}$ (comutatividade)\n",
    "2. $\\mathbf{X} \\cdot (\\mathbf{Y}+\\mathbf{Z}) = \\mathbf{X} \\cdot \\mathbf{Y} + \\mathbf{X} \\cdot \\mathbf{Z}$ (distribuição em relação a soma)\n",
    "3. $(\\alpha \\mathbf{X}) \\cdot \\mathbf{Y} = \\alpha (\\mathbf{X} \\cdot \\mathbf{Y}) = \\mathbf{X} \\cdot \\alpha\\mathbf{Y}$\n",
    "4. $| \\mathbf{X} \\cdot \\mathbf{Y} | \\le |\\mathbf{X}| |\\mathbf{Y}|$ (Desigualdade de Cauchy-Schwarz)\n",
    "5. $| \\mathbf{X} + \\mathbf{Y} | \\le |\\mathbf{X}| + |\\mathbf{Y}|$\n",
    "\n",
    "#### 2.1.2.4 Produto vetorial\n",
    "\n",
    "XXXXXXXXXXXXXXXXXXXXXXXXXXXXXXXXXXXXXXXXXXXXXXXXXXXXXXXXXXXXXXXXXXXXXX\n",
    "\n",
    "## 2.2 Vetores em Python\n",
    "\n",
    "A forma mais prática de representar vetores (e matrizes) em Python é utilizando objetos ``array`` da biblioteca Numpy. As operações entre vetores são feitas de forma muito simples."
   ]
  },
  {
   "cell_type": "code",
   "execution_count": 1,
   "id": "ce4843c4",
   "metadata": {},
   "outputs": [],
   "source": [
    "# Vamos importar a biblioteca e inicializar alguns vetores para testar\n",
    "import numpy as np\n",
    "\n",
    "a = np.array([1, 4, 5])\n",
    "b = np.array([4, 7, 2])"
   ]
  },
  {
   "cell_type": "code",
   "execution_count": 2,
   "id": "b181a172",
   "metadata": {},
   "outputs": [
    {
     "data": {
      "text/plain": [
       "numpy.ndarray"
      ]
     },
     "execution_count": 2,
     "metadata": {},
     "output_type": "execute_result"
    }
   ],
   "source": [
    "type(a)"
   ]
  },
  {
   "cell_type": "code",
   "execution_count": 3,
   "id": "a25afd3f",
   "metadata": {},
   "outputs": [
    {
     "data": {
      "text/plain": [
       "(3,)"
      ]
     },
     "execution_count": 3,
     "metadata": {},
     "output_type": "execute_result"
    }
   ],
   "source": [
    "a.shape"
   ]
  },
  {
   "cell_type": "code",
   "execution_count": 4,
   "id": "cee76212",
   "metadata": {},
   "outputs": [
    {
     "data": {
      "text/plain": [
       "array([ 5, 11,  7])"
      ]
     },
     "execution_count": 4,
     "metadata": {},
     "output_type": "execute_result"
    }
   ],
   "source": [
    "# soma\n",
    "a + b"
   ]
  },
  {
   "cell_type": "code",
   "execution_count": 5,
   "id": "5057284c",
   "metadata": {},
   "outputs": [
    {
     "name": "stdout",
     "output_type": "stream",
     "text": [
      "Magnitude usando iteração:  6.48074069840786\n",
      "Magnitude usando np.dot:  6.48074069840786\n",
      "Magnitude usando a função norm:  6.48074069840786\n",
      "Magnitude usando o @:  6.48074069840786\n"
     ]
    }
   ],
   "source": [
    "# existem diversas maneiras de obter a magnitude de um vetor em Python\n",
    "\n",
    "# uma maneira não muito prática é iterando pelos elementos do vetor\n",
    "s = 0\n",
    "for elemento in a:\n",
    "    s += elemento**2\n",
    "print(\"Magnitude usando iteração: \", s**0.5)\n",
    "\n",
    "# podemos usar a função dot do numpy para calcular o produto interno de a\n",
    "# com ele mesmo e tirar a raíz quadrada\n",
    "print(\"Magnitude usando np.dot: \",np.sqrt(np.dot(a,a)))\n",
    "\n",
    "# podemos usar a função norm da biblioteca de álgebra linear do numpy\n",
    "from numpy.linalg import norm\n",
    "\n",
    "print(\"Magnitude usando a função norm: \",norm(a))\n",
    "\n",
    "# se não quisermos importar nada, uma forma simples é usando o operador @,\n",
    "# que calcula o produto interno\n",
    "\n",
    "print(\"Magnitude usando o @: \",(a@a)**0.5)"
   ]
  },
  {
   "cell_type": "markdown",
   "id": "0c9293ff",
   "metadata": {},
   "source": [
    "O produto vetorial pode ser obtido facilmente por meio da função `cross` do Numpy, para vetores de dimensões 2 ou 3."
   ]
  },
  {
   "cell_type": "code",
   "execution_count": 6,
   "id": "a653a185",
   "metadata": {},
   "outputs": [
    {
     "name": "stdout",
     "output_type": "stream",
     "text": [
      "[-27  18  -9]\n",
      "[-27  18  -9]\n"
     ]
    }
   ],
   "source": [
    "print(np.cross(a, b))\n",
    "\n",
    "# Repare que a x b = -b x a\n",
    "print(np.cross(-b, a))"
   ]
  },
  {
   "cell_type": "markdown",
   "id": "e014889b",
   "metadata": {},
   "source": [
    "**Exercícios.** Resolva:\n",
    "\n",
    "<p style=\"text-align:center\">$ \n",
    "\t\\begin{bmatrix} \n",
    "\t\t-1 & 3 & -5 &2\n",
    "\t\\end{bmatrix} + \n",
    "    \t\\begin{bmatrix} \n",
    "\t\t-1 & 2 & 4 & 2\n",
    "\t\\end{bmatrix} = \n",
    "    $</p>"
   ]
  },
  {
   "cell_type": "code",
   "execution_count": null,
   "id": "ce16c48c",
   "metadata": {},
   "outputs": [],
   "source": []
  },
  {
   "cell_type": "markdown",
   "id": "126a86d9",
   "metadata": {},
   "source": [
    "Calcule o produto interno entre $\n",
    "\ta = \\begin{bmatrix} \n",
    "\t\t-1 & 3 & -5 & 2\\\\ \n",
    "\t\\end{bmatrix} , \n",
    "    \tb = \\begin{bmatrix} \n",
    "\t\t3 & 2 & -1 & 2\\\\\n",
    "\t\\end{bmatrix} $"
   ]
  },
  {
   "cell_type": "code",
   "execution_count": null,
   "id": "194bf7bd",
   "metadata": {},
   "outputs": [],
   "source": []
  },
  {
   "cell_type": "markdown",
   "id": "fb57fbcc",
   "metadata": {},
   "source": [
    "Calcule o produto externo entre $ \n",
    "\ta = \\begin{bmatrix} \n",
    "\t\t-1 & 3 & -5\\\\ \n",
    "\t\\end{bmatrix} , \n",
    "    \tb = \\begin{bmatrix} \n",
    "\t\t3 & 2 & -1\\\\\n",
    "\t\\end{bmatrix}$"
   ]
  },
  {
   "cell_type": "code",
   "execution_count": null,
   "id": "c03b365f",
   "metadata": {},
   "outputs": [],
   "source": []
  },
  {
   "cell_type": "markdown",
   "id": "0f3f30c5",
   "metadata": {},
   "source": [
    "# 3. Matrizes\n",
    "\n",
    "Uma matriz é um arranjo retangular de números, onde uma matriz $A_{mxn}$ (m por n) é essencialmente uma tabela de mn números dispostos em m linhas e n colunas.\n",
    "\n",
    "<p style=\"text-align:center\">$\\mathbf{A} =\n",
    "\t\\begin{bmatrix} \n",
    "\t\tx_{11} & x_{12} & \\dots & x_{1n} \\\\ \n",
    "\t\tx_{21} & x_{22} & \\dots & x_{2n}  \\\\ \n",
    "\t\t\\vdots & \\vdots & \\vdots & \\vdots \\\\\n",
    "        x_{m1} & x_{m2} & \\dots & x_{mn} \\\\\n",
    "\t\\end{bmatrix} $</p>\n",
    "\n",
    "Usamos a notação $A = (a_{ij})$ para descrever o elemento na i-ésima linha e j-ésima coluna da matriz. Se m = n, então A é uma matriz quadrada de ordem n e os elementos $a_{11}, a_{22}, ..., a_{nn}$ formam a diagonal principal de A. Matriz com uma linha ou coluna é denominada matriz linha ou coluna, respectivamente.\n",
    "\n",
    "## 3.1 Redução por linhas e posto de matriz\n",
    "\n",
    "Considere o seguinte conjunto de equações:\n",
    "\n",
    " $\\begin{cases}\n",
    "      2x -z = 2\\\\\n",
    "      6x + 5y + 3z = 7 \\\\\n",
    "      2x -y  = 4\n",
    "    \\end{cases}\\,$\n",
    "    \n",
    "Nós podemos representar todas as informações essenciais do conjunto de equações em uma matriz chamada **aumentada**, onde as primeiras colunas são os coeficientes no lado esquerdo da igualdade e a última coluna é igual aos valores do lado direito da igualdade:\n",
    "\n",
    "<p style=\"text-align:center\">$\\mathbf{A} =  \n",
    "\t\\begin{bmatrix} \n",
    "\t\t2 & 0 & -1 & 2 \\\\ \n",
    "\t\t6 & 5 & 3 & 7  \\\\ \n",
    "\t\t2 & -1 & 0 & 4 \\\\\n",
    "\t\\end{bmatrix} $</p>\n",
    "\n",
    "Com a forma matricial não precisamos escrever todo o conjunto de equações e podemos trabalhar com um processo chamado **redução por linhas**, que é o modo como o computador resolver sistemas lineares de equações.\n",
    "\n",
    "1. Primeiramente vamos usar a primeira linha para eliminar os termos x da segunda e terceira linhas. Para tanto, vamos fazer $L_{2}-3L_{1}$ e $L_{2}-L_{1}$, onde L representa a linha:\n",
    "\n",
    "<p style=\"text-align:center\">$ \n",
    "\t\\begin{bmatrix} \n",
    "\t\t2 & 0 & -1 & 2 \\\\ \n",
    "\t\t0 & 5 & 6 & 1  \\\\ \n",
    "\t\t0 & -1 & 1 & 2 \\\\\n",
    "\t\\end{bmatrix}\n",
    " $</p>\n",
    "\n",
    "2. Trocaremos a segunda e a terceira linha de posição:\n",
    "\n",
    "<p style=\"text-align:center\">$\n",
    "\t\\begin{bmatrix} \n",
    "\t\t2 & 0 & -1 & 2 \\\\ \n",
    "        0 & -1 & 1 & 2 \\\\\n",
    "\t\t0 & 5 & 6 & 1  \\\\ \n",
    "\t\\end{bmatrix}\n",
    " $</p>\n",
    "\n",
    "3. $L_{3}+5L{1}$:\n",
    "\n",
    "<p style=\"text-align:center\">$ \n",
    "\t\\begin{bmatrix} \n",
    "\t\t2 & 0 & -1 & 2 \\\\ \n",
    "        0 & -1 & 1 & 2 \\\\\n",
    "\t\t0 & 0 & 11 & 11  \\\\ \n",
    "\t\\end{bmatrix}\n",
    " $</p>\n",
    "\n",
    "4. Dividiremos a linha 3 por 11 e a usaremos para simplificar as outras linhas:\n",
    "\n",
    "<p style=\"text-align:center\">$\n",
    "\t\\begin{bmatrix} \n",
    "\t\t2 & 0 & 0 & 3 \\\\ \n",
    "        0 & -1 & 0 & 1 \\\\\n",
    "\t\t0 & 0 & 1 & 1  \\\\ \n",
    "\t\\end{bmatrix}\n",
    " $</p>\n",
    "\n",
    "5. A matriz reduzida por linha é:\n",
    "\n",
    "<p style=\"text-align:center\">$\n",
    "\t\\begin{bmatrix} \n",
    "\t\t1 & 0 & 0 & 3/2 \\\\ \n",
    "        0 & 1 & 0 & -1 \\\\\n",
    "\t\t0 & 0 & 1 & 1  \\\\ \n",
    "\t\\end{bmatrix}\n",
    " $</p>\n",
    "\n",
    "Logo, a solução do sistema de equações lineares é x = 3/2, y = -1 e z = 1. Ao realizar a redução por linhas, as operações permitidas são: (i) trocar duas linhas; (ii) multiplicar (ou dividir) uma linha por uma constante diferente de zero e (iii) adicionar ou subtrair o múltiplo de uma linha a outra.\n",
    "\n",
    "**Exercício.** Reduza por linhas (na mão!) o seguinte sistema de equações:\n",
    "\n",
    " $\\begin{cases}\n",
    "      x - y + 4z = 5\\\\\n",
    "      2x - 3y + 8z = 4 \\\\\n",
    "      x -2y + 4z = 9\n",
    "    \\end{cases}\\,$\n",
    "    \n",
    "Se você chegou em $ \n",
    "\t\\begin{bmatrix} \n",
    "\t\t1 & 0 & 4 & 11 \\\\ \n",
    "        0 & -1 & 0 & -6 \\\\\n",
    "\t\t0 & 0 & 0 & 20  \\\\ \n",
    "\t\\end{bmatrix}$, pode parar. Aqui, a terceira linha diz que 0z = 20, o que não é verdade para nenhum valor finito de z. Dizemos que o sistema é **inconsistente** e que não há solução. O número de linhas diferentes de zero define o **posto** da matriz. No exercício anterior o posto da matriz aumentada reduzida por linhas é 3, mas o posto da matriz dos coeficientes é apenas 2. Seja M uma matriz coeficientes e A uma matriz aumentada; neste caso, os seguintes cenários são possíveis:\n",
    "    \n",
    "    a. posto de M < posto de A: as equações são inconsistentes e não há solução;\n",
    "    b. posto de M = posto de A = n (número de incógnitas): há exatamente uma solução;\n",
    "    c. posto de M = posto de A = k < n: k incógnitas podem ser encontradas em função das n - k incógnitas restantes."
   ]
  },
  {
   "cell_type": "markdown",
   "id": "ee0da54f",
   "metadata": {},
   "source": [
    "## 3.2 Determinantes\n",
    "\n",
    "Um importante número associado com matrizes quadradas é o seu determinante. Apesar de um computador determinar de forma direta o determinante de uma matriz, é importante saber com o cálculo é feito. Para uma matriz 2x2, o cálculo é direto:\n",
    "\n",
    "<p style=\"text-align:center\">$ \n",
    "\tA = \\begin{bmatrix} \n",
    "\t\ta & b \\\\ \n",
    "        c & d \\\\ \n",
    "\t\\end{bmatrix}, det A = \\begin{vmatrix} \n",
    "\t\ta & b \\\\ \n",
    "        c & d \\\\ \n",
    "\t\\end{vmatrix} = ad - bc\n",
    " $</p>\n",
    " \n",
    " Para ordens mais altas, usaremos o **desenvolvimento de Laplace de determinantes**. Se removermos uma linha e uma coluna de uma matriz nxn, teremos uma matriz n-1xn-1. Seja $a_{ij}$ um elemento de uma matriz; podemos remover a linha e a coluna contendo $a_{ij}$ e chamar o determinante restante de $M_{ij}$. O **cofator** de $a_{ij}$ é obtido por $(-1)^{i+j}M_{ij}$. Para calcular o determinante, deve-se escolher os elementos de uma linha (ou uma coluna), multiplicá-los pelo seu respectivo cofator e somá-los.\n",
    " \n",
    "**Exemplo**. Calcule o determinante de $A = \\begin{bmatrix} \n",
    "\t\t1 & -5 & 2 \\\\ \n",
    "        7 & 3 & 4 \\\\ \n",
    "        2 & 1 & 5 \\\\ \n",
    "\t\\end{bmatrix}$\n",
    "    \n",
    "Vamos usar elementos da primeira linha:\n",
    "\n",
    "$det A = 1\\begin{vmatrix} \n",
    "\t\t3 & 4 \\\\ \n",
    "        1 & 5 \\\\\n",
    "\t\\end{vmatrix} + 5\\begin{vmatrix} \n",
    "\t\t7 & 4 \\\\ \n",
    "        2 & 5 \\\\ \n",
    "\t\\end{vmatrix} + 2\\begin{vmatrix} \n",
    "\t\t7 & 3 \\\\ \n",
    "        2 & 1 \\\\ \n",
    "\t\\end{vmatrix} = 11 + 135 + 2 = 148$\n",
    "    \n",
    "O valor do determinante será o mesmo independentemente de qual linha ou coluna for utilizada. Em Python, o determinante pode ser calculado de forma direta, como mostrado na célula abaixo."
   ]
  },
  {
   "cell_type": "code",
   "execution_count": 8,
   "id": "d8d95e33",
   "metadata": {},
   "outputs": [
    {
     "name": "stdout",
     "output_type": "stream",
     "text": [
      "148\n"
     ]
    }
   ],
   "source": [
    "from numpy.linalg import det\n",
    "\n",
    "print(round(det(np.array([[1, -5, 2], [7, 3, 4], [2, 1, 5]]))))"
   ]
  },
  {
   "cell_type": "markdown",
   "id": "c4e1eb71",
   "metadata": {},
   "source": [
    "## 3.3 Operações com matrizes\n",
    "\n",
    "### 3.3.1 Soma\n",
    "\n",
    "A soma é definada para matrizes de mesmo tamanho $A_{mxn}$ e $B_{mxn}$ e feita elemento a elemento, ou seja:\n",
    "\n",
    "<p style=\"text-align:center\">$C = A + B$</p>\n",
    "\n",
    "onde\n",
    "\n",
    "<p style=\"text-align:center\">$c_{ij} = a_{ij} + b_{ij}, i = 1, ..., m; j = 1, ..., n $</p>"
   ]
  },
  {
   "cell_type": "code",
   "execution_count": 9,
   "id": "03485abc",
   "metadata": {},
   "outputs": [
    {
     "name": "stdout",
     "output_type": "stream",
     "text": [
      "[[ 9  1  4]\n",
      " [-2  6  3]\n",
      " [-8  1  1]]\n"
     ]
    }
   ],
   "source": [
    "A = np.array([[1, 3, 4], [-3, 5, 0], [-7, 1, 1]])\n",
    "B = np.array([[8, -2, 0], [1, 1, 3], [-1, 0, 0]])\n",
    "\n",
    "print(A+B)"
   ]
  },
  {
   "cell_type": "markdown",
   "id": "3ff68fb9",
   "metadata": {},
   "source": [
    "### 3.3.2 Multiplicação por escalar\n",
    "\n",
    "A multiplicação de uma matriz $A_{mxn} = a_{ij}$ por um escalar $\\alpha$ é definida pela matriz $B_{mxn} = \\alpha A$, obtida multiplicando-se cada elemento da matriz pelo escalar, ou seja, $b_{ij} = \\alpha a_{ij}$, para i = 1, ..., m e j = 1, ..., n."
   ]
  },
  {
   "cell_type": "code",
   "execution_count": 11,
   "id": "b438ff2c",
   "metadata": {},
   "outputs": [
    {
     "name": "stdout",
     "output_type": "stream",
     "text": [
      "[[  3   9  12]\n",
      " [ -9  15   0]\n",
      " [-21   3   3]]\n"
     ]
    }
   ],
   "source": [
    "print(3*A)"
   ]
  },
  {
   "cell_type": "markdown",
   "id": "5bcf953c",
   "metadata": {},
   "source": [
    "### 3.3.3 Multiplicação entre duas matrizes\n",
    "\n",
    "O produto entre duas matrizes é possível entre matrizes nas quais o número de colunas da primeira matriz é igual ao número de linhas da segunda, i.e. $A = (a_{ij})_{mxp}$ e $B = (b_{ij})_{pxn}$ e é definido pea matriz $C = (c_{ij})_{mxn}$. Para uma matriz 2x2:\n",
    "\n",
    "<p style=\"text-align:center\">$AB = \\begin{bmatrix} \n",
    "\t\ta & b \\\\ \n",
    "        c & d \\\\ \n",
    "\t\\end{bmatrix}\\begin{bmatrix} \n",
    "\t\te & f \\\\ \n",
    "        g & h \\\\ \n",
    "\t\\end{bmatrix} = \\begin{bmatrix} \n",
    "\t\tae + bg & af + bh \\\\ \n",
    "        ce + dg & cf + dh \\\\ \n",
    "\t\\end{bmatrix} = C$</p>\n",
    "    \n",
    "O elemento na primeira linha e na primeira coluna é obtido multiplicando cada elemento na primeira linha de A pelo elemento correspondente na primeira coluna de B, e somando os resultados. De forma geral, temos que o elemento na i-ésima linha e na j-ésima coluna do produto AB é igual a linha i de A vezes a coluna j de B:\n",
    "\n",
    "<p style=\"text-align:center\">$(AB)_{ij} = \\sum_{k}A_{ik}B_{kj}$</p>\n",
    "\n",
    "Observação: a multiplicação de matrizes não é comutativa, ou seja, geralmente AB é diferente de BA. Em python, você pode usar a função `dot` do Numpy para calcular o produto entre matrizes."
   ]
  },
  {
   "cell_type": "code",
   "execution_count": 14,
   "id": "c60b3648",
   "metadata": {},
   "outputs": [
    {
     "data": {
      "text/plain": [
       "array([[  7,  46,  31],\n",
       "       [ -1, -18, -25]])"
      ]
     },
     "execution_count": 14,
     "metadata": {},
     "output_type": "execute_result"
    }
   ],
   "source": [
    "np.dot(np.array([[5, 1], [-3, 1]]), np.array([[1, 8, 7], [2, 6, -4]]))"
   ]
  },
  {
   "cell_type": "markdown",
   "id": "a5b9c6b8",
   "metadata": {},
   "source": [
    "**Exercício.** Calcule o produto entre $A = \\begin{bmatrix} \n",
    "\t\t2 & 2 & 1 \\\\ \n",
    "        3 & 1 & 2 \\\\ \n",
    "\t\\end{bmatrix}$ e $B = \\begin{bmatrix} \n",
    "\t\t0 & 1 \\\\ \n",
    "        2 & 3\\\\ \n",
    "        8 & 4\\\\\n",
    "\t\\end{bmatrix}$"
   ]
  },
  {
   "cell_type": "code",
   "execution_count": null,
   "id": "19f0528a",
   "metadata": {},
   "outputs": [],
   "source": []
  },
  {
   "cell_type": "markdown",
   "id": "9b74225b",
   "metadata": {},
   "source": [
    "## 3.4 Matrizes especiais\n",
    "\n",
    "### 3.4.1 Matriz transposta\n",
    "\n",
    "A matriz transposta de $A = (a_{ij})_{mxn}$, $B=A^{T}$, é obtida trocando-se as linhas e as colunas de lugar, ou seja, $b_{ij} = a_{ji}$, i = 1, ..., m e j = 1, ..., n. Em Python, o método T de um `array` do Numpy permite obter a transposta de uma matriz."
   ]
  },
  {
   "cell_type": "code",
   "execution_count": 16,
   "id": "35902f25",
   "metadata": {},
   "outputs": [
    {
     "name": "stdout",
     "output_type": "stream",
     "text": [
      "[[1 3 5]\n",
      " [8 4 2]]\n",
      "\n",
      "\n",
      "[[1 8]\n",
      " [3 4]\n",
      " [5 2]]\n"
     ]
    }
   ],
   "source": [
    "A = np.array([[1, 3, 5], [8, 4, 2]])\n",
    "print(A)\n",
    "print(\"\\n\")\n",
    "print(A.T)"
   ]
  },
  {
   "cell_type": "markdown",
   "id": "3cbd2f0e",
   "metadata": {},
   "source": [
    "### 3.4.2 Matriz identidade\n",
    "\n",
    "É uma matriz especial na qual os elementos ao longo da diagonal são iguais a 1 e todos os outros elementos são iguais a zero. É denotada por $I_{n}$, onde n é a ordem da matriz.\n",
    "\n",
    "<p style=\"text-align:center\">$I_{n} =\n",
    "\t\\begin{bmatrix} \n",
    "\t\t1 & 0 & \\dots & 0 \\\\ \n",
    "\t\t0 & 1 & \\dots & 0  \\\\ \n",
    "\t\t\\vdots & \\vdots & \\vdots & \\vdots \\\\\n",
    "        0 & 0 & \\dots & 1 \\\\\n",
    "\t\\end{bmatrix} $</p>\n",
    "    \n",
    "Em Python a função `identity` do Numpy pode ser utilizada para gerar uma matriz identidade, passando como argumento a ordem da matriz."
   ]
  },
  {
   "cell_type": "code",
   "execution_count": 19,
   "id": "1bbd0e3d",
   "metadata": {},
   "outputs": [
    {
     "data": {
      "text/plain": [
       "array([[1., 0., 0., 0., 0.],\n",
       "       [0., 1., 0., 0., 0.],\n",
       "       [0., 0., 1., 0., 0.],\n",
       "       [0., 0., 0., 1., 0.],\n",
       "       [0., 0., 0., 0., 1.]])"
      ]
     },
     "execution_count": 19,
     "metadata": {},
     "output_type": "execute_result"
    }
   ],
   "source": [
    "np.identity(5)"
   ]
  },
  {
   "cell_type": "markdown",
   "id": "22f50167",
   "metadata": {},
   "source": [
    "### 3.4.3 Matriz inversa\n",
    "\n",
    "Uma matriz quadrada $A$ é dita inversível se existe uma matriz $A^{-1}$ tal que\n",
    "\n",
    "<p style=\"text-align:center\">$A^{-1}A = I$</p> e \n",
    "<p style=\"text-align:center\">$AA^{-1} = I$</p>\n",
    "\n",
    "Uma matriz possui inversa se e somente se o seu determinante for diferente de zero. O cálculo de uma matriz inversa com caneta e papel é bastante extenso, é necessário gerar uma matriz dos **cofatores** de todos os elementos de A, obter sua transposta e em seguida dividir todos os elementos pelo determinante de A, ou seja:\n",
    "\n",
    "<p style=\"text-align:center\">$A^{-1} = \\frac{1}{det A}C^{T}$ onde $C{ij}$ é o cofator de $m_{ij}$</p>\n",
    "\n",
    "A célula abaixo exemplifica como uma matriz inversa pode ser obtida via Numpy."
   ]
  },
  {
   "cell_type": "code",
   "execution_count": 23,
   "id": "973c9bf8",
   "metadata": {},
   "outputs": [
    {
     "data": {
      "text/plain": [
       "array([[ 0.21428571, -0.03571429,  0.10714286],\n",
       "       [ 0.35714286, -0.39285714,  0.17857143],\n",
       "       [ 0.42857143, -0.57142857,  0.71428571]])"
      ]
     },
     "execution_count": 23,
     "metadata": {},
     "output_type": "execute_result"
    }
   ],
   "source": [
    "from numpy.linalg import inv\n",
    "\n",
    "inv(np.array([[5, 1, -1], [5, -3, 0], [1, -3, 2]]))"
   ]
  },
  {
   "cell_type": "markdown",
   "id": "5aca8b18",
   "metadata": {},
   "source": [
    "**Exercício.** Encontre a matriz inversa de $A =\n",
    "\t\\begin{bmatrix} \n",
    "\t\t3 & 6 \\\\ \n",
    "\t\t4 & 5 \\\\ \n",
    "\t\\end{bmatrix}$"
   ]
  },
  {
   "cell_type": "code",
   "execution_count": null,
   "id": "8fdadde7",
   "metadata": {},
   "outputs": [],
   "source": []
  },
  {
   "cell_type": "markdown",
   "id": "4c5f5427",
   "metadata": {},
   "source": [
    "# 4. Espaços Vetoriais\n",
    "\n",
    "Um espaço vetorial E envolve quatro objetos matemáticos: Dois conjuntos V e S e duas operações algébricas chamadas adição de vetores e multiplicação por escalar.\n",
    "\n",
    "- V é um conjunto não vazio de objetos chamados vetores;\n",
    "- S é um campo escalar - pode ser um campo dos números reais ou complexos;\n",
    "- Adição de vetores ($\\mathbf{A} + \\mathbf{B}$) é uma operação entre elementos de V;\n",
    "- Multiplicação por escalar ($\\kappa\\mathbf{A}$) é uma operação entre elementos de S e V.\n",
    "\n",
    "A definição formal de um espaço vetorial define como estes quatro objetos se relacionam entre S. Observações:\n",
    "\n",
    "- V não precisa ter interpretação geométrica;\n",
    "- V pode ser um conjunto formado por quaisquer objetos que satisfaçam os axiomas abaixo;\n",
    "- Polinômios de grau menor ou igual a n, n $\\in \\mathbb{N}$ formam o espaço vetorial, por exemplo, os grupos de matrizes mxn são espaços de todas as funções de um conjunto $\\mathbb{R}$ dos números reais.\n",
    "\n",
    "## 4.1 Axiomas do espaço vetorial\n",
    "\n",
    "1. $(u+v)+w=u+(v+w)$, para $u, v, w \\in V$ (associatividade);\n",
    "2. Há um elemento $\\varnothing, \\varnothing \\in V$ tal que, para cada $v \\in V$, $v + \\varnothing = \\varnothing + v = v$ (existência do elemento neutro);\n",
    "3. Para cada $v \\in V$, existe $u \\in V$, tal que $v+u=0$ (existência do elemento oposto);\n",
    "4. Para cada $v, u \\in V$, $u+v = v+u$ (comutatividade);\n",
    "5. Para cada $a, b \\in S$ e cada $v \\in V$, $a(bv) = (ab)v$ (associatividade);\n",
    "6. Se 1 é unidade de S, então, para cada $v \\in V$, $1 \\cdot v = v$ (existência do elemento neutro em V);\n",
    "7. Para cada $a \\in S$ e cdadda $v, u \\in V$, $a(v+u) = av + au$ (distributiva de um escalar em relação à soma de votres);\n",
    "8. Para cada $a, b \\in K$ e cada $v \\in V$, $(a+b)v = av + bv$ (distributiva da soma de escalares em relação a um vetor).\n",
    "\n",
    "## 4.2 Norma\n",
    "\n",
    "Uma **norma** consiste em um função que a cada vetor de um espaço vetorial associa um número real não-negativo. O conceito de norma está intuitivamente relacionado a  noção geométrica de comprimento. \n",
    "\n",
    "Dado um espaço vetorial X sobre o corpo K dos núemros reais com complexos em um função $|| \\cdot || : X \\rightarrow \\mathbb{R}^{+}$ é chamada de norma se, para quaisquer $\\vec{x}, \\vec{y} \\in X, \\alpha \\in K$:\n",
    "\n",
    "- $|| \\vec{x} || = 0 \\implies \\vec{x} = \\vec{0}$. Se esta condição não for atendida, a função será no máximo uma **seminorma**\n",
    "- $||\\alpha\\vec{x}|| = |\\alpha|||\\vec{x}||$\n",
    "- $||\\vec{x}+\\vec{y}|| = ||\\vec{x}||+||\\vec{y}||$ (desigualdade triangular)\n",
    "\n",
    "Se o espaço vetorial X tem uma norma, ele passa a ser chamado de espaço normado (x, $||\\cdot||$).\n",
    "\n",
    "### 4.2.1 Normas lp\n",
    "\n",
    "<p style=\"text-align:center\">$(\\sum_{i=1}^{n} |x|^{p}), 1 \\le p \\le \\infty$ e $||\\vec{x}||_{\\infty} = max(|x_{i}|)$</p>\n",
    "\n",
    "**Norma Euclidiana** é definida para p = 2.\n",
    "\n",
    "**Exemplo.** Seja $f:D\\rightarrow C$ uma função mensurável à Lebesque definida em domínio D, mensurável. Se $p \\in [1, \\infty)$, f é dita p-integrável e pertence ao Lp se sua norma Lp for **finita**:\n",
    "\n",
    "<p style=\"text-align:center\">$||f||_{lp(D)} = (\\int_{D}|f(x)|^{p}dx)^{1/p}$</p>\n",
    "\n",
    "# 5. Independência linear\n",
    "\n",
    "Um conjunto $S = v_{1}, ..., v_{k}$ de vetores do $\\mathbb{R}^{n}$ é linearmente independente (L.I.) quando a equação vetorial\n",
    "\n",
    "<p style=\"text-align:center\">$x_{1}\\vec{v}_{1}+x_{2}\\vec{v}_{2} + ... + x_{k}\\vec{v}_{k} = 0$</p>\n",
    "\n",
    "só possui a solução trivial, ou seja, se a única forma de escrever o vetor nulo como combinação dos vetores $v_{1}, ..., v_{k}$ é aquela em que todos os escalares são iguais a zero. Caso contrário, a equação acima não tem solução trivial, e dizemos que S é linearmente dependente (L.D.).\n",
    "\n",
    "**Exercício.** Quais dos vetores são combinação linear de $v_{1}=(4,2,-3), v_{2}=(2,1,-2), v_{3}=(-2,-1,0)$?\n",
    "\n",
    "a) $(1,1,1)$\n",
    "\n",
    "b) $(4,2,-6)$\n",
    "\n",
    "c) $(-2,1,1)$\n",
    "\n",
    "**Exercício.** Quais dos seguintes conjuntos de vetores são linearmente dependentes?\n",
    "\n",
    "a) $\\{(1, 1, 2), (1,0,0), (4, 6, 12)\\}$\n",
    "\n",
    "b) $\\{(1, -2, 3), (-2, -4, -6)\\}$\n",
    "\n",
    "c) $\\{(1, 1, 1), (2, 3, 1), (3, 1, 2)\\}$\n",
    "\n",
    "d) $\\{(4, 2, -1), (6, 5, -5), (2, -1, 3)\\}$\n",
    "\n",
    "# 6. Base e dimensão\n",
    "\n",
    "Se E é um espaço vetorial sobre um corpo S, chama-se **base** de E um conjunto de vetores de E linearmente independentes que gera E.\n",
    "\n",
    "**Exemplo.** O espaço vetorial $\\mathbb{R}^{n}$ tem por base o conjunto {(1, 0, 0, ..., 0), (0, 1, 0, ..., 0), ..., (0, 0, 0, ..., 1)} que chamamos de base canônica.\n",
    "\n",
    "**Exemplo.** O espaço vetorial dos polinômios $p(x)$ de coeficientes reais tem uma base infinita $\\{1, x, x^{2}, x^{3}, ..., x^{n}\\}$. A cardinalidade da base define a dimensão do espaço vetorial.\n",
    "\n",
    "O espaço $\\mathbb{R}^{3}$ possui dimensão finita igua a 3. Quando os vetores da base são ortogonais entre si, dizemos que a base é **ortogonal**. Se além de ortogonais forem unitários, a base é chamada **ortonormal**. A base canônica de $\\mathbb{R}{n}$ é um exemplo de base ortonormal.\n",
    "\n",
    "# 7. Projeção\n",
    "\n",
    "**Projeção ortogonal.** Seja E um espaço vetorial, $F \\subseteq E$ um subespaço de E. Sejam $v_{1}, v_{2}, ..., v_{n}$ os vetores de uma base ortogonal de F. Então a projeção ortogonal $\\hat{v}$ de $v \\in E$ em $F$ é dada por:\n",
    "\n",
    "<p style=\"text-align:center\">$\\hat{v} = \\sum_{i=1}^{n}\\alpha_{i}v_{i}$</p>\n",
    "\n",
    "onde $\\dfrac{<v, v_{i}>}{<v_{i}, v_{i}>}$ são coeficientes de Fourier. Vamos imaginar o cálculo da distância do espaço $\\mathbb{R}^{3}$ até o plano xy e depois calcular a norma do vetor resultante da subtração do vetor por sua projeção. Seja $\\{v_{1}, v_{2}, ..., v_{n} \\}$ uma base ortogonal de um subconjunto S, queremos calcular a distância $||D||$ de um vetor $v \\notin S$ até S.\n",
    "\n",
    "$D = v - \\hat{v}, <v-\\hat{v}, x> = 0$ $\\forall x \\in S$ onde $\\hat{v}$ é a projeção ortogonal de V em S. Como $x$ é combinação linear de lementos da base $S$, temos que\n",
    "\n",
    "<p style=\"text-align:center\">$<v-\\hat{v}, v_{j}> = 0$, $j = 1, \\dots, n$</p>\n",
    "\n",
    "Logo,\n",
    "\n",
    "<p style=\"text-align:center\">$<v,v_{j}> = <\\hat{v}, v_{j}> = 0$, $j = 1, \\dots, n$</p>\n",
    "\n",
    "Como $\\hat{v} \\in S$, temos que\n",
    "\n",
    "<p style=\"text-align:center\">$\\hat{v} = \\sum_{k=1}^{n}\\alpha_{k}v_{k}$</p>\n",
    "\n",
    "e portanto\n",
    "\n",
    "<p style=\"text-align:center\">$<v,v_{j}> = <\\hat{v}, v_{j}> = \\sum_{k=1}^{n}\\alpha_{k}<v_{k}, v_{j}>$</p>\n",
    "\n",
    "Como a base é ortonormal, $<v_{k}, v_{j}> = 0$ para $i \\ne j$. Logo\n",
    "\n",
    "<p style=\"text-align:center\">$\\sum_{k=1}^{n}\\alpha_{k}<v_{k}, v_{j}> = \\alpha_{1}<v_{1}XXXXXXXXXXXXXXXXXXXXXXXXx$</p>\n",
    "\n",
    "Assim $\\alpha_{j} = \\dfrac{<v, v_{j}>}{<v_{j}, v_{j}>}$ são conhecidos como **coeficientes de Fourier**.\n",
    "\n",
    "**Exemplo.** Seja S o subespaço de $\\mathbb{R}^{3}$ gerado por $\\{(0, 1, 0), (0, 0, 1) \\}$ - plano yz. Para determinar a distância do vetor v = (7, -2, 3) ao plano S precisamos primeiro encontrar a projeção ortogonal $\\hat{v}$ de v em S e então determinar a distância $||D|| = ||v-\\hat{v}||$.\n",
    "\n",
    "$\\hat{v} = \\alpha_{1}(0, 1, 0) + \\alpha_{2}(0,0,1)$ onde $\\alpha_{i} = \\dfrac{<v, v_{i}>}{<v_{i}, v_{i}>}$ e $<v, v_{1}> = (7, -2, 3) (0, 1, 0) = -2$, $<v, v_{2}> = (7, -2, 3)(0, 0, 1) = 3$. Logo $\\hat{v} = -2v_{1}+3v_{2} = (0, -2, 3)$. Portanto, $D = v - \\hat{v}=(7,-2,3)-(0,-2,3)=(7,0,0)$."
   ]
  },
  {
   "cell_type": "code",
   "execution_count": null,
   "id": "c335f042",
   "metadata": {},
   "outputs": [],
   "source": []
  }
 ],
 "metadata": {
  "kernelspec": {
   "display_name": "Python 3 (ipykernel)",
   "language": "python",
   "name": "python3"
  },
  "language_info": {
   "codemirror_mode": {
    "name": "ipython",
    "version": 3
   },
   "file_extension": ".py",
   "mimetype": "text/x-python",
   "name": "python",
   "nbconvert_exporter": "python",
   "pygments_lexer": "ipython3",
   "version": "3.9.6"
  },
  "toc": {
   "base_numbering": 1,
   "nav_menu": {},
   "number_sections": false,
   "sideBar": false,
   "skip_h1_title": false,
   "title_cell": "Table of Contents",
   "title_sidebar": "Contents",
   "toc_cell": false,
   "toc_position": {},
   "toc_section_display": false,
   "toc_window_display": false
  }
 },
 "nbformat": 4,
 "nbformat_minor": 5
}
