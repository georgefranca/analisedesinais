{
 "cells": [
  {
   "cell_type": "markdown",
   "id": "bb79b0a1",
   "metadata": {},
   "source": [
    "### Sumário\n",
    "\n",
    "1. [Introdução](#1.-Introdução)\n",
    "2. [Vetores](#2.-Vetores)\n",
    "3. [Matrizes](#3.-Matrizes)\n",
    "4. [Espaços Vetoriais](#4.-Espaços-Vetoriais)\n",
    "5. [Norma](#5.-Norma)\n",
    "6. [Independência linear](#6.-Independência-linear)\n",
    "7. [Base e dimensão](#7.-Base-e-dimensão)\n",
    "8. [Projeção](#8.-Projeção)\n",
    "9. [Coeficientes de Fourier](#9.-Coeficientes-de-Fourier)\n",
    "10. [Tipos de espaços](#10.-Tipos-de-espaços)\n",
    "11. [Combinação linear](#11.-Combinação-linear)"
   ]
  },
  {
   "cell_type": "markdown",
   "id": "e6e5366b",
   "metadata": {},
   "source": [
    "# 1. Introdução\n",
    "\n",
    "A álgebra linear pode ser vista como uma combinação de álgebra e geometria com uma grande variedade de aplicações, e diversos problemas na ciência e na matemática envolvem a solução de conjuntos de equações lineares. Por exemplo, suponha que você resolveu um sistema de equações lineares e encontrou x = 1 e y = 3. Você pode ver esse resultado como um ponto no plano (x, y), mas uma interpretação geométrica é que como duas equações lineares representam duas retas, a solução representa o ponto de intersecção entre as mesmas. Essa visão nos ajuda a entender casos em que não há solução para o problema (duas retas paralelas) e casos onde há infinitas soluções (ambas equações representam a mesma reta).\n",
    "\n",
    "Na área de análise e processamento de sinais, os conceitos de vetores, matrizes, espaços vetoriais, base e dimensão são fundamentais para a compreensão da representação dos sinais no domínio da frequência.\n",
    "\n",
    "Vamos para a segunda revisão!"
   ]
  },
  {
   "cell_type": "markdown",
   "id": "38797283",
   "metadata": {},
   "source": [
    "# 2. Vetores\n",
    "\n",
    "Um vetor é um arranjo de elementos em uma linha ou coluna, sendo chamado vetor-linha ou vetor-coluna, respectivamente. Vamos representar vetores com uma letra romana (A, B, C, etc) em negrito (e.g. $\\mathbf{A}$), mas ao escrever no papel você pode utilizar uma seta em cima da letra (e.g. $\\vec{A}$) para indicar que se trata de um vetor. O número de elementos do vetor define a sua dimensão.\n",
    "\n",
    "**Exemplo 1** <p style=\"text-align:center\">$\\mathbf{A} = \n",
    "\t\\begin{bmatrix} \n",
    "\t\ta_{1} \\\\ \n",
    "\t\ta_{2} \\\\ \n",
    "\t\t\\vdots \\\\\n",
    "        a_{n}\n",
    "\t\\end{bmatrix}_{nx1} $</p>\n",
    "\n",
    "<p style=\"text-align:center\">$\\mathbf{B} =\n",
    "\t\\begin{bmatrix} \n",
    "\t\tb_{1} && b_{2} && \\dots && b_{n}\\\\ \n",
    "\t\\end{bmatrix}_{1xn}$</p>\n",
    "\n",
    "Usamos a letra T para representar a transposta de um vetor:\n",
    "\n",
    "<p style=\"text-align:center\">$\\mathbf{A} =\n",
    "\t\\begin{bmatrix} \n",
    "\t\ta_{1} \\\\ \n",
    "\t\ta_{2} \\\\ \n",
    "\t\t\\vdots \\\\\n",
    "        a_{n}\n",
    "\t\\end{bmatrix}; \\mathbf{A}^{T} = \\begin{bmatrix} \n",
    "\t\ta_{1} && a_{2} && \\dots && a_{n} \\\\ \\end{bmatrix} $</p>\n",
    "\n",
    "\n",
    "## 2.1 Operações com vetores\n",
    "\n",
    "### 2.1.1 Adição\n",
    "\n",
    "A soma entre vetores requer que os mesmos possuam a mesma dimensão e é feita componente a componente: $\\mathbf{A}+\\mathbf{B} = [a_{i}+b_{i}] = \\mathbf{C} = [c_{i}]$. As propriedades comutativa e associativa da adição são válidas para vetores:\n",
    "\n",
    "<p style=\"text-align:center\">$\\mathbf{A}+\\mathbf{B} = \\mathbf{B}+\\mathbf{A}$</p>\n",
    "<p style=\"text-align:center\">$(\\mathbf{A}+\\mathbf{B})+\\mathbf{C} = (\\mathbf{A}+\\mathbf{B})+\\mathbf{C}$</p>\n",
    "\n",
    "Dessa forma, parece razoável usar o símbolo $3\\mathbf{A}$ para representar a soma $\\mathbf{A}+\\mathbf{A}+\\mathbf{A}$, ou de forma mais geral $c\\mathbf{A}$, onde c é um número inteiro, definindo portanto a multiplicação por escalar como $\\mathbf{B} = c\\mathbf{A} = [ka_{i}]$.\n",
    "\n",
    "### 2.1.2 Multiplicação\n",
    "\n",
    "Há dois tipos de multiplicação entre vetores: o primeiro tipo, chamado produto interno (ou escalar), resulta em um escalar, e o segundo tipo, chamado produto vetorial (ou externo), produz um vetor.\n",
    "\n",
    "#### 2.1.2.1 Produto interno\n",
    "\n",
    "Sejam $\\mathbf{A}$ e $\\mathbf{B}$ dois vetores de dimensão (nx1). O produto interno $\\mathbf{A} \\cdot \\mathbf{B}$ entre eles é dado por:\n",
    "\n",
    "<p style=\"text-align:center\">$\\mathbf{A} \\cdot \\mathbf{B} = \\sum_{i=1}^{n}a_{i}b_{i}$</p>\n",
    "\n",
    "Dois vetores são **ortogonais** quando o produto interno entre eles for igual a zero. Outra maneira de definir o produto interno entre $\\mathbf{A}$ e $\\mathbf{B}$ é por meio do produto entre a magnitude de $\\mathbf{A}$ (ver próxima seção), a magnitude de $\\mathbf{B}$ e o cosseno do ângulo entre eles:\n",
    "\n",
    "<p style=\"text-align:center\">$\\mathbf{A} \\cdot \\mathbf{B} = |\\mathbf{A}| |\\mathbf{B}|cos(\\theta)$</p>\n",
    "\n",
    "A combinação entre as duas formulações permite encontrar o ângulo entre os vetores.\n",
    "\n",
    "#### 2.1.2.2 Magnitude (norma) de um vetor\n",
    "\n",
    "A magnitude de um vetor indica o comprimento da seta no seu gráfico, e a magnitude de um vetor $\\mathbf{A}$ é representada por A, |A| ou ||A|| (este último é usado para representar a norma). Pelo teorema de Pitágoras em uma representação 2D, temos:\n",
    "\n",
    "<p style=\"text-align:center\">$A = ||\\mathbf{A}|| = \\sqrt{A_{x}^{2}+A_{y}^{2}}$</p>\n",
    "\n",
    "De forma mais geral para espaços de dimensões maiores, a magnitude de um vetor é dada pela raíz quadrada do produto interno dele com ele mesmo:\n",
    "\n",
    "<p style=\"text-align:center\">$A = ||\\mathbf{A}|| = \\sqrt{\\mathbf{A}^{T}\\mathbf{A}}$</p>\n",
    "\n",
    "Um vetor de magnitude igual a 1 é chamado de vetor unitário. Para qualquer $\\mathbf{A} \\neq 0$, $\\mathbf{A}/|\\mathbf{A}|$ é um vetor unitário.\n",
    "\n",
    "#### 2.1.2.3 Propriedades do produto escalar\n",
    "\n",
    "Sejam $\\mathbf{X}$, $\\mathbf{Y}$ e $\\mathbf{Z}$ vetores de $\\mathbb{R}^n$ e $\\alpha$ um escalar.\n",
    "\n",
    "1. $\\mathbf{X} \\cdot \\mathbf{Y} = \\mathbf{Y} \\cdot \\mathbf{X}$ (comutatividade)\n",
    "2. $\\mathbf{X} \\cdot (\\mathbf{Y}+\\mathbf{Z}) = \\mathbf{X} \\cdot \\mathbf{Y} + \\mathbf{X} \\cdot \\mathbf{Z}$ (distribuição em relação a soma)\n",
    "3. $(\\alpha \\mathbf{X}) \\cdot \\mathbf{Y} = \\alpha (\\mathbf{X} \\cdot \\mathbf{Y}) = \\mathbf{X} \\cdot \\alpha\\mathbf{Y}$\n",
    "4. $| \\mathbf{X} \\cdot \\mathbf{Y} | \\le |\\mathbf{X}| |\\mathbf{Y}|$ (Desigualdade de Cauchy-Schwarz)\n",
    "5. $| \\mathbf{X} + \\mathbf{Y} | \\le |\\mathbf{X}| + |\\mathbf{Y}|$\n",
    "\n",
    "#### 2.1.2.4 Produto vetorial\n",
    "\n",
    "XXXXXXXXXXXXXXXXXXXXXXXXXXXXXXXXXXXXXXXXXXXXXXXXXXXXXXXXXXXXXXXXXXXXXX\n",
    "\n",
    "## 2.2 Vetores em Python\n",
    "\n",
    "A forma mais prática de representar vetores (e matrizes) em Python é utilizando objetos ``array`` da biblioteca Numpy. As operações entre vetores são feitas de forma muito simples."
   ]
  },
  {
   "cell_type": "code",
   "execution_count": 1,
   "id": "ce4843c4",
   "metadata": {},
   "outputs": [],
   "source": [
    "# Vamos importar a biblioteca e inicializar alguns vetores para testar\n",
    "import numpy as np\n",
    "\n",
    "a = np.array([1, 4, 5])\n",
    "b = np.array([4, 7, 2])"
   ]
  },
  {
   "cell_type": "code",
   "execution_count": 2,
   "id": "b181a172",
   "metadata": {},
   "outputs": [
    {
     "data": {
      "text/plain": [
       "numpy.ndarray"
      ]
     },
     "execution_count": 2,
     "metadata": {},
     "output_type": "execute_result"
    }
   ],
   "source": [
    "type(a)"
   ]
  },
  {
   "cell_type": "code",
   "execution_count": 3,
   "id": "a25afd3f",
   "metadata": {},
   "outputs": [
    {
     "data": {
      "text/plain": [
       "(3,)"
      ]
     },
     "execution_count": 3,
     "metadata": {},
     "output_type": "execute_result"
    }
   ],
   "source": [
    "a.shape"
   ]
  },
  {
   "cell_type": "code",
   "execution_count": 4,
   "id": "cee76212",
   "metadata": {},
   "outputs": [
    {
     "data": {
      "text/plain": [
       "array([ 5, 11,  7])"
      ]
     },
     "execution_count": 4,
     "metadata": {},
     "output_type": "execute_result"
    }
   ],
   "source": [
    "# soma\n",
    "a + b"
   ]
  },
  {
   "cell_type": "code",
   "execution_count": 5,
   "id": "5057284c",
   "metadata": {},
   "outputs": [
    {
     "name": "stdout",
     "output_type": "stream",
     "text": [
      "Magnitude usando iteração:  6.48074069840786\n",
      "Magnitude usando np.dot:  6.48074069840786\n",
      "Magnitude usando a função norm:  6.48074069840786\n",
      "Magnitude usando o @:  6.48074069840786\n"
     ]
    }
   ],
   "source": [
    "# existem diversas maneiras de obter a magnitude de um vetor em Python\n",
    "\n",
    "# uma maneira não muito prática é iterando pelos elementos do vetor\n",
    "s = 0\n",
    "for elemento in a:\n",
    "    s += elemento**2\n",
    "print(\"Magnitude usando iteração: \", s**0.5)\n",
    "\n",
    "# podemos usar a função dot do numpy para calcular o produto interno de a\n",
    "# com ele mesmo e tirar a raíz quadrada\n",
    "print(\"Magnitude usando np.dot: \",np.sqrt(np.dot(a,a)))\n",
    "\n",
    "# podemos usar a função norm da biblioteca de álgebra linear do numpy\n",
    "from numpy.linalg import norm\n",
    "\n",
    "print(\"Magnitude usando a função norm: \",norm(a))\n",
    "\n",
    "# se não quisermos importar nada, uma forma simples é usando o operador @,\n",
    "# que calcula o produto interno\n",
    "\n",
    "print(\"Magnitude usando o @: \",(a@a)**0.5)"
   ]
  },
  {
   "cell_type": "markdown",
   "id": "0c9293ff",
   "metadata": {},
   "source": [
    "O produto vetorial pode ser obtido facilmente por meio da função `cross` do Numpy, para vetores de dimensões 2 ou 3."
   ]
  },
  {
   "cell_type": "code",
   "execution_count": 6,
   "id": "a653a185",
   "metadata": {},
   "outputs": [
    {
     "name": "stdout",
     "output_type": "stream",
     "text": [
      "[-27  18  -9]\n",
      "[-27  18  -9]\n"
     ]
    }
   ],
   "source": [
    "print(np.cross(a, b))\n",
    "\n",
    "# Repare que a x b = -b x a\n",
    "print(np.cross(-b, a))"
   ]
  },
  {
   "cell_type": "markdown",
   "id": "e014889b",
   "metadata": {},
   "source": [
    "**Exercícios.** Resolva:\n",
    "\n",
    "<p style=\"text-align:center\">$ \n",
    "\t\\begin{bmatrix} \n",
    "\t\t-1 & 3 & -5 &2\n",
    "\t\\end{bmatrix} + \n",
    "    \t\\begin{bmatrix} \n",
    "\t\t-1 & 2 & 4 & 2\n",
    "\t\\end{bmatrix} = \n",
    "    $</p>"
   ]
  },
  {
   "cell_type": "code",
   "execution_count": null,
   "id": "ce16c48c",
   "metadata": {},
   "outputs": [],
   "source": []
  },
  {
   "cell_type": "markdown",
   "id": "126a86d9",
   "metadata": {},
   "source": [
    "Calcule o produto interno entre $\n",
    "\ta = \\begin{bmatrix} \n",
    "\t\t-1 & 3 & -5 & 2\\\\ \n",
    "\t\\end{bmatrix} , \n",
    "    \tb = \\begin{bmatrix} \n",
    "\t\t3 & 2 & -1 & 2\\\\\n",
    "\t\\end{bmatrix} $"
   ]
  },
  {
   "cell_type": "code",
   "execution_count": null,
   "id": "194bf7bd",
   "metadata": {},
   "outputs": [],
   "source": []
  },
  {
   "cell_type": "markdown",
   "id": "fb57fbcc",
   "metadata": {},
   "source": [
    "Calcule o produto externo entre $ \n",
    "\ta = \\begin{bmatrix} \n",
    "\t\t-1 & 3 & -5\\\\ \n",
    "\t\\end{bmatrix} , \n",
    "    \tb = \\begin{bmatrix} \n",
    "\t\t3 & 2 & -1\\\\\n",
    "\t\\end{bmatrix}$"
   ]
  },
  {
   "cell_type": "code",
   "execution_count": null,
   "id": "c03b365f",
   "metadata": {},
   "outputs": [],
   "source": []
  },
  {
   "cell_type": "markdown",
   "id": "0f3f30c5",
   "metadata": {},
   "source": [
    "# 3. Matrizes\n",
    "\n",
    "Uma matriz é um arranjo retangular de números, onde uma matriz $A_{mxn}$ (m por n) é essencialmente uma tabela de mn números dispostos em m linhas e n colunas.\n",
    "\n",
    "<p style=\"text-align:center\">$\\mathbf{A} =\n",
    "\t\\begin{bmatrix} \n",
    "\t\tx_{11} & x_{12} & \\dots & x_{1n} \\\\ \n",
    "\t\tx_{21} & x_{22} & \\dots & x_{2n}  \\\\ \n",
    "\t\t\\vdots & \\vdots & \\vdots & \\vdots \\\\\n",
    "        x_{m1} & x_{m2} & \\dots & x_{mn} \\\\\n",
    "\t\\end{bmatrix} $</p>\n",
    "\n",
    "Usamos a notação $A = (a_{ij})$ para descrever o elemento na i-ésima linha e j-ésima coluna da matriz. Se m = n, então A é uma matriz quadrada de ordem n e os elementos $a_{11}, a_{22}, ..., a_{nn}$ formam a diagonal principal de A. Matriz com uma linha ou coluna é denominada matriz linha ou coluna, respectivamente.\n",
    "\n",
    "## 3.1 Redução por linhas e posto de matriz\n",
    "\n",
    "Considere o seguinte conjunto de equações:\n",
    "\n",
    " $\\begin{cases}\n",
    "      2x -z = 2\\\\\n",
    "      6x + 5y + 3z = 7 \\\\\n",
    "      2x -y  = 4\n",
    "    \\end{cases}\\,$\n",
    "    \n",
    "Nós podemos representar todas as informações essenciais do conjunto de equações em uma matriz chamada **aumentada**, onde as primeiras colunas são os coeficientes no lado esquerdo da igualdade e a última coluna é igual aos valores do lado direito da igualdade:\n",
    "\n",
    "<p style=\"text-align:center\">$\\mathbf{A} =  \n",
    "\t\\begin{bmatrix} \n",
    "\t\t2 & 0 & -1 & 2 \\\\ \n",
    "\t\t6 & 5 & 3 & 7  \\\\ \n",
    "\t\t2 & -1 & 0 & 4 \\\\\n",
    "\t\\end{bmatrix} $</p>\n",
    "\n",
    "Com a forma matricial não precisamos escrever todo o conjunto de equações e podemos trabalhar com um processo chamado **redução por linhas**, que é o modo como o computador resolver sistemas lineares de equações.\n",
    "\n",
    "1. Primeiramente vamos usar a primeira linha para eliminar os termos x da segunda e terceira linhas. Para tanto, vamos fazer $L_{2}-3L_{1}$ e $L_{2}-L_{1}$, onde L representa a linha:\n",
    "\n",
    "<p style=\"text-align:center\">$ \n",
    "\t\\begin{bmatrix} \n",
    "\t\t2 & 0 & -1 & 2 \\\\ \n",
    "\t\t0 & 5 & 6 & 1  \\\\ \n",
    "\t\t0 & -1 & 1 & 2 \\\\\n",
    "\t\\end{bmatrix}\n",
    " $</p>\n",
    "\n",
    "2. Trocaremos a segunda e a terceira linha de posição:\n",
    "\n",
    "<p style=\"text-align:center\">$\n",
    "\t\\begin{bmatrix} \n",
    "\t\t2 & 0 & -1 & 2 \\\\ \n",
    "        0 & -1 & 1 & 2 \\\\\n",
    "\t\t0 & 5 & 6 & 1  \\\\ \n",
    "\t\\end{bmatrix}\n",
    " $</p>\n",
    "\n",
    "3. $L_{3}+5L{1}$:\n",
    "\n",
    "<p style=\"text-align:center\">$ \n",
    "\t\\begin{bmatrix} \n",
    "\t\t2 & 0 & -1 & 2 \\\\ \n",
    "        0 & -1 & 1 & 2 \\\\\n",
    "\t\t0 & 0 & 11 & 11  \\\\ \n",
    "\t\\end{bmatrix}\n",
    " $</p>\n",
    "\n",
    "4. Dividiremos a linha 3 por 11 e a usaremos para simplificar as outras linhas:\n",
    "\n",
    "<p style=\"text-align:center\">$\n",
    "\t\\begin{bmatrix} \n",
    "\t\t2 & 0 & 0 & 3 \\\\ \n",
    "        0 & -1 & 0 & 1 \\\\\n",
    "\t\t0 & 0 & 1 & 1  \\\\ \n",
    "\t\\end{bmatrix}\n",
    " $</p>\n",
    "\n",
    "5. A matriz reduzida por linha é:\n",
    "\n",
    "<p style=\"text-align:center\">$\n",
    "\t\\begin{bmatrix} \n",
    "\t\t1 & 0 & 0 & 3/2 \\\\ \n",
    "        0 & 1 & 0 & -1 \\\\\n",
    "\t\t0 & 0 & 1 & 1  \\\\ \n",
    "\t\\end{bmatrix}\n",
    " $</p>\n",
    "\n",
    "Logo, a solução do sistema de equações lineares é x = 3/2, y = -1 e z = 1. Ao realizar a redução por linhas, as operações permitidas são: (i) trocar duas linhas; (ii) multiplicar (ou dividir) uma linha por uma constante diferente de zero e (iii) adicionar ou subtrair o múltiplo de uma linha a outra.\n",
    "\n",
    "**Exercício.** Reduza por linhas (na mão!) o seguinte sistema de equações:\n",
    "\n",
    " $\\begin{cases}\n",
    "      x - y + 4z = 5\\\\\n",
    "      2x - 3y + 8z = 4 \\\\\n",
    "      x -2y + 4z = 9\n",
    "    \\end{cases}\\,$\n",
    "    \n",
    "Se você chegou em $ \n",
    "\t\\begin{bmatrix} \n",
    "\t\t1 & 0 & 4 & 11 \\\\ \n",
    "        0 & -1 & 0 & -6 \\\\\n",
    "\t\t0 & 0 & 0 & 20  \\\\ \n",
    "\t\\end{bmatrix}$, pode parar. Aqui, a terceira linha diz que 0z = 20, o que não é verdade para nenhum valor finito de z. Dizemos que o sistema é **inconsistente** e que não há solução. POSTO"
   ]
  },
  {
   "cell_type": "code",
   "execution_count": null,
   "id": "f456d77b",
   "metadata": {},
   "outputs": [],
   "source": []
  }
 ],
 "metadata": {
  "kernelspec": {
   "display_name": "Python 3 (ipykernel)",
   "language": "python",
   "name": "python3"
  },
  "language_info": {
   "codemirror_mode": {
    "name": "ipython",
    "version": 3
   },
   "file_extension": ".py",
   "mimetype": "text/x-python",
   "name": "python",
   "nbconvert_exporter": "python",
   "pygments_lexer": "ipython3",
   "version": "3.9.6"
  },
  "toc": {
   "base_numbering": 1,
   "nav_menu": {},
   "number_sections": false,
   "sideBar": false,
   "skip_h1_title": false,
   "title_cell": "Table of Contents",
   "title_sidebar": "Contents",
   "toc_cell": false,
   "toc_position": {},
   "toc_section_display": false,
   "toc_window_display": false
  }
 },
 "nbformat": 4,
 "nbformat_minor": 5
}
