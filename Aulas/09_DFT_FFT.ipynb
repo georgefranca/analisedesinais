{
 "cells": [
  {
   "cell_type": "markdown",
   "id": "4ff5f89e",
   "metadata": {},
   "source": [
    "# Transformada de Fourier discreta (DFT)\n",
    "\n",
    "A Transformada de Fourier decompõe qualquer sinal em uma soma de ondas cosseno e seno, de forma que pode-se medir a frequência, a amplitude e a fase. Neste notebook, vamos trabalhar com sinais discretos, usando tanto a Transformada de **Fourier Discreta (DFT)** quanto a **Transformada de Fourier Rápida (FFT)**.\n",
    "\n",
    "Considerando um sinal cujas amostras estão igualmente espaçadas, a DFT é definida como:\n",
    "\n",
    "$\\large \\displaystyle{X_k = \\sum\\limits_{n=0}^{N-1}x_n \\cdot e^{-i2\\pi kn/N}}$\n",
    "\n",
    "onde $N$ é o número de amostras, $n$ é o índice da amostra atual, $k$ é a frequência atual ($k \\in [0, N-1]$), $x_n$ é o valor da amostra em $n$ e $X_k$ é a DFT. Perceba que:\n",
    "\n",
    "- Se N for ímpar, $X_1$, $X_2$, $\\dots$, $X_{(N-1)/2}$ contém os termos de frequência positiva e $X_{(N+1)/2}$, $\\dots$, $X_{N-1}$ contém os termos de frequência negativa.\n",
    "- Se N for par, $X_1$, $X_2$ $\\dots$, $X_{N/2 - 1}$ contém os termos de frequência positiva e $X_{N/2}$, $\\dots$, $X_{N-1}$ contém os termos de frequência negativa.\n",
    "- No caso de um sinal de entrada real, a parte das frequências positivas da DFT é o conjugado da parte negativa, e assim o espectro vai ser simétrico. Portanto, geralmente plotamos apenas a DFT correspondendo às frequências positivas.\n",
    "\n",
    "A amplitude e a fase do sinal podem ser calculadas por:\n",
    "\n",
    "$\\large A = \\frac{|X_k|}{N} = \\frac{\\sqrt{Re(X_k)^2 + Im(X_k)^2}}{N} $\n",
    "\n",
    "$\\large \\Phi = atan2(Im(X_k), Re(X_k))$\n",
    "\n",
    "As amplitudes retornadas pela DFT vão corresponder às amplitudes do sinal original se nós normalizarmos pelo número de amostras. Entretanto, se nós olharmos apenas para um lado do resultado da DFT, nós dividimos por N/2, e não por N, para obter a amplitude."
   ]
  },
  {
   "cell_type": "code",
   "execution_count": null,
   "id": "2bc81cb8",
   "metadata": {},
   "outputs": [],
   "source": [
    "import numpy as np\n",
    "import matplotlib.pyplot as plt\n",
    "from numpy.fft import fftfreq"
   ]
  },
  {
   "cell_type": "code",
   "execution_count": null,
   "id": "26ffcba9",
   "metadata": {},
   "outputs": [],
   "source": [
    "T = 40 # segundos\n",
    "N = 100 # amostras\n",
    "t = np.linspace(0, T, N)\n",
    "dt = t[1] - t[0]"
   ]
  },
  {
   "cell_type": "markdown",
   "id": "2a5a3b63",
   "metadata": {},
   "source": [
    "Dadas essas informações, a frequência de Nyquist é:"
   ]
  },
  {
   "cell_type": "code",
   "execution_count": null,
   "id": "35665cb2",
   "metadata": {},
   "outputs": [],
   "source": [
    "f_ny = 1/(2*dt)\n",
    "f_ny"
   ]
  },
  {
   "cell_type": "markdown",
   "id": "e8adb5da",
   "metadata": {},
   "source": [
    "Vamos olhar para algumas frequências."
   ]
  },
  {
   "cell_type": "code",
   "execution_count": null,
   "id": "cee77af3",
   "metadata": {},
   "outputs": [],
   "source": [
    "f1 = 20/(N*dt)\n",
    "f2 = 10/(N*dt)"
   ]
  },
  {
   "cell_type": "code",
   "execution_count": null,
   "id": "af48a0f5",
   "metadata": {},
   "outputs": [],
   "source": [
    "round(f1, 4)"
   ]
  },
  {
   "cell_type": "code",
   "execution_count": null,
   "id": "e8d72ad1",
   "metadata": {},
   "outputs": [],
   "source": [
    "round(f2, 4)"
   ]
  },
  {
   "cell_type": "markdown",
   "id": "becab90a",
   "metadata": {},
   "source": [
    "Obtendo uma série temporal com ruído incluso."
   ]
  },
  {
   "cell_type": "code",
   "execution_count": null,
   "id": "db547f3e",
   "metadata": {},
   "outputs": [],
   "source": [
    "x1 = np.sin(2*np.pi*f1*t) + 0.3*np.sin(2*np.pi*f2*t) + 0.3*np.random.randn(len(t))"
   ]
  },
  {
   "cell_type": "code",
   "execution_count": null,
   "id": "fc2d2b41",
   "metadata": {},
   "outputs": [],
   "source": [
    "plt.plot(t, x1)\n",
    "plt.xlabel(\"$t (s)$\")\n",
    "plt.ylabel(\"Amplitude\");"
   ]
  },
  {
   "cell_type": "markdown",
   "id": "4e53630e",
   "metadata": {},
   "source": [
    "Primeiramente, vamos definir uma função simples de DFT e usar funções prontas do `Numpy` apenas para criar o vetor de frequências."
   ]
  },
  {
   "cell_type": "code",
   "execution_count": null,
   "id": "b4de21a2",
   "metadata": {},
   "outputs": [],
   "source": [
    "def DFT(x):\n",
    "    N = len(x)\n",
    "    n = np.arange(N)\n",
    "    k = n.reshape((N, 1))\n",
    "    e = np.exp(-2j * np.pi * k * n / N)\n",
    "    \n",
    "    X = np.dot(e, x)\n",
    "    \n",
    "    return X"
   ]
  },
  {
   "cell_type": "code",
   "execution_count": null,
   "id": "2703c202",
   "metadata": {},
   "outputs": [],
   "source": [
    "# DFT\n",
    "X = DFT(x1)\n",
    "# vetor de frequências\n",
    "f = np.fft.fftfreq(len(t), dt)"
   ]
  },
  {
   "cell_type": "code",
   "execution_count": null,
   "id": "54744879",
   "metadata": {},
   "outputs": [],
   "source": [
    "# como o sinal de entrada é real, vamos plotar apenas a primeira metade\n",
    "plt.plot(f[:N//2], np.abs(X[:N//2]))\n",
    "plt.xlabel(\"$f_n (s^{-1})$\")\n",
    "plt.ylabel(\"$|X_k|$\");"
   ]
  },
  {
   "cell_type": "markdown",
   "id": "88ab4efe",
   "metadata": {},
   "source": [
    "Para exemplificar a questão da amplitude, vamos normalizar o sinal."
   ]
  },
  {
   "cell_type": "code",
   "execution_count": null,
   "id": "484cf78d",
   "metadata": {},
   "outputs": [],
   "source": [
    "X_norm = X[:N//2]/(N//2)\n",
    "plt.plot(f[:N//2], np.abs(X_norm))\n",
    "plt.title(\"DFT normalizada\")\n",
    "plt.xlabel(\"$f_n (s^{-1})$\")\n",
    "plt.ylabel(\"$|X_k|$\");"
   ]
  },
  {
   "cell_type": "markdown",
   "id": "22cf0bdc",
   "metadata": {},
   "source": [
    "Agora pode ser visto que os dois picos recuperaram as amplitudes de 1.0 e 0.3 do sinal original, mesmo com o ruído. Antes de prosseguirmos para a FFT, vamos verificar o tempo de execução da nossa implementação da DFT."
   ]
  },
  {
   "cell_type": "code",
   "execution_count": null,
   "id": "ddcc6924",
   "metadata": {},
   "outputs": [],
   "source": [
    "%timeit DFT(x1)"
   ]
  },
  {
   "cell_type": "markdown",
   "id": "af7e3e06",
   "metadata": {},
   "source": [
    "# Transformada de Fourier rápida (FFT)\n",
    "\n",
    "A Transformada de Fourier rápida consiste em um algorimo para calcular a DFT de uma sequência de forma eficiente. Foi descrita primeiramente em um artigo de Cooley e Tukey em 1965, e é um algoritmo de divisão e conquista que quebra a DFT recursivamente em DFTs menores e reduz a complexidade do problema de $O(n^2)$ para $O(nlogn)$, onde n é o tamanho dos dados.\n",
    "\n",
    "A FFT utiliza de simetrias na DFT para acelerar o seu cálculo. Com base na definição da DFT apresentada anteriormente, vamos calcular o seguinte:\n",
    "\n",
    "$\\large \\displaystyle{X_{k+N} = \\sum\\limits_{n=0}^{N-1}x_n \\cdot e^{-i2\\pi (k+N)n/N}} = \\sum\\limits_{n=0}^{N-1}x_n \\cdot e^{-i2\\pi n} \\cdot e^{-i2\\pi kn/N} $\n",
    "\n",
    "Note que $e^{-i\\pi n} = 1$, portanto:\n",
    "\n",
    "$\\large \\displaystyle{X_{k+N} = \\sum\\limits_{n=0}^{N-1}x_n \\cdot e^{-i2\\pi kn/N} = X_k} $\n",
    "\n",
    "e, de forma geral\n",
    "\n",
    "$X_k = X_{k \\pm N} = X_{k \\pm 2N} = \\dots = X_{k \\pm cN}$ para todo inteiro $c$\n",
    "\n",
    "Cooley e Tukey mostraram que podemos calcular a DFT de forma mais eficiente se dividirmos o problema em problemas menores. Vamos dividir a série temporal em duas:\n",
    "\n",
    "$\\large \\displaystyle{X_k = \\sum\\limits_{n=0}^{N-1}x_n \\cdot e^{-i2\\pi kn/N}} \\\\ \\large = \\sum\\limits_{m=0}^{N/2-1}x_{2m}\\cdot e^{-i2\\pi k(2m)/N} + \\sum\\limits_{m=0}^{N/2-1} x_{2m+1}\\cdot e^{-i2\\pi k(2m+1)/N} \\\\ \\large = \\sum\\limits_{m=0}^{N/2-1} x_{2m} \\cdot e^{-i2\\pi km/(N/2)} + e^{-i2\\pi k/N} + \\sum\\limits_{m=0}^{N/2-1}x_{2m+1} \\cdot e^{-i2\\pi km/(N/2)}$\n",
    "\n",
    "Nota-se que os dois termos menores que possuem apenas metade do tamanho $\\frac{N}{2}$ são duas DFTs menores. Para cada termo, $0 \\le m \\le \\frac{N}{2}$, mas $0 \\le k \\le N$, e metade dos valores serão os mesmos devido à simetria discutida anteriormente. Não há necessidade de parar por aqui, e poderíamos continuar dividindo cada termo pela metade até chegarmos aos últimos dois termos, que é a implementação do `Numpy`faz.\n",
    "\n",
    "Vamos agora importar a implementação da FFT do `Numpy` e recalcular o exemplo anterior."
   ]
  },
  {
   "cell_type": "code",
   "execution_count": null,
   "id": "72dabcfa",
   "metadata": {},
   "outputs": [],
   "source": [
    "from numpy.fft import fft"
   ]
  },
  {
   "cell_type": "code",
   "execution_count": null,
   "id": "8f54163e",
   "metadata": {},
   "outputs": [],
   "source": [
    "X = fft(x1)"
   ]
  },
  {
   "cell_type": "code",
   "execution_count": null,
   "id": "f64e8189",
   "metadata": {},
   "outputs": [],
   "source": [
    "plt.plot(f[:N//2], np.abs(X[:N//2]))\n",
    "plt.xlabel(\"$f_n (s^{-1})$\")\n",
    "plt.ylabel(\"$|X_k|$\");"
   ]
  },
  {
   "cell_type": "markdown",
   "id": "2b985303",
   "metadata": {},
   "source": [
    "Vamos verificar o tempo de execução"
   ]
  },
  {
   "cell_type": "code",
   "execution_count": null,
   "id": "6ec2b0a7",
   "metadata": {},
   "outputs": [],
   "source": [
    "%timeit fft(x1)"
   ]
  },
  {
   "cell_type": "markdown",
   "id": "4b64c93b",
   "metadata": {},
   "source": [
    "Como pode ser visto, houve uma redução drástica nos tempos de execução ao comparar a DFT e a implementação de FFT. Vamos continuar usando a FFT, definir novos sinais, e realizar alguns testes."
   ]
  },
  {
   "cell_type": "code",
   "execution_count": null,
   "id": "da8c70d8",
   "metadata": {},
   "outputs": [],
   "source": [
    "f2 = 10/(N*dt)\n",
    "f3 = (10+5*N)/(N*dt)"
   ]
  },
  {
   "cell_type": "code",
   "execution_count": null,
   "id": "3b3b0955",
   "metadata": {},
   "outputs": [],
   "source": [
    "round(f2, 4)"
   ]
  },
  {
   "cell_type": "code",
   "execution_count": null,
   "id": "6c4d0916",
   "metadata": {},
   "outputs": [],
   "source": [
    "round(f3, 4)"
   ]
  },
  {
   "cell_type": "code",
   "execution_count": null,
   "id": "59538705",
   "metadata": {},
   "outputs": [],
   "source": [
    "x2 = np.sin(2*np.pi*f2*t) + 0.1*np.random.randn(len(t))\n",
    "x3 = np.sin(2*np.pi*f3*t) + 0.1*np.random.randn(len(t))"
   ]
  },
  {
   "cell_type": "code",
   "execution_count": null,
   "id": "30430573",
   "metadata": {},
   "outputs": [],
   "source": [
    "plt.plot(t, x2, label=\"f2\")\n",
    "plt.plot(t, x3, label=\"f3\")\n",
    "plt.legend()\n",
    "plt.xlabel(\"$t(s)$\")\n",
    "plt.ylabel(\"Amplitude\");"
   ]
  },
  {
   "cell_type": "markdown",
   "id": "2ab70e69",
   "metadata": {},
   "source": [
    "Perceba que a frequência f3 é bem mais alta que a frequência f2, mas ao plotarmos, elas parecem a mesma. Por quê? Vamos computar a FFT dos sinais."
   ]
  },
  {
   "cell_type": "code",
   "execution_count": null,
   "id": "8228f7d7",
   "metadata": {},
   "outputs": [],
   "source": [
    "x2_FFT = fft(x2)\n",
    "x3_FFT = fft(x3)"
   ]
  },
  {
   "cell_type": "code",
   "execution_count": null,
   "id": "5ca1ae08",
   "metadata": {},
   "outputs": [],
   "source": [
    "plt.plot(f[:N//2], np.abs(x2_FFT[:N//2]), label=\"$X_2$\")\n",
    "plt.plot(f[:N//2], np.abs(x3_FFT[:N//2]), 'r--', label=\"$X_3$\")\n",
    "plt.axvline(f_ny, ls=\"--\", color=\"k\")\n",
    "plt.xlabel(\"$f_n (s_{-1})$\")\n",
    "plt.legend()\n",
    "plt.ylabel(\"$|X_k|$\");"
   ]
  },
  {
   "cell_type": "markdown",
   "id": "8e69e7b1",
   "metadata": {},
   "source": [
    "Os gráficos das transformadas de Fourier dos dois sinais parecem os mesmos. Isso acontece pois a amostragem adotada não foi capaz de recuperar o sinal com mais de 12 Hz, e ele foi \"colapsado\" em um pico de frequência bem menor, ou seja, ocorreu **aliasing** (a frequência de Nyquist é indicada pela reta preta)."
   ]
  }
 ],
 "metadata": {
  "kernelspec": {
   "display_name": "Python 3 (ipykernel)",
   "language": "python",
   "name": "python3"
  },
  "language_info": {
   "codemirror_mode": {
    "name": "ipython",
    "version": 3
   },
   "file_extension": ".py",
   "mimetype": "text/x-python",
   "name": "python",
   "nbconvert_exporter": "python",
   "pygments_lexer": "ipython3",
   "version": "3.7.12"
  }
 },
 "nbformat": 4,
 "nbformat_minor": 5
}
