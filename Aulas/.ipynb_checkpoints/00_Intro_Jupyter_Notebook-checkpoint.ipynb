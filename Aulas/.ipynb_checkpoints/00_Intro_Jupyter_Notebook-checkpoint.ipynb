{
 "cells": [
  {
   "cell_type": "markdown",
   "id": "8899ede8",
   "metadata": {},
   "source": [
    "# Introdução ao Jupyter Notebook\n",
    "\n",
    "Jupyter Notebook é um ambiente computacional que permite a criação de arquivos com a extensão .ipynb, onde textos explicativos (que podem incluir equações matemáticas, texto enriquecido, figuras) em formato [Markdown](https://pt.wikipedia.org/wiki/Markdown) são intercalados com códigos, onde há suporte para diversas linguagens de programação, em especial Julia, Python e R (daí a origem do nome Jupyter). As principais vantagens dos notebooks incluem a possibilidade de elaboração de conteúdos altamente didáticos, testes de pequenos trechos de códigos e visualização diretamente no navegador preferido do usuário.\n",
    "\n",
    "Há dois principais modos dentro do ambiente Jupyter:\n",
    "\n",
    "1. **Modo comando:** permite por exemplo criar, excluir e se movimentar entre as células. Para entrar no modo comando, basta pressionar a tecla **ESC** (indicado por uma faixa azul à esquerda da célula).\n",
    "2. **Modo edição:** permite escrever o conteúdo das células. Caso esteja no modo comando e queira entrar no modo edição, pressione **ENTER** ou clique duas vezes na célula. Faça um teste com esta célula para visualizar o código Markdown renderizado pelo programa. O modo edição é indicado por uma faixa verde ao lado da célula.\n",
    "\n",
    "Para executar uma célula use **CTRL+ENTER**, para executar uma célula e pular para a seguinte, use **SHIFT+ENTER**. A seguir, vamos verificar o comportamento de células de código."
   ]
  },
  {
   "cell_type": "markdown",
   "id": "ddd08dc2",
   "metadata": {},
   "source": [
    "# Executando código\n",
    "\n",
    "As células de código são identificadas por um **ln [XX]** à esquerda, onde **XX** representa a sequência na qual a execução ocorreu. Caso se depare com **ln [*]** por muito tempo, isso significa que a sua célula está sendo executada e que pode estar demorando pois a operação que deseja realizar é dispensiosa ou que de fato há algum erro de lógica (e.g. loop infinito). Repare que não é necessário executar as células de forma sequencial.\n",
    "\n",
    "Agora, execute a célula abaixo."
   ]
  },
  {
   "cell_type": "code",
   "execution_count": null,
   "id": "2d04fbca",
   "metadata": {},
   "outputs": [],
   "source": [
    "1+1"
   ]
  },
  {
   "cell_type": "markdown",
   "id": "5c8de39c",
   "metadata": {},
   "source": [
    "Aqui, o resultado da operação é indicado logo abaixo da célula por **Out[XX]: 2**. Caso queira omitir essa indicação, basta adicionar um ponto e vírgula ao final da linha (faça o teste, edite a célula anterior e execute-a novamente). Essa inspeção da saída de uma operação apresenta limitações, como apenas um resultado por célula, então muitas vezes é mais interessante utilizar a função print para imprimir os resultados de interesse."
   ]
  },
  {
   "cell_type": "code",
   "execution_count": null,
   "id": "7e1d78ae",
   "metadata": {},
   "outputs": [],
   "source": [
    "minha_var = 1 + 1\n",
    "print(minha_var)\n",
    "print(2*minha_var)"
   ]
  },
  {
   "cell_type": "markdown",
   "id": "d63e19a6",
   "metadata": {},
   "source": [
    "Com a função print há mais flexibilidade; veja a diferença entre as saídas das duas células, o que mudou?"
   ]
  },
  {
   "cell_type": "markdown",
   "id": "0814a810",
   "metadata": {},
   "source": [
    "# Alguns atalhos\n",
    "\n",
    "Para uma lista completa das funcionalidades do Jupyter, entre no modo comando e pressione **h**. Alguns atalhos muito práticos dentro do modo comando incluem:\n",
    "\n",
    "- **a**: cria uma célula acima;\n",
    "- **b**: cria uma célula abaixo;\n",
    "- **x**: exclui a célula selecionada;\n",
    "- **z**: desfazer;\n",
    "- **m**: transforma a célula em Markdown;\n",
    "- **y**: transforma a célula em código;\n",
    "- **j**: move uma célula para baixo;\n",
    "- **k**: move uma célula para cima."
   ]
  }
 ],
 "metadata": {
  "kernelspec": {
   "display_name": "Python 3",
   "language": "python",
   "name": "python3"
  },
  "language_info": {
   "codemirror_mode": {
    "name": "ipython",
    "version": 3
   },
   "file_extension": ".py",
   "mimetype": "text/x-python",
   "name": "python",
   "nbconvert_exporter": "python",
   "pygments_lexer": "ipython3",
   "version": "3.9.1"
  }
 },
 "nbformat": 4,
 "nbformat_minor": 5
}
