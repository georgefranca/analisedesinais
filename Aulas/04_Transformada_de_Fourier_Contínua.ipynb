{
 "cells": [
  {
   "cell_type": "markdown",
   "id": "90e19408",
   "metadata": {},
   "source": [
    "A **Transformada de Fourier** é uma relação matemática que permite passar uma função no domínio do tempo para o domínio da frequência, e vice versa. Primeiramente, vamos recapitular a equação da Série de Fourier complexa. Seja f periódica de período T e seccionalmente contínua. Sua série de Fourier complexa é dada por:\n",
    "\n",
    "$\\large f(t) = \\sum\\limits_{n=-\\infty}^{\\infty} e^{\\frac{i2\\pi n t}{T}}\\left (\\frac{1}{T} \\int\\limits_{-T/2}^{T/2}f(\\tau)e^{\\frac{-i2\\pi n\\tau}{T}} d\\tau \\right)$\n",
    "\n",
    "Vamos substituir $\\frac{2\\pi}{T}$ por $\\Delta\\omega$ e $n\\Delta\\omega$ por $\\omega_{n}$, de forma a deixar a expressão anterior parecida com uma soma de Riemann:\n",
    "\n",
    "$\\large f(t) = \\sum\\limits_{n=-\\infty}^{\\infty}e^{i\\omega_{n}t}\\frac{\\Delta\\omega}{2\\pi}\\int\\limits_{-\\pi/\\Delta\\omega}^{\\pi/\\Delta\\omega}f(\\tau)e^{-i\\omega_{n}\\tau} d\\tau$\n",
    "\n",
    "**Integral de Riemann:** Lembre-se que: $\\large \\int\\limits_{a}^{b} g(x) dx = lim_{N\\rightarrow\\infty,\\Delta x \\rightarrow 0} \\sum\\limits_{n=0}^{N}g(n\\Delta x + a) \\Delta x$\n",
    "\n",
    "Se imaginarmos que uma função aperiódica pode ser interpretada como uma função periódica cujo período T é infinito, observamos que no limite $T \\rightarrow \\infty$, temos $\\Delta\\omega \\rightarrow 0$, o que nos dá:\n",
    "\n",
    "$\\large f(t) = \\frac{1}{2\\pi}\\int\\limits_{-\\infty}^{\\infty}e^{i\\omega t} \\hat{f}(\\omega)d\\omega$\n",
    "\n",
    "A equação acima define a Transformada Inversa de Fourier. A expressão para $\\hat{f}(\\omega)$ determina a Transformada de Fourier:\n",
    "\n",
    "$\\large \\hat{f}(\\omega) = \\int\\limits_{-\\infty}^{\\infty}f(t)e^{-i\\omega t} dt$\n",
    "\n",
    "**Exemplo.** Considere a função $f(t) = \\begin{cases}A, & -a \\le t \\le a \\\\ 0, & caso & contrário \\end{cases}$.\n",
    "\n",
    "A Transformada de Fourier é dada por:\n",
    "\n",
    "$\\large \\hat{f}(\\omega) = \\int\\limits_{-\\infty}^{\\infty}f(t)e^{-i\\omega t} dt = A \\int\\limits_{-a}^{a}e^{-i\\omega t} = A\\frac{e^{-i\\omega t}}{-i\\omega t}|_{-a}^{a} = \\frac{2A}{\\omega}sen(\\omega a) = 2Aa\\frac{sen(\\omega a)}{\\omega a}$"
   ]
  },
  {
   "cell_type": "code",
   "execution_count": null,
   "id": "fe8f3ecb",
   "metadata": {},
   "outputs": [],
   "source": []
  }
 ],
 "metadata": {
  "kernelspec": {
   "display_name": "Python 3 (ipykernel)",
   "language": "python",
   "name": "python3"
  },
  "language_info": {
   "codemirror_mode": {
    "name": "ipython",
    "version": 3
   },
   "file_extension": ".py",
   "mimetype": "text/x-python",
   "name": "python",
   "nbconvert_exporter": "python",
   "pygments_lexer": "ipython3",
   "version": "3.7.12"
  }
 },
 "nbformat": 4,
 "nbformat_minor": 5
}
