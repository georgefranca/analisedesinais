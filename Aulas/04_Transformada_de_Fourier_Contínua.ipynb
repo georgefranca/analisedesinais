{
 "cells": [
  {
   "cell_type": "markdown",
   "id": "90e19408",
   "metadata": {},
   "source": [
    "# 1. Introdução\n",
    "\n",
    "A **Transformada de Fourier** é uma relação matemática que permite passar uma função no domínio do tempo (ou do espaço) para o domínio da frequência (ou do número de onda), e vice versa. Primeiramente, vamos recapitular a equação da Série de Fourier complexa. Seja f periódica de período T e seccionalmente contínua. Sua série de Fourier complexa é dada por:\n",
    "\n",
    "$\\large \\displaystyle{f(t) = \\sum_{n=-\\infty}^{\\infty} e^{\\frac{i2\\pi n t}{T}}\\left (\\frac{1}{T} \\int\\limits_{-T/2}^{T/2}f(\\tau)e^{\\frac{-i2\\pi n\\tau}{T}} d\\tau \\right)}$\n",
    "\n",
    "Vamos substituir $\\frac{2\\pi}{T}$ por $\\Delta\\omega$ e $n\\Delta\\omega$ por $\\omega_{n}$, de forma a deixar a expressão anterior parecida com uma soma de Riemann:\n",
    "\n",
    "$\\large \\displaystyle{f(t) = \\sum\\limits_{n=-\\infty}^{\\infty}e^{i\\omega_{n}t}\\frac{\\Delta\\omega}{2\\pi}\\int\\limits_{-\\pi/\\Delta\\omega}^{\\pi/\\Delta\\omega}f(\\tau)e^{-i\\omega_{n}\\tau} d\\tau}$\n",
    "\n",
    "**Integral de Riemann:** Lembre-se que: $\\large \\displaystyle{\\int\\limits_{a}^{b} g(x) dx = lim_{N\\rightarrow\\infty,\\Delta x \\rightarrow 0} \\sum\\limits_{n=0}^{N}g(n\\Delta x + a) \\Delta x}$\n",
    "\n",
    "Se imaginarmos que uma função aperiódica pode ser interpretada como uma função periódica cujo período T é infinito, observamos que no limite $T \\rightarrow \\infty$, temos $\\Delta\\omega \\rightarrow 0$, o que nos dá:\n",
    "\n",
    "$\\large \\displaystyle{f(t) = \\frac{1}{2\\pi}\\int\\limits_{-\\infty}^{\\infty}e^{i\\omega t} \\hat{f}(\\omega)d\\omega}$\n",
    "\n",
    "A equação acima define a Transformada Inversa de Fourier. A expressão para $\\hat{f}(\\omega)$ determina a Transformada de Fourier:\n",
    "\n",
    "$\\large \\displaystyle{\\hat{f}(\\omega) = \\int\\limits_{-\\infty}^{\\infty}f(t)e^{-i\\omega t} dt}$\n",
    "\n",
    "**Exemplo.** Considere a função $\\displaystyle{f(t) = \\begin{cases}A, & -a \\le t \\le a \\\\ 0, & caso & contrário \\end{cases}}$.\n",
    "\n",
    "A Transformada de Fourier é dada por:\n",
    "\n",
    "$\\large \\displaystyle{\\hat{f}(\\omega) = \\int\\limits_{-\\infty}^{\\infty}f(t)e^{-i\\omega t} dt = A \\int\\limits_{-a}^{a}e^{-i\\omega t} = A\\frac{e^{-i\\omega t}}{-i\\omega t}|_{-a}^{a} = \\frac{2A}{\\omega}sen(\\omega a) = 2Aa\\frac{sen(\\omega a)}{\\omega a}}$\n",
    "\n",
    "Vamos agora passar para exemplos de implementação em Python."
   ]
  },
  {
   "cell_type": "code",
   "execution_count": null,
   "id": "fe8f3ecb",
   "metadata": {},
   "outputs": [],
   "source": [
    "# importando bibliotecas\n",
    "\n",
    "import numpy as np\n",
    "import matplotlib.pyplot as plt\n",
    "# pip install sympy\n",
    "import sympy as smp\n",
    "from scipy.fft import fftfreq, fft"
   ]
  },
  {
   "cell_type": "markdown",
   "id": "23e8d3fc",
   "metadata": {},
   "source": [
    "Antes de começarmos, vamos pegar a definição anterior da Transformada de Fourier e sua inversa e vamos reescrevê-la, modificando ligeiramente a nomenclatura e lembrando que $\\omega = \\frac{2\\pi}{T} = 2\\pi f$. Vamos lidar somente com transformações entre tempo e frequência, mas lembre-se que transformações com espaço e número de onda são análogas.\n",
    "\n",
    "$\\large \\displaystyle{\\hat{x}(f) = \\int\\limits_{-\\infty}^{\\infty}x(t)e^{-2\\pi ift} dt}$\n",
    "\n",
    "e a transformada inversa\n",
    "\n",
    "$\\large \\displaystyle{x(t) = \\frac{1}{2\\pi}\\int\\limits_{-\\infty}^{\\infty}e^{2\\pi ift}\\hat{x}(f) df} $\n",
    "\n",
    "# 2. Transformada de Fourier (tempo e frequência contínuos)\n",
    "\n",
    "Esse primeiro caso acontece quando a forma funcional da sua série temporal é conhecida analiticamente, ou seja, você possui uma fórmula do tipo x(t) = ..., e vai de $-\\infty$ a $\\infty$.\n",
    "\n",
    "Para resolver **analiticamente** (se possível) vamos utilizar a biblioteca chamada [SymPy](https://www.sympy.org/pt/index.html), que é uma biblioteca para lidar com matemática simbólica.\n",
    "\n",
    "**Exemplo.** Encontre a transformada de Fourier de $e^{-t^{2}}$."
   ]
  },
  {
   "cell_type": "code",
   "execution_count": null,
   "id": "8998cf6e",
   "metadata": {},
   "outputs": [],
   "source": [
    "# definindo variáveis simbólicas\n",
    "t, f = smp.symbols(\"t f\", real=True)\n",
    "x = smp.exp(-t**2)\n",
    "x"
   ]
  },
  {
   "cell_type": "code",
   "execution_count": null,
   "id": "b7c15670",
   "metadata": {},
   "outputs": [],
   "source": [
    "# vamos utilizar o método integrate e escrever nossa equação\n",
    "# da transformada de Fourier\n",
    "\n",
    "xf = smp.integrate(x*smp.exp(-2*smp.pi*smp.I*f*t), (t, -smp.oo, smp.oo))\n",
    "xf"
   ]
  },
  {
   "cell_type": "code",
   "execution_count": null,
   "id": "d564baf7",
   "metadata": {},
   "outputs": [],
   "source": [
    "# podemos simplificar o resultado\n",
    "\n",
    "xf = xf.simplify()\n",
    "xf"
   ]
  },
  {
   "cell_type": "code",
   "execution_count": null,
   "id": "931280ca",
   "metadata": {},
   "outputs": [],
   "source": [
    "# para não precisar escrever a integral todas as vezes, podemos importar um método\n",
    "\n",
    "from sympy.integrals.transforms import fourier_transform\n",
    "\n",
    "fourier_transform(x, t, f).simplify()"
   ]
  },
  {
   "cell_type": "code",
   "execution_count": null,
   "id": "118b91d4",
   "metadata": {},
   "outputs": [],
   "source": [
    "# para fins de teste, vamos recuperar a função x(t)\n",
    "\n",
    "xf = smp.sqrt(smp.pi)*smp.exp(-smp.pi**2*f**2)\n",
    "xf"
   ]
  },
  {
   "cell_type": "code",
   "execution_count": null,
   "id": "71317159",
   "metadata": {},
   "outputs": [],
   "source": [
    "from sympy.integrals.transforms import inverse_fourier_transform"
   ]
  },
  {
   "cell_type": "code",
   "execution_count": null,
   "id": "0e4ab82b",
   "metadata": {},
   "outputs": [],
   "source": [
    "inverse_fourier_transform(xf, f, t)"
   ]
  },
  {
   "cell_type": "markdown",
   "id": "9bad82b4",
   "metadata": {},
   "source": [
    "O SymPy nos poupou um bom tempo resolvendo no papel! \n",
    "\n",
    "**Exercício.** Agora, encontre a transformada de Fourier de $\\large x(t) = cte^{-ct^2}$, onde c é uma constante positiva (dica: certifique-se que c é positiva, ao definí-la simbolicamente)."
   ]
  },
  {
   "cell_type": "code",
   "execution_count": null,
   "id": "e0120a16",
   "metadata": {},
   "outputs": [],
   "source": []
  },
  {
   "cell_type": "markdown",
   "id": "4a039077",
   "metadata": {},
   "source": [
    "**Exercício.** Encontre a transformada de Fourier de $\\large x(t) = b cos(t^2)$, onde b é uma constante positiva."
   ]
  },
  {
   "cell_type": "code",
   "execution_count": null,
   "id": "ce154bc8",
   "metadata": {},
   "outputs": [],
   "source": []
  },
  {
   "cell_type": "markdown",
   "id": "c281a25f",
   "metadata": {},
   "source": [
    "**Exercício.** Plote o gráfico do resultado do item anterior (dica: crie um vetor de frequências e fixe o valor de b)."
   ]
  },
  {
   "cell_type": "code",
   "execution_count": null,
   "id": "7ad43ed8",
   "metadata": {},
   "outputs": [],
   "source": []
  },
  {
   "cell_type": "markdown",
   "id": "8ce6d3b2",
   "metadata": {},
   "source": [
    "**Exercício.** Encontre a transformada de Fourier de $\\large x(t) = e^{-ct^{2}}sin{(ct)}t^{4}$, onde c é uma constante positiva."
   ]
  },
  {
   "cell_type": "code",
   "execution_count": null,
   "id": "059006d2",
   "metadata": {},
   "outputs": [],
   "source": []
  },
  {
   "cell_type": "markdown",
   "id": "6735b31a",
   "metadata": {},
   "source": [
    "Pare a execução da célula do exercício anterior, se você escreveu corretamente ela irá continuar sendo executada indefinidamente. Em alguns casos não é possível encontrar a TF analiticamente, e teremos que calculá-la numericamente usando o [SciPy](https://scipy.org)."
   ]
  },
  {
   "cell_type": "code",
   "execution_count": null,
   "id": "e74fb4d2",
   "metadata": {},
   "outputs": [],
   "source": [
    "# importando método para calcular integral definida\n",
    "from scipy.integrate import quad"
   ]
  },
  {
   "cell_type": "markdown",
   "id": "5227fa8a",
   "metadata": {},
   "source": [
    "Vamos definir a função à qual queremos aplicar a transformada de Fourier e uma função para calcular a transformada de Fourier"
   ]
  },
  {
   "cell_type": "code",
   "execution_count": null,
   "id": "f6ec478d",
   "metadata": {},
   "outputs": [],
   "source": [
    "def x(t, c):\n",
    "    return np.exp(-c*t**2)*np.sin(c*t)*t**4\n",
    "\n",
    "def calc_TF_x(x, f, c):\n",
    "    # scipy não trabalha com numeros complexos ao calcular integrais\n",
    "    # então, vamos separar as partes real e imaginária do integrando\n",
    "    x_TF_integrand_real = lambda t: np.real(x(t, c)*np.exp(-2*np.pi*1j*f*t))\n",
    "    x_TF_integrand_complex = lambda t: np.imag(x(t, c)*np.exp(-2*np.pi*1j*f*t))\n",
    "    # agora vamos integrar as partes separadamente\n",
    "    TF_x_real = quad(x_TF_integrand_real, -np.inf, np.inf)[0]\n",
    "    TF_x_complex = quad(x_TF_integrand_complex, -np.inf, np.inf)[0]\n",
    "    return TF_x_real + 1j*TF_x_complex"
   ]
  },
  {
   "cell_type": "markdown",
   "id": "b29dba8d",
   "metadata": {},
   "source": [
    "Agora, vamos criar um vetor de frequências e computar as respectivas transformadas."
   ]
  },
  {
   "cell_type": "code",
   "execution_count": null,
   "id": "00f638b0",
   "metadata": {},
   "outputs": [],
   "source": [
    "f = np.linspace(0, 5, 150)\n",
    "TF_x = np.vectorize(calc_TF_x)(x, f, c=2)"
   ]
  },
  {
   "cell_type": "code",
   "execution_count": null,
   "id": "42dada33",
   "metadata": {},
   "outputs": [],
   "source": [
    "plt.plot(f, np.abs(TF_x))\n",
    "plt.ylabel('$|\\hat{x}(f)|$')\n",
    "plt.xlabel(\"f\")"
   ]
  },
  {
   "cell_type": "markdown",
   "id": "b3e751ad",
   "metadata": {},
   "source": [
    "# 3. Transformada de Fourier discreta (tempo e frequência discretos)\n",
    "\n",
    "Muito provavelmente você não trabalhará com dados contínuos dentro da Geofísica, mas sim com uma série temporal $x_{t}$ medida durante um intervalo finito de tempo ($N$ medidas ao longo de um tempo $T$ implica que $N\\Delta t = T$). Para tanto, irá precisar de uma versão **discreta** da transformada de Fourier. Esse tema será abordado com detalhe nas próximas aulas, e iremos apenas introduzí-lo brevemente aqui. A transformada de Fourier é definida como:\n",
    "\n",
    "$\\large \\displaystyle{\\hat{x}(f_{n}) = \\sum\\limits_{k=0}^{N-1}x_t e^{-2\\pi if_n(k\\Delta t)}\\Delta t} = \\sum\\limits_{k=0}^{N-1}x_t e^{-2\\pi ikn/N}\\Delta t$\n",
    "\n",
    "$\\large \\displaystyle{f_n = \\frac{n}{N\\Delta t}}$\n",
    "\n",
    "onde $f_n$ são as chamadas frequências de Fourier, N é o número de medidas e k é a amostra na qual estamos. Vamos criar um sinal e calcular sua transformada de Fourier com o algoritmo FFT."
   ]
  },
  {
   "cell_type": "code",
   "execution_count": null,
   "id": "cb24df25",
   "metadata": {},
   "outputs": [],
   "source": [
    "T = 1 # segundos\n",
    "N = 100 # número de medidas\n",
    "t = np.linspace(0, T, N) # vetor de tempos\n",
    "dt = t[1] - t[0] "
   ]
  },
  {
   "cell_type": "code",
   "execution_count": null,
   "id": "9e813593",
   "metadata": {},
   "outputs": [],
   "source": [
    "freq = 1.\n",
    "x = 3*np.sin(2*np.pi*freq*t)\n",
    "\n",
    "freq = 4\n",
    "x += np.sin(2*np.pi*freq*t)\n",
    "\n",
    "freq = 7   \n",
    "x += 0.5* np.sin(2*np.pi*freq*t)\n",
    "\n",
    "plt.figure(figsize = (8, 6))\n",
    "plt.plot(t, x)\n",
    "plt.ylabel('$Amplitude$')\n",
    "plt.xlabel('$t (s)$')\n",
    "\n",
    "plt.show()"
   ]
  },
  {
   "cell_type": "code",
   "execution_count": null,
   "id": "4beeaf42",
   "metadata": {},
   "outputs": [],
   "source": [
    "# criando um vetor de frequências\n",
    "f = fftfreq(len(t), dt)\n",
    "# calculando a FFT\n",
    "x_FFT = fft(x)"
   ]
  },
  {
   "cell_type": "code",
   "execution_count": null,
   "id": "1e90d691",
   "metadata": {},
   "outputs": [],
   "source": [
    "# plotando\n",
    "plt.plot(f, np.abs(x_FFT))\n",
    "plt.ylabel(\"$|\\hat{x}(f)|$\")\n",
    "plt.xlabel(\"$f (Hz)$\")\n",
    "plt.show()"
   ]
  },
  {
   "cell_type": "code",
   "execution_count": null,
   "id": "d636d58e",
   "metadata": {},
   "outputs": [],
   "source": [
    "# a transformada é simétrica em torno do zero\n",
    "# vamos plotar apenas metade\n",
    "plt.plot(f[:N//2], np.abs(x_FFT[:N//2]))\n",
    "plt.ylabel(\"$|\\hat{x}(f)|$\")\n",
    "plt.xlabel(\"$f (Hz)$\")\n",
    "plt.show()"
   ]
  },
  {
   "cell_type": "code",
   "execution_count": null,
   "id": "a1e3d4a8",
   "metadata": {},
   "outputs": [],
   "source": [
    "# por fim, vamos dar um zoom nas frequências < 10 Hz\n",
    "\n",
    "plt.plot(f[:N//2], np.abs(x_FFT[:N//2]))\n",
    "plt.xlim([0, 10])\n",
    "plt.ylabel(\"$|\\hat{x}(f)|$\")\n",
    "plt.xlabel(\"$f (Hz)$\")\n",
    "plt.show()"
   ]
  },
  {
   "cell_type": "markdown",
   "id": "d7a9298c",
   "metadata": {},
   "source": [
    "Percebemos a presença de 3 picos, justamente em torno das frequências que definimos: 1, 3 e 7 Hz. Além disso, a amplitude dos picos reflete as amplitudes que definimos: 3, 1 e 0.5.\n",
    "\n",
    "**Exercício.** Contamine o sinal anterior com ruído aleatório e avalie como a transformada de Fourier é afetada, plotando o resultado."
   ]
  },
  {
   "cell_type": "code",
   "execution_count": null,
   "id": "b6eef254",
   "metadata": {},
   "outputs": [],
   "source": []
  }
 ],
 "metadata": {
  "kernelspec": {
   "display_name": "Python 3 (ipykernel)",
   "language": "python",
   "name": "python3"
  },
  "language_info": {
   "codemirror_mode": {
    "name": "ipython",
    "version": 3
   },
   "file_extension": ".py",
   "mimetype": "text/x-python",
   "name": "python",
   "nbconvert_exporter": "python",
   "pygments_lexer": "ipython3",
   "version": "3.7.12"
  }
 },
 "nbformat": 4,
 "nbformat_minor": 5
}
